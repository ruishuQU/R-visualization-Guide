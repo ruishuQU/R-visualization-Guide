{
 "cells": [
  {
   "cell_type": "markdown",
   "metadata": {
    "ExecuteTime": {
     "end_time": "2022-01-07T15:22:24.501414Z",
     "start_time": "2022-01-07T15:22:24.484460Z"
    }
   },
   "source": [
    "# 2  数据处理与探索\n",
    "数据探索是在数据科学中很重要的步骤，也是可视化中的关键一环。\n",
    "\n",
    "数据探索包括数据的清洗、数据的转换。\n",
    "\n",
    "tidyverse提供了完整的数据科学的流程，使用tidyverse可以非常方便的进行数据相关的处理。"
   ]
  },
  {
   "cell_type": "markdown",
   "metadata": {},
   "source": [
    "## 2.1 数据转换\n",
    "在对数据尽心可视化，对数据进行分析之前，常常需要对数据进行各种的转换，以将数据转变成为整洁的数据。tidyverse包中的子包dplyr提供了很多函数对于数据集进行各种各样的处理。dplyr是tidyverse中非常重要的一个包，在对数据进行可视化，建模之前，往往会对数据集使用dplyr包进行处理。\n",
    "dplyr包有几个关键的函数，这些函数囊括了数据转换的全部功能。这些函数包括：filter，arrange，select，mutate，summarize。其中filter函数用于筛选数据的行；arrange函数用于对数据进行排序；select函数用于筛选数据的列；mutate函数用于生成新的变量。summarize函数用于计算数据的一些统计指标。\n",
    "\n",
    "另外一个比较常用的函数式group_by函数，这个函数常常被用于对数据进行分组汇总计算。\n",
    "### 2.1.1 筛选数据的行\n",
    "\n",
    "第一个要介绍的函数是filter函数，filter函数用于筛选数据集的行，用于创建一个关于数据集的子集。filter函数的第一个参数是需要处理的数据集。第二个参数是筛选数据集的条件。"
   ]
  },
  {
   "cell_type": "code",
   "execution_count": 1,
   "metadata": {
    "ExecuteTime": {
     "end_time": "2022-01-08T07:57:56.812150Z",
     "start_time": "2022-01-08T07:57:55.716Z"
    }
   },
   "outputs": [
    {
     "name": "stderr",
     "output_type": "stream",
     "text": [
      "载入需要的程辑包：tidyverse\n",
      "\n",
      "Warning message:\n",
      "\"程辑包'tidyverse'是用R版本4.1.2 来建造的\"\n",
      "-- \u001b[1mAttaching packages\u001b[22m ------------------------------------------------------------------------------- tidyverse 1.3.1 --\n",
      "\n",
      "\u001b[32mv\u001b[39m \u001b[34mggplot2\u001b[39m 3.3.5     \u001b[32mv\u001b[39m \u001b[34mpurrr  \u001b[39m 0.3.4\n",
      "\u001b[32mv\u001b[39m \u001b[34mtibble \u001b[39m 3.1.4     \u001b[32mv\u001b[39m \u001b[34mdplyr  \u001b[39m 1.0.7\n",
      "\u001b[32mv\u001b[39m \u001b[34mtidyr  \u001b[39m 1.1.3     \u001b[32mv\u001b[39m \u001b[34mstringr\u001b[39m 1.4.0\n",
      "\u001b[32mv\u001b[39m \u001b[34mreadr  \u001b[39m 2.1.1     \u001b[32mv\u001b[39m \u001b[34mforcats\u001b[39m 0.5.1\n",
      "\n",
      "Warning message:\n",
      "\"程辑包'ggplot2'是用R版本4.1.2 来建造的\"\n",
      "Warning message:\n",
      "\"程辑包'readr'是用R版本4.1.2 来建造的\"\n",
      "-- \u001b[1mConflicts\u001b[22m ---------------------------------------------------------------------------------- tidyverse_conflicts() --\n",
      "\u001b[31mx\u001b[39m \u001b[34mdplyr\u001b[39m::\u001b[32mfilter()\u001b[39m  masks \u001b[34mstats\u001b[39m::filter()\n",
      "\u001b[31mx\u001b[39m \u001b[34mpurrr\u001b[39m::\u001b[32mflatten()\u001b[39m masks \u001b[34mjsonlite\u001b[39m::flatten()\n",
      "\u001b[31mx\u001b[39m \u001b[34mdplyr\u001b[39m::\u001b[32mlag()\u001b[39m     masks \u001b[34mstats\u001b[39m::lag()\n",
      "\n"
     ]
    }
   ],
   "source": [
    "#install.packages(\"tidyverse\")\n",
    "require(tidyverse) # 加载相关的包\n",
    "\n"
   ]
  },
  {
   "cell_type": "code",
   "execution_count": 2,
   "metadata": {
    "ExecuteTime": {
     "end_time": "2022-01-08T07:58:02.999083Z",
     "start_time": "2022-01-08T07:58:02.965Z"
    }
   },
   "outputs": [
    {
     "data": {
      "text/html": [
       "<table class=\"dataframe\">\n",
       "<caption>A data.frame: 3 × 5</caption>\n",
       "<thead>\n",
       "\t<tr><th></th><th scope=col>Sepal.Length</th><th scope=col>Sepal.Width</th><th scope=col>Petal.Length</th><th scope=col>Petal.Width</th><th scope=col>Species</th></tr>\n",
       "\t<tr><th></th><th scope=col>&lt;dbl&gt;</th><th scope=col>&lt;dbl&gt;</th><th scope=col>&lt;dbl&gt;</th><th scope=col>&lt;dbl&gt;</th><th scope=col>&lt;fct&gt;</th></tr>\n",
       "</thead>\n",
       "<tbody>\n",
       "\t<tr><th scope=row>1</th><td>5.1</td><td>3.5</td><td>1.4</td><td>0.2</td><td>setosa</td></tr>\n",
       "\t<tr><th scope=row>2</th><td>4.9</td><td>3.0</td><td>1.4</td><td>0.2</td><td>setosa</td></tr>\n",
       "\t<tr><th scope=row>3</th><td>4.7</td><td>3.2</td><td>1.3</td><td>0.2</td><td>setosa</td></tr>\n",
       "</tbody>\n",
       "</table>\n"
      ],
      "text/latex": [
       "A data.frame: 3 × 5\n",
       "\\begin{tabular}{r|lllll}\n",
       "  & Sepal.Length & Sepal.Width & Petal.Length & Petal.Width & Species\\\\\n",
       "  & <dbl> & <dbl> & <dbl> & <dbl> & <fct>\\\\\n",
       "\\hline\n",
       "\t1 & 5.1 & 3.5 & 1.4 & 0.2 & setosa\\\\\n",
       "\t2 & 4.9 & 3.0 & 1.4 & 0.2 & setosa\\\\\n",
       "\t3 & 4.7 & 3.2 & 1.3 & 0.2 & setosa\\\\\n",
       "\\end{tabular}\n"
      ],
      "text/markdown": [
       "\n",
       "A data.frame: 3 × 5\n",
       "\n",
       "| <!--/--> | Sepal.Length &lt;dbl&gt; | Sepal.Width &lt;dbl&gt; | Petal.Length &lt;dbl&gt; | Petal.Width &lt;dbl&gt; | Species &lt;fct&gt; |\n",
       "|---|---|---|---|---|---|\n",
       "| 1 | 5.1 | 3.5 | 1.4 | 0.2 | setosa |\n",
       "| 2 | 4.9 | 3.0 | 1.4 | 0.2 | setosa |\n",
       "| 3 | 4.7 | 3.2 | 1.3 | 0.2 | setosa |\n",
       "\n"
      ],
      "text/plain": [
       "  Sepal.Length Sepal.Width Petal.Length Petal.Width Species\n",
       "1 5.1          3.5         1.4          0.2         setosa \n",
       "2 4.9          3.0         1.4          0.2         setosa \n",
       "3 4.7          3.2         1.3          0.2         setosa "
      ]
     },
     "metadata": {},
     "output_type": "display_data"
    }
   ],
   "source": [
    "iris %>% filter(Sepal.Length > 3) %>% head(3) # 筛选数据集"
   ]
  },
  {
   "cell_type": "markdown",
   "metadata": {},
   "source": [
    "总结一下常用的逻辑判断方式：\n",
    "\n",
    "1. ！ ：表示否等，‘!=’表示不等于\n",
    "2. %in% :表示是否在某一项向量中,例如，1 %in% c(1,2,3)，返回是TRUE\n",
    "3. %nin% :表示某一个值是否不再某一个向量中，例如， 1 %nin%% c(1,2,3)返回的是FALSE，需要注意的是，想要使用这个方法进行判断，需要加载Hmise包\n",
    "4. & ：表示并且\n",
    "5. | ：表示或者\n",
    "常用的函数总结如下：\n",
    "\n",
    " \n",
    "1. distinct : 去除重复的数据集\n",
    "2. sample_frac  :根据比例对于数据集进行抽样\n",
    "3. sample_n : 随机抽取一定的样本数量\n",
    "4. slice ：根据数据集的行数抽取数据\n",
    "5. top_n ：抽取数据集的前多少行\n",
    "上述五个函数的使用方式：\n",
    "\n",
    "distinct函数有三个参数，函数的定义形式为：```distinct(.data, ..., .keep_all = FALSE)```。第一个参数为data，表示需要处理的数据集。第二个参数是...,这是函数中的一个特殊的参数，表示将data参数之后的参数都作为参数输入，‘...’这个参数在不确定函数会输入几个参数的时候非常用用。keep_all参数用于指定是否保留所有的列。"
   ]
  },
  {
   "cell_type": "code",
   "execution_count": 3,
   "metadata": {
    "ExecuteTime": {
     "end_time": "2022-01-08T08:07:19.429553Z",
     "start_time": "2022-01-08T08:07:19.405Z"
    }
   },
   "outputs": [
    {
     "data": {
      "text/html": [
       "<table class=\"dataframe\">\n",
       "<caption>A data.frame: 5 × 2</caption>\n",
       "<thead>\n",
       "\t<tr><th scope=col>a</th><th scope=col>b</th></tr>\n",
       "\t<tr><th scope=col>&lt;dbl&gt;</th><th scope=col>&lt;dbl&gt;</th></tr>\n",
       "</thead>\n",
       "<tbody>\n",
       "\t<tr><td>1</td><td>2</td></tr>\n",
       "\t<tr><td>1</td><td>3</td></tr>\n",
       "\t<tr><td>2</td><td>4</td></tr>\n",
       "\t<tr><td>3</td><td>5</td></tr>\n",
       "\t<tr><td>3</td><td>5</td></tr>\n",
       "</tbody>\n",
       "</table>\n"
      ],
      "text/latex": [
       "A data.frame: 5 × 2\n",
       "\\begin{tabular}{ll}\n",
       " a & b\\\\\n",
       " <dbl> & <dbl>\\\\\n",
       "\\hline\n",
       "\t 1 & 2\\\\\n",
       "\t 1 & 3\\\\\n",
       "\t 2 & 4\\\\\n",
       "\t 3 & 5\\\\\n",
       "\t 3 & 5\\\\\n",
       "\\end{tabular}\n"
      ],
      "text/markdown": [
       "\n",
       "A data.frame: 5 × 2\n",
       "\n",
       "| a &lt;dbl&gt; | b &lt;dbl&gt; |\n",
       "|---|---|\n",
       "| 1 | 2 |\n",
       "| 1 | 3 |\n",
       "| 2 | 4 |\n",
       "| 3 | 5 |\n",
       "| 3 | 5 |\n",
       "\n"
      ],
      "text/plain": [
       "  a b\n",
       "1 1 2\n",
       "2 1 3\n",
       "3 2 4\n",
       "4 3 5\n",
       "5 3 5"
      ]
     },
     "metadata": {},
     "output_type": "display_data"
    }
   ],
   "source": [
    "tmp <- data.frame(a = c(1,1,2,3,3),b = c(2,3,4,5,5)) # 创建数据框\n",
    "tmp"
   ]
  },
  {
   "cell_type": "markdown",
   "metadata": {},
   "source": [
    "上面的代码中创建了一个简单的数据集，有两个变量。接下来使用distinct函数进行去重。首先根据变量a进行去除。"
   ]
  },
  {
   "cell_type": "code",
   "execution_count": 4,
   "metadata": {
    "ExecuteTime": {
     "end_time": "2022-01-08T08:37:00.246406Z",
     "start_time": "2022-01-08T08:37:00.220Z"
    }
   },
   "outputs": [
    {
     "data": {
      "text/html": [
       "<table class=\"dataframe\">\n",
       "<caption>A data.frame: 3 × 1</caption>\n",
       "<thead>\n",
       "\t<tr><th scope=col>a</th></tr>\n",
       "\t<tr><th scope=col>&lt;dbl&gt;</th></tr>\n",
       "</thead>\n",
       "<tbody>\n",
       "\t<tr><td>1</td></tr>\n",
       "\t<tr><td>2</td></tr>\n",
       "\t<tr><td>3</td></tr>\n",
       "</tbody>\n",
       "</table>\n"
      ],
      "text/latex": [
       "A data.frame: 3 × 1\n",
       "\\begin{tabular}{l}\n",
       " a\\\\\n",
       " <dbl>\\\\\n",
       "\\hline\n",
       "\t 1\\\\\n",
       "\t 2\\\\\n",
       "\t 3\\\\\n",
       "\\end{tabular}\n"
      ],
      "text/markdown": [
       "\n",
       "A data.frame: 3 × 1\n",
       "\n",
       "| a &lt;dbl&gt; |\n",
       "|---|\n",
       "| 1 |\n",
       "| 2 |\n",
       "| 3 |\n",
       "\n"
      ],
      "text/plain": [
       "  a\n",
       "1 1\n",
       "2 2\n",
       "3 3"
      ]
     },
     "metadata": {},
     "output_type": "display_data"
    }
   ],
   "source": [
    "tmp %>% distinct(a) # 对于数据进行去除重复数据"
   ]
  },
  {
   "cell_type": "markdown",
   "metadata": {},
   "source": [
    "上面的代码根据对数据集的a变量进行了去重，并且distinct函数返回了变量a去重之后的结果。如果想要返回的是根据a去重之后数据集所有变量的结果，需要制定参数.keep_all=TRUE："
   ]
  },
  {
   "cell_type": "code",
   "execution_count": 5,
   "metadata": {
    "ExecuteTime": {
     "end_time": "2022-01-08T08:37:24.545558Z",
     "start_time": "2022-01-08T08:37:24.522Z"
    },
    "scrolled": true
   },
   "outputs": [
    {
     "data": {
      "text/html": [
       "<table class=\"dataframe\">\n",
       "<caption>A data.frame: 3 × 2</caption>\n",
       "<thead>\n",
       "\t<tr><th scope=col>a</th><th scope=col>b</th></tr>\n",
       "\t<tr><th scope=col>&lt;dbl&gt;</th><th scope=col>&lt;dbl&gt;</th></tr>\n",
       "</thead>\n",
       "<tbody>\n",
       "\t<tr><td>1</td><td>2</td></tr>\n",
       "\t<tr><td>2</td><td>4</td></tr>\n",
       "\t<tr><td>3</td><td>5</td></tr>\n",
       "</tbody>\n",
       "</table>\n"
      ],
      "text/latex": [
       "A data.frame: 3 × 2\n",
       "\\begin{tabular}{ll}\n",
       " a & b\\\\\n",
       " <dbl> & <dbl>\\\\\n",
       "\\hline\n",
       "\t 1 & 2\\\\\n",
       "\t 2 & 4\\\\\n",
       "\t 3 & 5\\\\\n",
       "\\end{tabular}\n"
      ],
      "text/markdown": [
       "\n",
       "A data.frame: 3 × 2\n",
       "\n",
       "| a &lt;dbl&gt; | b &lt;dbl&gt; |\n",
       "|---|---|\n",
       "| 1 | 2 |\n",
       "| 2 | 4 |\n",
       "| 3 | 5 |\n",
       "\n"
      ],
      "text/plain": [
       "  a b\n",
       "1 1 2\n",
       "2 2 4\n",
       "3 3 5"
      ]
     },
     "metadata": {},
     "output_type": "display_data"
    }
   ],
   "source": [
    "tmp %>% distinct(a,.keep_all=TRUE) # 对数据集进行去重"
   ]
  },
  {
   "cell_type": "markdown",
   "metadata": {},
   "source": [
    "上面的代码根据a变量进行了去重，去除了a变量中重复的所有行，然后将剩下的数据作为结果返回。从结果中可以看到，b变量还有重复的数据，如果想要对于多个变量进行去重，调用多次distinct函数:"
   ]
  },
  {
   "cell_type": "code",
   "execution_count": 8,
   "metadata": {
    "ExecuteTime": {
     "end_time": "2022-01-08T08:42:33.740561Z",
     "start_time": "2022-01-08T08:42:33.717Z"
    }
   },
   "outputs": [
    {
     "data": {
      "text/html": [
       "<table class=\"dataframe\">\n",
       "<caption>A data.frame: 3 × 2</caption>\n",
       "<thead>\n",
       "\t<tr><th scope=col>a</th><th scope=col>b</th></tr>\n",
       "\t<tr><th scope=col>&lt;dbl&gt;</th><th scope=col>&lt;dbl&gt;</th></tr>\n",
       "</thead>\n",
       "<tbody>\n",
       "\t<tr><td>1</td><td>2</td></tr>\n",
       "\t<tr><td>2</td><td>4</td></tr>\n",
       "\t<tr><td>3</td><td>5</td></tr>\n",
       "</tbody>\n",
       "</table>\n"
      ],
      "text/latex": [
       "A data.frame: 3 × 2\n",
       "\\begin{tabular}{ll}\n",
       " a & b\\\\\n",
       " <dbl> & <dbl>\\\\\n",
       "\\hline\n",
       "\t 1 & 2\\\\\n",
       "\t 2 & 4\\\\\n",
       "\t 3 & 5\\\\\n",
       "\\end{tabular}\n"
      ],
      "text/markdown": [
       "\n",
       "A data.frame: 3 × 2\n",
       "\n",
       "| a &lt;dbl&gt; | b &lt;dbl&gt; |\n",
       "|---|---|\n",
       "| 1 | 2 |\n",
       "| 2 | 4 |\n",
       "| 3 | 5 |\n",
       "\n"
      ],
      "text/plain": [
       "  a b\n",
       "1 1 2\n",
       "2 2 4\n",
       "3 3 5"
      ]
     },
     "metadata": {},
     "output_type": "display_data"
    }
   ],
   "source": [
    "tmp %>% distinct(a,.keep_all = T) %>% distinct(b,.keep_all = T) # 对两个变量进行去重"
   ]
  },
  {
   "cell_type": "markdown",
   "metadata": {},
   "source": [
    "上面的代码分别对于a变量和b变量进行了去重，这样的话，每一个变量中都不带有重复的数据。但是还有另外另外一种情况，有一个数据集收集了人们的身份信息，包括姓名，身份证等等，如果要去重则不能单独根据姓名一个变量去重，而是姓名和身份证号码都重复了才认为是重复的。对于上面的例子，就是希望删除a变量和b变量同时一样的数据，"
   ]
  },
  {
   "cell_type": "code",
   "execution_count": 9,
   "metadata": {
    "ExecuteTime": {
     "end_time": "2022-01-08T08:46:12.951263Z",
     "start_time": "2022-01-08T08:46:12.927Z"
    }
   },
   "outputs": [
    {
     "data": {
      "text/html": [
       "<table class=\"dataframe\">\n",
       "<caption>A data.frame: 4 × 2</caption>\n",
       "<thead>\n",
       "\t<tr><th scope=col>a</th><th scope=col>b</th></tr>\n",
       "\t<tr><th scope=col>&lt;dbl&gt;</th><th scope=col>&lt;dbl&gt;</th></tr>\n",
       "</thead>\n",
       "<tbody>\n",
       "\t<tr><td>1</td><td>2</td></tr>\n",
       "\t<tr><td>1</td><td>3</td></tr>\n",
       "\t<tr><td>2</td><td>4</td></tr>\n",
       "\t<tr><td>3</td><td>5</td></tr>\n",
       "</tbody>\n",
       "</table>\n"
      ],
      "text/latex": [
       "A data.frame: 4 × 2\n",
       "\\begin{tabular}{ll}\n",
       " a & b\\\\\n",
       " <dbl> & <dbl>\\\\\n",
       "\\hline\n",
       "\t 1 & 2\\\\\n",
       "\t 1 & 3\\\\\n",
       "\t 2 & 4\\\\\n",
       "\t 3 & 5\\\\\n",
       "\\end{tabular}\n"
      ],
      "text/markdown": [
       "\n",
       "A data.frame: 4 × 2\n",
       "\n",
       "| a &lt;dbl&gt; | b &lt;dbl&gt; |\n",
       "|---|---|\n",
       "| 1 | 2 |\n",
       "| 1 | 3 |\n",
       "| 2 | 4 |\n",
       "| 3 | 5 |\n",
       "\n"
      ],
      "text/plain": [
       "  a b\n",
       "1 1 2\n",
       "2 1 3\n",
       "3 2 4\n",
       "4 3 5"
      ]
     },
     "metadata": {},
     "output_type": "display_data"
    }
   ],
   "source": [
    "tmp %>% distinct(a,b,.keep_all=TRUE) # 对两个变量进行去重"
   ]
  },
  {
   "cell_type": "markdown",
   "metadata": {},
   "source": [
    "上面的代码删除了a变量和b变量同时相同的数据。上面的代码等价于```distinct(tmp)```,默认对所有的变量进行去重。上面的方法对于数据集进行去重，几乎所有的去重要求都可以通过上面的方法实现。\n",
    "\n",
    "另外比较常用的函数是抽样函数，当我们需要对于数据集进行取子集的时候则可以使用，这些抽样函数包括sample_n,sample_frac.sample_fra函数用于对数据集合根据比例进行抽取"
   ]
  },
  {
   "cell_type": "code",
   "execution_count": 10,
   "metadata": {
    "ExecuteTime": {
     "end_time": "2022-01-08T08:46:35.354609Z",
     "start_time": "2022-01-08T08:46:35.321Z"
    }
   },
   "outputs": [
    {
     "data": {
      "text/html": [
       "<style>\n",
       ".list-inline {list-style: none; margin:0; padding: 0}\n",
       ".list-inline>li {display: inline-block}\n",
       ".list-inline>li:not(:last-child)::after {content: \"\\00b7\"; padding: 0 .5ex}\n",
       "</style>\n",
       "<ol class=list-inline><li>150</li><li>5</li></ol>\n"
      ],
      "text/latex": [
       "\\begin{enumerate*}\n",
       "\\item 150\n",
       "\\item 5\n",
       "\\end{enumerate*}\n"
      ],
      "text/markdown": [
       "1. 150\n",
       "2. 5\n",
       "\n",
       "\n"
      ],
      "text/plain": [
       "[1] 150   5"
      ]
     },
     "metadata": {},
     "output_type": "display_data"
    },
    {
     "data": {
      "text/html": [
       "<style>\n",
       ".list-inline {list-style: none; margin:0; padding: 0}\n",
       ".list-inline>li {display: inline-block}\n",
       ".list-inline>li:not(:last-child)::after {content: \"\\00b7\"; padding: 0 .5ex}\n",
       "</style>\n",
       "<ol class=list-inline><li>30</li><li>5</li></ol>\n"
      ],
      "text/latex": [
       "\\begin{enumerate*}\n",
       "\\item 30\n",
       "\\item 5\n",
       "\\end{enumerate*}\n"
      ],
      "text/markdown": [
       "1. 30\n",
       "2. 5\n",
       "\n",
       "\n"
      ],
      "text/plain": [
       "[1] 30  5"
      ]
     },
     "metadata": {},
     "output_type": "display_data"
    }
   ],
   "source": [
    "dim(iris) # 查看数据的维度\n",
    "\n",
    "sample_frac(tbl = iris,size = 0.2,replace = F) %>% dim() # 抽取数据 - 根据比例"
   ]
  },
  {
   "cell_type": "markdown",
   "metadata": {
    "ExecuteTime": {
     "end_time": "2022-01-08T09:02:23.564167Z",
     "start_time": "2022-01-08T09:02:23.548Z"
    }
   },
   "source": [
    "上面的代码对于iris数据集进行了抽样，sample_frac函数的第一个参数是所需要抽样的数据集，第二个参数是数据集的比例大小，是0-1中间的一个数值。replace函数用于指定是否进行又放回的抽样，第四个参数是weight，默认情况下所有行的数据的权重是一样的，意味着所有数据被抽取的可能性是一样的，如果不选择默认，weight必须等于一个与输入长度相同的非负数向量。权重自动标准化为1。sample_n函数用于直接抽取数据集的行"
   ]
  },
  {
   "cell_type": "code",
   "execution_count": 12,
   "metadata": {
    "ExecuteTime": {
     "end_time": "2022-01-08T15:06:00.444199Z",
     "start_time": "2022-01-08T15:06:00.320Z"
    }
   },
   "outputs": [
    {
     "data": {
      "text/html": [
       "<style>\n",
       ".list-inline {list-style: none; margin:0; padding: 0}\n",
       ".list-inline>li {display: inline-block}\n",
       ".list-inline>li:not(:last-child)::after {content: \"\\00b7\"; padding: 0 .5ex}\n",
       "</style>\n",
       "<ol class=list-inline><li>30</li><li>5</li></ol>\n"
      ],
      "text/latex": [
       "\\begin{enumerate*}\n",
       "\\item 30\n",
       "\\item 5\n",
       "\\end{enumerate*}\n"
      ],
      "text/markdown": [
       "1. 30\n",
       "2. 5\n",
       "\n",
       "\n"
      ],
      "text/plain": [
       "[1] 30  5"
      ]
     },
     "metadata": {},
     "output_type": "display_data"
    }
   ],
   "source": [
    "sample_n(tbl = iris,size = 30,replace = F) %>% dim() # 抽取数据-根据数量"
   ]
  },
  {
   "cell_type": "markdown",
   "metadata": {},
   "source": [
    "上面的代码与之前的代码是等价的，之前的代码```sample_frac(tbl = iris,size = 0.2,replace = F)```表明抽取数据集的20%的数据，也就是30条数据。后面的代码直接指定抽取30条数据。这就意味着最终两种方式都是抽取了30条数据集。\n",
    "\n",
    "slice函数用于根据数据集的行来抽取数据，假设想要抽取数据集的前10行的数据，或者想要中间某个范围的数据，则可以使用slice函数\n"
   ]
  },
  {
   "cell_type": "code",
   "execution_count": 13,
   "metadata": {
    "ExecuteTime": {
     "end_time": "2022-01-08T15:26:41.892409Z",
     "start_time": "2022-01-08T15:26:41.864Z"
    }
   },
   "outputs": [
    {
     "data": {
      "text/html": [
       "<table class=\"dataframe\">\n",
       "<caption>A data.frame: 6 × 5</caption>\n",
       "<thead>\n",
       "\t<tr><th scope=col>Sepal.Length</th><th scope=col>Sepal.Width</th><th scope=col>Petal.Length</th><th scope=col>Petal.Width</th><th scope=col>Species</th></tr>\n",
       "\t<tr><th scope=col>&lt;dbl&gt;</th><th scope=col>&lt;dbl&gt;</th><th scope=col>&lt;dbl&gt;</th><th scope=col>&lt;dbl&gt;</th><th scope=col>&lt;fct&gt;</th></tr>\n",
       "</thead>\n",
       "<tbody>\n",
       "\t<tr><td>5.0</td><td>3.6</td><td>1.4</td><td>0.2</td><td>setosa</td></tr>\n",
       "\t<tr><td>5.4</td><td>3.9</td><td>1.7</td><td>0.4</td><td>setosa</td></tr>\n",
       "\t<tr><td>4.6</td><td>3.4</td><td>1.4</td><td>0.3</td><td>setosa</td></tr>\n",
       "\t<tr><td>5.0</td><td>3.4</td><td>1.5</td><td>0.2</td><td>setosa</td></tr>\n",
       "\t<tr><td>4.4</td><td>2.9</td><td>1.4</td><td>0.2</td><td>setosa</td></tr>\n",
       "\t<tr><td>4.9</td><td>3.1</td><td>1.5</td><td>0.1</td><td>setosa</td></tr>\n",
       "</tbody>\n",
       "</table>\n"
      ],
      "text/latex": [
       "A data.frame: 6 × 5\n",
       "\\begin{tabular}{lllll}\n",
       " Sepal.Length & Sepal.Width & Petal.Length & Petal.Width & Species\\\\\n",
       " <dbl> & <dbl> & <dbl> & <dbl> & <fct>\\\\\n",
       "\\hline\n",
       "\t 5.0 & 3.6 & 1.4 & 0.2 & setosa\\\\\n",
       "\t 5.4 & 3.9 & 1.7 & 0.4 & setosa\\\\\n",
       "\t 4.6 & 3.4 & 1.4 & 0.3 & setosa\\\\\n",
       "\t 5.0 & 3.4 & 1.5 & 0.2 & setosa\\\\\n",
       "\t 4.4 & 2.9 & 1.4 & 0.2 & setosa\\\\\n",
       "\t 4.9 & 3.1 & 1.5 & 0.1 & setosa\\\\\n",
       "\\end{tabular}\n"
      ],
      "text/markdown": [
       "\n",
       "A data.frame: 6 × 5\n",
       "\n",
       "| Sepal.Length &lt;dbl&gt; | Sepal.Width &lt;dbl&gt; | Petal.Length &lt;dbl&gt; | Petal.Width &lt;dbl&gt; | Species &lt;fct&gt; |\n",
       "|---|---|---|---|---|\n",
       "| 5.0 | 3.6 | 1.4 | 0.2 | setosa |\n",
       "| 5.4 | 3.9 | 1.7 | 0.4 | setosa |\n",
       "| 4.6 | 3.4 | 1.4 | 0.3 | setosa |\n",
       "| 5.0 | 3.4 | 1.5 | 0.2 | setosa |\n",
       "| 4.4 | 2.9 | 1.4 | 0.2 | setosa |\n",
       "| 4.9 | 3.1 | 1.5 | 0.1 | setosa |\n",
       "\n"
      ],
      "text/plain": [
       "  Sepal.Length Sepal.Width Petal.Length Petal.Width Species\n",
       "1 5.0          3.6         1.4          0.2         setosa \n",
       "2 5.4          3.9         1.7          0.4         setosa \n",
       "3 4.6          3.4         1.4          0.3         setosa \n",
       "4 5.0          3.4         1.5          0.2         setosa \n",
       "5 4.4          2.9         1.4          0.2         setosa \n",
       "6 4.9          3.1         1.5          0.1         setosa "
      ]
     },
     "metadata": {},
     "output_type": "display_data"
    }
   ],
   "source": [
    "iris %>% slice(5:10) # 选取数据集合的前十行"
   ]
  },
  {
   "cell_type": "markdown",
   "metadata": {},
   "source": [
    "上面的代码用于抽取了iris数据集中第五行到第十行的数据集.其实使用filter函数同样可以实现这样的功能。上面的代码等价于"
   ]
  },
  {
   "cell_type": "code",
   "execution_count": 14,
   "metadata": {
    "ExecuteTime": {
     "end_time": "2022-01-08T15:27:46.357795Z",
     "start_time": "2022-01-08T15:27:46.332Z"
    }
   },
   "outputs": [
    {
     "data": {
      "text/html": [
       "<table class=\"dataframe\">\n",
       "<caption>A data.frame: 6 × 5</caption>\n",
       "<thead>\n",
       "\t<tr><th scope=col>Sepal.Length</th><th scope=col>Sepal.Width</th><th scope=col>Petal.Length</th><th scope=col>Petal.Width</th><th scope=col>Species</th></tr>\n",
       "\t<tr><th scope=col>&lt;dbl&gt;</th><th scope=col>&lt;dbl&gt;</th><th scope=col>&lt;dbl&gt;</th><th scope=col>&lt;dbl&gt;</th><th scope=col>&lt;fct&gt;</th></tr>\n",
       "</thead>\n",
       "<tbody>\n",
       "\t<tr><td>5.0</td><td>3.6</td><td>1.4</td><td>0.2</td><td>setosa</td></tr>\n",
       "\t<tr><td>5.4</td><td>3.9</td><td>1.7</td><td>0.4</td><td>setosa</td></tr>\n",
       "\t<tr><td>4.6</td><td>3.4</td><td>1.4</td><td>0.3</td><td>setosa</td></tr>\n",
       "\t<tr><td>5.0</td><td>3.4</td><td>1.5</td><td>0.2</td><td>setosa</td></tr>\n",
       "\t<tr><td>4.4</td><td>2.9</td><td>1.4</td><td>0.2</td><td>setosa</td></tr>\n",
       "\t<tr><td>4.9</td><td>3.1</td><td>1.5</td><td>0.1</td><td>setosa</td></tr>\n",
       "</tbody>\n",
       "</table>\n"
      ],
      "text/latex": [
       "A data.frame: 6 × 5\n",
       "\\begin{tabular}{lllll}\n",
       " Sepal.Length & Sepal.Width & Petal.Length & Petal.Width & Species\\\\\n",
       " <dbl> & <dbl> & <dbl> & <dbl> & <fct>\\\\\n",
       "\\hline\n",
       "\t 5.0 & 3.6 & 1.4 & 0.2 & setosa\\\\\n",
       "\t 5.4 & 3.9 & 1.7 & 0.4 & setosa\\\\\n",
       "\t 4.6 & 3.4 & 1.4 & 0.3 & setosa\\\\\n",
       "\t 5.0 & 3.4 & 1.5 & 0.2 & setosa\\\\\n",
       "\t 4.4 & 2.9 & 1.4 & 0.2 & setosa\\\\\n",
       "\t 4.9 & 3.1 & 1.5 & 0.1 & setosa\\\\\n",
       "\\end{tabular}\n"
      ],
      "text/markdown": [
       "\n",
       "A data.frame: 6 × 5\n",
       "\n",
       "| Sepal.Length &lt;dbl&gt; | Sepal.Width &lt;dbl&gt; | Petal.Length &lt;dbl&gt; | Petal.Width &lt;dbl&gt; | Species &lt;fct&gt; |\n",
       "|---|---|---|---|---|\n",
       "| 5.0 | 3.6 | 1.4 | 0.2 | setosa |\n",
       "| 5.4 | 3.9 | 1.7 | 0.4 | setosa |\n",
       "| 4.6 | 3.4 | 1.4 | 0.3 | setosa |\n",
       "| 5.0 | 3.4 | 1.5 | 0.2 | setosa |\n",
       "| 4.4 | 2.9 | 1.4 | 0.2 | setosa |\n",
       "| 4.9 | 3.1 | 1.5 | 0.1 | setosa |\n",
       "\n"
      ],
      "text/plain": [
       "  Sepal.Length Sepal.Width Petal.Length Petal.Width Species\n",
       "1 5.0          3.6         1.4          0.2         setosa \n",
       "2 5.4          3.9         1.7          0.4         setosa \n",
       "3 4.6          3.4         1.4          0.3         setosa \n",
       "4 5.0          3.4         1.5          0.2         setosa \n",
       "5 4.4          2.9         1.4          0.2         setosa \n",
       "6 4.9          3.1         1.5          0.1         setosa "
      ]
     },
     "metadata": {},
     "output_type": "display_data"
    }
   ],
   "source": [
    "iris %>% filter(row_number()<=10,row_number()>=5) # 数据筛选"
   ]
  },
  {
   "cell_type": "markdown",
   "metadata": {},
   "source": [
    "上面的代码同样抽取了iris数据集中第五行到第十行的数据。使用了filter函数，其中row_number代表了数据集的行，通过逻辑运算选取行数小于10，大于5的行，则可以得出想要的结果。需要注意的是row_number代表数据集的行，n()代表数据集的最大行数。\n",
    "\n",
    "最后,top_n函数会根据数据的排序来抽取数据，常常用于抽取数据集中最大的一部分数据，例如，想要抽出数据集中身高最高的前十条数据，则使用这个函数会非常的方便，下面抽取iris数据集中Sepal.Width最大的前3条数据"
   ]
  },
  {
   "cell_type": "code",
   "execution_count": 15,
   "metadata": {
    "ExecuteTime": {
     "end_time": "2022-01-08T15:28:07.957453Z",
     "start_time": "2022-01-08T15:28:07.932Z"
    }
   },
   "outputs": [
    {
     "data": {
      "text/html": [
       "<table class=\"dataframe\">\n",
       "<caption>A data.frame: 3 × 5</caption>\n",
       "<thead>\n",
       "\t<tr><th scope=col>Sepal.Length</th><th scope=col>Sepal.Width</th><th scope=col>Petal.Length</th><th scope=col>Petal.Width</th><th scope=col>Species</th></tr>\n",
       "\t<tr><th scope=col>&lt;dbl&gt;</th><th scope=col>&lt;dbl&gt;</th><th scope=col>&lt;dbl&gt;</th><th scope=col>&lt;dbl&gt;</th><th scope=col>&lt;fct&gt;</th></tr>\n",
       "</thead>\n",
       "<tbody>\n",
       "\t<tr><td>5.7</td><td>4.4</td><td>1.5</td><td>0.4</td><td>setosa</td></tr>\n",
       "\t<tr><td>5.2</td><td>4.1</td><td>1.5</td><td>0.1</td><td>setosa</td></tr>\n",
       "\t<tr><td>5.5</td><td>4.2</td><td>1.4</td><td>0.2</td><td>setosa</td></tr>\n",
       "</tbody>\n",
       "</table>\n"
      ],
      "text/latex": [
       "A data.frame: 3 × 5\n",
       "\\begin{tabular}{lllll}\n",
       " Sepal.Length & Sepal.Width & Petal.Length & Petal.Width & Species\\\\\n",
       " <dbl> & <dbl> & <dbl> & <dbl> & <fct>\\\\\n",
       "\\hline\n",
       "\t 5.7 & 4.4 & 1.5 & 0.4 & setosa\\\\\n",
       "\t 5.2 & 4.1 & 1.5 & 0.1 & setosa\\\\\n",
       "\t 5.5 & 4.2 & 1.4 & 0.2 & setosa\\\\\n",
       "\\end{tabular}\n"
      ],
      "text/markdown": [
       "\n",
       "A data.frame: 3 × 5\n",
       "\n",
       "| Sepal.Length &lt;dbl&gt; | Sepal.Width &lt;dbl&gt; | Petal.Length &lt;dbl&gt; | Petal.Width &lt;dbl&gt; | Species &lt;fct&gt; |\n",
       "|---|---|---|---|---|\n",
       "| 5.7 | 4.4 | 1.5 | 0.4 | setosa |\n",
       "| 5.2 | 4.1 | 1.5 | 0.1 | setosa |\n",
       "| 5.5 | 4.2 | 1.4 | 0.2 | setosa |\n",
       "\n"
      ],
      "text/plain": [
       "  Sepal.Length Sepal.Width Petal.Length Petal.Width Species\n",
       "1 5.7          4.4         1.5          0.4         setosa \n",
       "2 5.2          4.1         1.5          0.1         setosa \n",
       "3 5.5          4.2         1.4          0.2         setosa "
      ]
     },
     "metadata": {},
     "output_type": "display_data"
    }
   ],
   "source": [
    "top_n(iris, 3, Sepal.Width) # 选取数据集前一部分数据"
   ]
  },
  {
   "cell_type": "markdown",
   "metadata": {},
   "source": [
    "上面的代码中抽取可iris数据集中Sepal.Width最大的前三条数据。tmo_n函数第一个参数是需要处理的数据集，第二个参数是想要抽取的行数，第三个特征表明根据哪个变量进行抽取。另外，tmp_n函数也常常和group_by函数一起使用，group_by函数用于对数据进行分组。假如，想要抽取不同性别，身高最高的前三条数据，使用group_by和top_n可以非常方便的实现："
   ]
  },
  {
   "cell_type": "code",
   "execution_count": 16,
   "metadata": {
    "ExecuteTime": {
     "end_time": "2022-01-08T15:28:25.883953Z",
     "start_time": "2022-01-08T15:28:25.840Z"
    }
   },
   "outputs": [
    {
     "data": {
      "text/html": [
       "<table class=\"dataframe\">\n",
       "<caption>A grouped_df: 5 × 5</caption>\n",
       "<thead>\n",
       "\t<tr><th scope=col>Sepal.Length</th><th scope=col>Sepal.Width</th><th scope=col>Petal.Length</th><th scope=col>Petal.Width</th><th scope=col>Species</th></tr>\n",
       "\t<tr><th scope=col>&lt;dbl&gt;</th><th scope=col>&lt;dbl&gt;</th><th scope=col>&lt;dbl&gt;</th><th scope=col>&lt;dbl&gt;</th><th scope=col>&lt;fct&gt;</th></tr>\n",
       "</thead>\n",
       "<tbody>\n",
       "\t<tr><td>5.0</td><td>3.5</td><td>1.6</td><td>0.6</td><td>setosa    </td></tr>\n",
       "\t<tr><td>5.9</td><td>3.2</td><td>4.8</td><td>1.8</td><td>versicolor</td></tr>\n",
       "\t<tr><td>6.3</td><td>3.3</td><td>6.0</td><td>2.5</td><td>virginica </td></tr>\n",
       "\t<tr><td>7.2</td><td>3.6</td><td>6.1</td><td>2.5</td><td>virginica </td></tr>\n",
       "\t<tr><td>6.7</td><td>3.3</td><td>5.7</td><td>2.5</td><td>virginica </td></tr>\n",
       "</tbody>\n",
       "</table>\n"
      ],
      "text/latex": [
       "A grouped\\_df: 5 × 5\n",
       "\\begin{tabular}{lllll}\n",
       " Sepal.Length & Sepal.Width & Petal.Length & Petal.Width & Species\\\\\n",
       " <dbl> & <dbl> & <dbl> & <dbl> & <fct>\\\\\n",
       "\\hline\n",
       "\t 5.0 & 3.5 & 1.6 & 0.6 & setosa    \\\\\n",
       "\t 5.9 & 3.2 & 4.8 & 1.8 & versicolor\\\\\n",
       "\t 6.3 & 3.3 & 6.0 & 2.5 & virginica \\\\\n",
       "\t 7.2 & 3.6 & 6.1 & 2.5 & virginica \\\\\n",
       "\t 6.7 & 3.3 & 5.7 & 2.5 & virginica \\\\\n",
       "\\end{tabular}\n"
      ],
      "text/markdown": [
       "\n",
       "A grouped_df: 5 × 5\n",
       "\n",
       "| Sepal.Length &lt;dbl&gt; | Sepal.Width &lt;dbl&gt; | Petal.Length &lt;dbl&gt; | Petal.Width &lt;dbl&gt; | Species &lt;fct&gt; |\n",
       "|---|---|---|---|---|\n",
       "| 5.0 | 3.5 | 1.6 | 0.6 | setosa     |\n",
       "| 5.9 | 3.2 | 4.8 | 1.8 | versicolor |\n",
       "| 6.3 | 3.3 | 6.0 | 2.5 | virginica  |\n",
       "| 7.2 | 3.6 | 6.1 | 2.5 | virginica  |\n",
       "| 6.7 | 3.3 | 5.7 | 2.5 | virginica  |\n",
       "\n"
      ],
      "text/plain": [
       "  Sepal.Length Sepal.Width Petal.Length Petal.Width Species   \n",
       "1 5.0          3.5         1.6          0.6         setosa    \n",
       "2 5.9          3.2         4.8          1.8         versicolor\n",
       "3 6.3          3.3         6.0          2.5         virginica \n",
       "4 7.2          3.6         6.1          2.5         virginica \n",
       "5 6.7          3.3         5.7          2.5         virginica "
      ]
     },
     "metadata": {},
     "output_type": "display_data"
    }
   ],
   "source": [
    "iris %>% group_by(Species) %>% top_n(1,Petal.Width) # 对数据进行分组"
   ]
  },
  {
   "cell_type": "markdown",
   "metadata": {},
   "source": [
    "上面的代码根据不同的物种(Species)，进行分组，然后分别抽取每个组里面Petal.Width变量最大的数据。\n",
    "\n",
    "以上的内容是关于对数据的行进行筛选。接下来介绍对数据集的列进行处理。\n"
   ]
  },
  {
   "cell_type": "markdown",
   "metadata": {},
   "source": [
    "### 2.1.2 筛选数据集的列\n",
    "如果数据集中存在非常多的列，那么可以使用select函数可以直接筛选出需要的列。"
   ]
  },
  {
   "cell_type": "code",
   "execution_count": 17,
   "metadata": {
    "ExecuteTime": {
     "end_time": "2022-01-09T01:40:34.185365Z",
     "start_time": "2022-01-09T01:40:34.139Z"
    }
   },
   "outputs": [
    {
     "data": {
      "text/html": [
       "<table class=\"dataframe\">\n",
       "<caption>A data.frame: 3 × 1</caption>\n",
       "<thead>\n",
       "\t<tr><th></th><th scope=col>Sepal.Length</th></tr>\n",
       "\t<tr><th></th><th scope=col>&lt;dbl&gt;</th></tr>\n",
       "</thead>\n",
       "<tbody>\n",
       "\t<tr><th scope=row>1</th><td>5.1</td></tr>\n",
       "\t<tr><th scope=row>2</th><td>4.9</td></tr>\n",
       "\t<tr><th scope=row>3</th><td>4.7</td></tr>\n",
       "</tbody>\n",
       "</table>\n"
      ],
      "text/latex": [
       "A data.frame: 3 × 1\n",
       "\\begin{tabular}{r|l}\n",
       "  & Sepal.Length\\\\\n",
       "  & <dbl>\\\\\n",
       "\\hline\n",
       "\t1 & 5.1\\\\\n",
       "\t2 & 4.9\\\\\n",
       "\t3 & 4.7\\\\\n",
       "\\end{tabular}\n"
      ],
      "text/markdown": [
       "\n",
       "A data.frame: 3 × 1\n",
       "\n",
       "| <!--/--> | Sepal.Length &lt;dbl&gt; |\n",
       "|---|---|\n",
       "| 1 | 5.1 |\n",
       "| 2 | 4.9 |\n",
       "| 3 | 4.7 |\n",
       "\n"
      ],
      "text/plain": [
       "  Sepal.Length\n",
       "1 5.1         \n",
       "2 4.9         \n",
       "3 4.7         "
      ]
     },
     "metadata": {},
     "output_type": "display_data"
    }
   ],
   "source": [
    "iris %>% dplyr::select(Sepal.Length)  %>% head(3) # 选择变量"
   ]
  },
  {
   "cell_type": "markdown",
   "metadata": {},
   "source": [
    "上面的代码筛选出了iris数据集中，列名为Sepal.Length的列。如果想要的并不是某些列，而是想要删除某些列，则可以在变量名前面加上一个'-'，用减号表明删除这个列"
   ]
  },
  {
   "cell_type": "code",
   "execution_count": 18,
   "metadata": {
    "ExecuteTime": {
     "end_time": "2022-01-09T01:40:49.950850Z",
     "start_time": "2022-01-09T01:40:49.920Z"
    }
   },
   "outputs": [
    {
     "data": {
      "text/html": [
       "<table class=\"dataframe\">\n",
       "<caption>A data.frame: 3 × 4</caption>\n",
       "<thead>\n",
       "\t<tr><th></th><th scope=col>Sepal.Width</th><th scope=col>Petal.Length</th><th scope=col>Petal.Width</th><th scope=col>Species</th></tr>\n",
       "\t<tr><th></th><th scope=col>&lt;dbl&gt;</th><th scope=col>&lt;dbl&gt;</th><th scope=col>&lt;dbl&gt;</th><th scope=col>&lt;fct&gt;</th></tr>\n",
       "</thead>\n",
       "<tbody>\n",
       "\t<tr><th scope=row>1</th><td>3.5</td><td>1.4</td><td>0.2</td><td>setosa</td></tr>\n",
       "\t<tr><th scope=row>2</th><td>3.0</td><td>1.4</td><td>0.2</td><td>setosa</td></tr>\n",
       "\t<tr><th scope=row>3</th><td>3.2</td><td>1.3</td><td>0.2</td><td>setosa</td></tr>\n",
       "</tbody>\n",
       "</table>\n"
      ],
      "text/latex": [
       "A data.frame: 3 × 4\n",
       "\\begin{tabular}{r|llll}\n",
       "  & Sepal.Width & Petal.Length & Petal.Width & Species\\\\\n",
       "  & <dbl> & <dbl> & <dbl> & <fct>\\\\\n",
       "\\hline\n",
       "\t1 & 3.5 & 1.4 & 0.2 & setosa\\\\\n",
       "\t2 & 3.0 & 1.4 & 0.2 & setosa\\\\\n",
       "\t3 & 3.2 & 1.3 & 0.2 & setosa\\\\\n",
       "\\end{tabular}\n"
      ],
      "text/markdown": [
       "\n",
       "A data.frame: 3 × 4\n",
       "\n",
       "| <!--/--> | Sepal.Width &lt;dbl&gt; | Petal.Length &lt;dbl&gt; | Petal.Width &lt;dbl&gt; | Species &lt;fct&gt; |\n",
       "|---|---|---|---|---|\n",
       "| 1 | 3.5 | 1.4 | 0.2 | setosa |\n",
       "| 2 | 3.0 | 1.4 | 0.2 | setosa |\n",
       "| 3 | 3.2 | 1.3 | 0.2 | setosa |\n",
       "\n"
      ],
      "text/plain": [
       "  Sepal.Width Petal.Length Petal.Width Species\n",
       "1 3.5         1.4          0.2         setosa \n",
       "2 3.0         1.4          0.2         setosa \n",
       "3 3.2         1.3          0.2         setosa "
      ]
     },
     "metadata": {},
     "output_type": "display_data"
    }
   ],
   "source": [
    "iris %>% dplyr::select(-Sepal.Length)  %>% head(3) # 删除某个变量，选取剩下的数据集"
   ]
  },
  {
   "cell_type": "markdown",
   "metadata": {},
   "source": [
    "上面的代码删除了Sepal.Length这一些，将剩下的数据保存下来。另外，有几个在筛选列的时候非常常用的辅助函数，这些函数包括：\n",
    "\n",
    "1. starts_with ：匹配以某一字符串开头的行\n",
    "2. ends_with ： 匹配以某一字符串结尾的行\n",
    "3. contains ：用于匹配字符串\n",
    "4. matches :用于匹配正则表达式\n",
    "\n",
    "上面总结的四个函数在筛选行的时候回被经常的使用到，当我们想要以某一字符串开头的所有的列的时候，可以使用starts_with函数，例如对于iris数据集，想要筛选Petal开头的数据集:"
   ]
  },
  {
   "cell_type": "code",
   "execution_count": 19,
   "metadata": {
    "ExecuteTime": {
     "end_time": "2022-01-09T01:41:13.837482Z",
     "start_time": "2022-01-09T01:41:13.786Z"
    },
    "scrolled": true
   },
   "outputs": [
    {
     "data": {
      "text/html": [
       "<table class=\"dataframe\">\n",
       "<caption>A data.frame: 150 × 2</caption>\n",
       "<thead>\n",
       "\t<tr><th scope=col>Petal.Length</th><th scope=col>Petal.Width</th></tr>\n",
       "\t<tr><th scope=col>&lt;dbl&gt;</th><th scope=col>&lt;dbl&gt;</th></tr>\n",
       "</thead>\n",
       "<tbody>\n",
       "\t<tr><td>1.4</td><td>0.2</td></tr>\n",
       "\t<tr><td>1.4</td><td>0.2</td></tr>\n",
       "\t<tr><td>1.3</td><td>0.2</td></tr>\n",
       "\t<tr><td>1.5</td><td>0.2</td></tr>\n",
       "\t<tr><td>1.4</td><td>0.2</td></tr>\n",
       "\t<tr><td>1.7</td><td>0.4</td></tr>\n",
       "\t<tr><td>1.4</td><td>0.3</td></tr>\n",
       "\t<tr><td>1.5</td><td>0.2</td></tr>\n",
       "\t<tr><td>1.4</td><td>0.2</td></tr>\n",
       "\t<tr><td>1.5</td><td>0.1</td></tr>\n",
       "\t<tr><td>1.5</td><td>0.2</td></tr>\n",
       "\t<tr><td>1.6</td><td>0.2</td></tr>\n",
       "\t<tr><td>1.4</td><td>0.1</td></tr>\n",
       "\t<tr><td>1.1</td><td>0.1</td></tr>\n",
       "\t<tr><td>1.2</td><td>0.2</td></tr>\n",
       "\t<tr><td>1.5</td><td>0.4</td></tr>\n",
       "\t<tr><td>1.3</td><td>0.4</td></tr>\n",
       "\t<tr><td>1.4</td><td>0.3</td></tr>\n",
       "\t<tr><td>1.7</td><td>0.3</td></tr>\n",
       "\t<tr><td>1.5</td><td>0.3</td></tr>\n",
       "\t<tr><td>1.7</td><td>0.2</td></tr>\n",
       "\t<tr><td>1.5</td><td>0.4</td></tr>\n",
       "\t<tr><td>1.0</td><td>0.2</td></tr>\n",
       "\t<tr><td>1.7</td><td>0.5</td></tr>\n",
       "\t<tr><td>1.9</td><td>0.2</td></tr>\n",
       "\t<tr><td>1.6</td><td>0.2</td></tr>\n",
       "\t<tr><td>1.6</td><td>0.4</td></tr>\n",
       "\t<tr><td>1.5</td><td>0.2</td></tr>\n",
       "\t<tr><td>1.4</td><td>0.2</td></tr>\n",
       "\t<tr><td>1.6</td><td>0.2</td></tr>\n",
       "\t<tr><td>...</td><td>...</td></tr>\n",
       "\t<tr><td>5.7</td><td>2.3</td></tr>\n",
       "\t<tr><td>4.9</td><td>2.0</td></tr>\n",
       "\t<tr><td>6.7</td><td>2.0</td></tr>\n",
       "\t<tr><td>4.9</td><td>1.8</td></tr>\n",
       "\t<tr><td>5.7</td><td>2.1</td></tr>\n",
       "\t<tr><td>6.0</td><td>1.8</td></tr>\n",
       "\t<tr><td>4.8</td><td>1.8</td></tr>\n",
       "\t<tr><td>4.9</td><td>1.8</td></tr>\n",
       "\t<tr><td>5.6</td><td>2.1</td></tr>\n",
       "\t<tr><td>5.8</td><td>1.6</td></tr>\n",
       "\t<tr><td>6.1</td><td>1.9</td></tr>\n",
       "\t<tr><td>6.4</td><td>2.0</td></tr>\n",
       "\t<tr><td>5.6</td><td>2.2</td></tr>\n",
       "\t<tr><td>5.1</td><td>1.5</td></tr>\n",
       "\t<tr><td>5.6</td><td>1.4</td></tr>\n",
       "\t<tr><td>6.1</td><td>2.3</td></tr>\n",
       "\t<tr><td>5.6</td><td>2.4</td></tr>\n",
       "\t<tr><td>5.5</td><td>1.8</td></tr>\n",
       "\t<tr><td>4.8</td><td>1.8</td></tr>\n",
       "\t<tr><td>5.4</td><td>2.1</td></tr>\n",
       "\t<tr><td>5.6</td><td>2.4</td></tr>\n",
       "\t<tr><td>5.1</td><td>2.3</td></tr>\n",
       "\t<tr><td>5.1</td><td>1.9</td></tr>\n",
       "\t<tr><td>5.9</td><td>2.3</td></tr>\n",
       "\t<tr><td>5.7</td><td>2.5</td></tr>\n",
       "\t<tr><td>5.2</td><td>2.3</td></tr>\n",
       "\t<tr><td>5.0</td><td>1.9</td></tr>\n",
       "\t<tr><td>5.2</td><td>2.0</td></tr>\n",
       "\t<tr><td>5.4</td><td>2.3</td></tr>\n",
       "\t<tr><td>5.1</td><td>1.8</td></tr>\n",
       "</tbody>\n",
       "</table>\n"
      ],
      "text/latex": [
       "A data.frame: 150 × 2\n",
       "\\begin{tabular}{ll}\n",
       " Petal.Length & Petal.Width\\\\\n",
       " <dbl> & <dbl>\\\\\n",
       "\\hline\n",
       "\t 1.4 & 0.2\\\\\n",
       "\t 1.4 & 0.2\\\\\n",
       "\t 1.3 & 0.2\\\\\n",
       "\t 1.5 & 0.2\\\\\n",
       "\t 1.4 & 0.2\\\\\n",
       "\t 1.7 & 0.4\\\\\n",
       "\t 1.4 & 0.3\\\\\n",
       "\t 1.5 & 0.2\\\\\n",
       "\t 1.4 & 0.2\\\\\n",
       "\t 1.5 & 0.1\\\\\n",
       "\t 1.5 & 0.2\\\\\n",
       "\t 1.6 & 0.2\\\\\n",
       "\t 1.4 & 0.1\\\\\n",
       "\t 1.1 & 0.1\\\\\n",
       "\t 1.2 & 0.2\\\\\n",
       "\t 1.5 & 0.4\\\\\n",
       "\t 1.3 & 0.4\\\\\n",
       "\t 1.4 & 0.3\\\\\n",
       "\t 1.7 & 0.3\\\\\n",
       "\t 1.5 & 0.3\\\\\n",
       "\t 1.7 & 0.2\\\\\n",
       "\t 1.5 & 0.4\\\\\n",
       "\t 1.0 & 0.2\\\\\n",
       "\t 1.7 & 0.5\\\\\n",
       "\t 1.9 & 0.2\\\\\n",
       "\t 1.6 & 0.2\\\\\n",
       "\t 1.6 & 0.4\\\\\n",
       "\t 1.5 & 0.2\\\\\n",
       "\t 1.4 & 0.2\\\\\n",
       "\t 1.6 & 0.2\\\\\n",
       "\t ... & ...\\\\\n",
       "\t 5.7 & 2.3\\\\\n",
       "\t 4.9 & 2.0\\\\\n",
       "\t 6.7 & 2.0\\\\\n",
       "\t 4.9 & 1.8\\\\\n",
       "\t 5.7 & 2.1\\\\\n",
       "\t 6.0 & 1.8\\\\\n",
       "\t 4.8 & 1.8\\\\\n",
       "\t 4.9 & 1.8\\\\\n",
       "\t 5.6 & 2.1\\\\\n",
       "\t 5.8 & 1.6\\\\\n",
       "\t 6.1 & 1.9\\\\\n",
       "\t 6.4 & 2.0\\\\\n",
       "\t 5.6 & 2.2\\\\\n",
       "\t 5.1 & 1.5\\\\\n",
       "\t 5.6 & 1.4\\\\\n",
       "\t 6.1 & 2.3\\\\\n",
       "\t 5.6 & 2.4\\\\\n",
       "\t 5.5 & 1.8\\\\\n",
       "\t 4.8 & 1.8\\\\\n",
       "\t 5.4 & 2.1\\\\\n",
       "\t 5.6 & 2.4\\\\\n",
       "\t 5.1 & 2.3\\\\\n",
       "\t 5.1 & 1.9\\\\\n",
       "\t 5.9 & 2.3\\\\\n",
       "\t 5.7 & 2.5\\\\\n",
       "\t 5.2 & 2.3\\\\\n",
       "\t 5.0 & 1.9\\\\\n",
       "\t 5.2 & 2.0\\\\\n",
       "\t 5.4 & 2.3\\\\\n",
       "\t 5.1 & 1.8\\\\\n",
       "\\end{tabular}\n"
      ],
      "text/markdown": [
       "\n",
       "A data.frame: 150 × 2\n",
       "\n",
       "| Petal.Length &lt;dbl&gt; | Petal.Width &lt;dbl&gt; |\n",
       "|---|---|\n",
       "| 1.4 | 0.2 |\n",
       "| 1.4 | 0.2 |\n",
       "| 1.3 | 0.2 |\n",
       "| 1.5 | 0.2 |\n",
       "| 1.4 | 0.2 |\n",
       "| 1.7 | 0.4 |\n",
       "| 1.4 | 0.3 |\n",
       "| 1.5 | 0.2 |\n",
       "| 1.4 | 0.2 |\n",
       "| 1.5 | 0.1 |\n",
       "| 1.5 | 0.2 |\n",
       "| 1.6 | 0.2 |\n",
       "| 1.4 | 0.1 |\n",
       "| 1.1 | 0.1 |\n",
       "| 1.2 | 0.2 |\n",
       "| 1.5 | 0.4 |\n",
       "| 1.3 | 0.4 |\n",
       "| 1.4 | 0.3 |\n",
       "| 1.7 | 0.3 |\n",
       "| 1.5 | 0.3 |\n",
       "| 1.7 | 0.2 |\n",
       "| 1.5 | 0.4 |\n",
       "| 1.0 | 0.2 |\n",
       "| 1.7 | 0.5 |\n",
       "| 1.9 | 0.2 |\n",
       "| 1.6 | 0.2 |\n",
       "| 1.6 | 0.4 |\n",
       "| 1.5 | 0.2 |\n",
       "| 1.4 | 0.2 |\n",
       "| 1.6 | 0.2 |\n",
       "| ... | ... |\n",
       "| 5.7 | 2.3 |\n",
       "| 4.9 | 2.0 |\n",
       "| 6.7 | 2.0 |\n",
       "| 4.9 | 1.8 |\n",
       "| 5.7 | 2.1 |\n",
       "| 6.0 | 1.8 |\n",
       "| 4.8 | 1.8 |\n",
       "| 4.9 | 1.8 |\n",
       "| 5.6 | 2.1 |\n",
       "| 5.8 | 1.6 |\n",
       "| 6.1 | 1.9 |\n",
       "| 6.4 | 2.0 |\n",
       "| 5.6 | 2.2 |\n",
       "| 5.1 | 1.5 |\n",
       "| 5.6 | 1.4 |\n",
       "| 6.1 | 2.3 |\n",
       "| 5.6 | 2.4 |\n",
       "| 5.5 | 1.8 |\n",
       "| 4.8 | 1.8 |\n",
       "| 5.4 | 2.1 |\n",
       "| 5.6 | 2.4 |\n",
       "| 5.1 | 2.3 |\n",
       "| 5.1 | 1.9 |\n",
       "| 5.9 | 2.3 |\n",
       "| 5.7 | 2.5 |\n",
       "| 5.2 | 2.3 |\n",
       "| 5.0 | 1.9 |\n",
       "| 5.2 | 2.0 |\n",
       "| 5.4 | 2.3 |\n",
       "| 5.1 | 1.8 |\n",
       "\n"
      ],
      "text/plain": [
       "    Petal.Length Petal.Width\n",
       "1   1.4          0.2        \n",
       "2   1.4          0.2        \n",
       "3   1.3          0.2        \n",
       "4   1.5          0.2        \n",
       "5   1.4          0.2        \n",
       "6   1.7          0.4        \n",
       "7   1.4          0.3        \n",
       "8   1.5          0.2        \n",
       "9   1.4          0.2        \n",
       "10  1.5          0.1        \n",
       "11  1.5          0.2        \n",
       "12  1.6          0.2        \n",
       "13  1.4          0.1        \n",
       "14  1.1          0.1        \n",
       "15  1.2          0.2        \n",
       "16  1.5          0.4        \n",
       "17  1.3          0.4        \n",
       "18  1.4          0.3        \n",
       "19  1.7          0.3        \n",
       "20  1.5          0.3        \n",
       "21  1.7          0.2        \n",
       "22  1.5          0.4        \n",
       "23  1.0          0.2        \n",
       "24  1.7          0.5        \n",
       "25  1.9          0.2        \n",
       "26  1.6          0.2        \n",
       "27  1.6          0.4        \n",
       "28  1.5          0.2        \n",
       "29  1.4          0.2        \n",
       "30  1.6          0.2        \n",
       "... ...          ...        \n",
       "121 5.7          2.3        \n",
       "122 4.9          2.0        \n",
       "123 6.7          2.0        \n",
       "124 4.9          1.8        \n",
       "125 5.7          2.1        \n",
       "126 6.0          1.8        \n",
       "127 4.8          1.8        \n",
       "128 4.9          1.8        \n",
       "129 5.6          2.1        \n",
       "130 5.8          1.6        \n",
       "131 6.1          1.9        \n",
       "132 6.4          2.0        \n",
       "133 5.6          2.2        \n",
       "134 5.1          1.5        \n",
       "135 5.6          1.4        \n",
       "136 6.1          2.3        \n",
       "137 5.6          2.4        \n",
       "138 5.5          1.8        \n",
       "139 4.8          1.8        \n",
       "140 5.4          2.1        \n",
       "141 5.6          2.4        \n",
       "142 5.1          2.3        \n",
       "143 5.1          1.9        \n",
       "144 5.9          2.3        \n",
       "145 5.7          2.5        \n",
       "146 5.2          2.3        \n",
       "147 5.0          1.9        \n",
       "148 5.2          2.0        \n",
       "149 5.4          2.3        \n",
       "150 5.1          1.8        "
      ]
     },
     "metadata": {},
     "output_type": "display_data"
    }
   ],
   "source": [
    "iris %>% dplyr::select(starts_with(\"Petal\")) # 选取以Petal开头的变量"
   ]
  },
  {
   "cell_type": "markdown",
   "metadata": {},
   "source": [
    "上面的代码筛选出了以Petal开头的所有的特征。同理使用ends_with特征可以筛选出所有以某一字符串结尾的特征，例如对于iris数据集，筛选出所有以Length结尾的特征"
   ]
  },
  {
   "cell_type": "code",
   "execution_count": 20,
   "metadata": {
    "ExecuteTime": {
     "end_time": "2022-01-09T01:41:31.563522Z",
     "start_time": "2022-01-09T01:41:31.516Z"
    },
    "scrolled": true
   },
   "outputs": [
    {
     "data": {
      "text/html": [
       "<table class=\"dataframe\">\n",
       "<caption>A data.frame: 150 × 2</caption>\n",
       "<thead>\n",
       "\t<tr><th scope=col>Sepal.Length</th><th scope=col>Petal.Length</th></tr>\n",
       "\t<tr><th scope=col>&lt;dbl&gt;</th><th scope=col>&lt;dbl&gt;</th></tr>\n",
       "</thead>\n",
       "<tbody>\n",
       "\t<tr><td>5.1</td><td>1.4</td></tr>\n",
       "\t<tr><td>4.9</td><td>1.4</td></tr>\n",
       "\t<tr><td>4.7</td><td>1.3</td></tr>\n",
       "\t<tr><td>4.6</td><td>1.5</td></tr>\n",
       "\t<tr><td>5.0</td><td>1.4</td></tr>\n",
       "\t<tr><td>5.4</td><td>1.7</td></tr>\n",
       "\t<tr><td>4.6</td><td>1.4</td></tr>\n",
       "\t<tr><td>5.0</td><td>1.5</td></tr>\n",
       "\t<tr><td>4.4</td><td>1.4</td></tr>\n",
       "\t<tr><td>4.9</td><td>1.5</td></tr>\n",
       "\t<tr><td>5.4</td><td>1.5</td></tr>\n",
       "\t<tr><td>4.8</td><td>1.6</td></tr>\n",
       "\t<tr><td>4.8</td><td>1.4</td></tr>\n",
       "\t<tr><td>4.3</td><td>1.1</td></tr>\n",
       "\t<tr><td>5.8</td><td>1.2</td></tr>\n",
       "\t<tr><td>5.7</td><td>1.5</td></tr>\n",
       "\t<tr><td>5.4</td><td>1.3</td></tr>\n",
       "\t<tr><td>5.1</td><td>1.4</td></tr>\n",
       "\t<tr><td>5.7</td><td>1.7</td></tr>\n",
       "\t<tr><td>5.1</td><td>1.5</td></tr>\n",
       "\t<tr><td>5.4</td><td>1.7</td></tr>\n",
       "\t<tr><td>5.1</td><td>1.5</td></tr>\n",
       "\t<tr><td>4.6</td><td>1.0</td></tr>\n",
       "\t<tr><td>5.1</td><td>1.7</td></tr>\n",
       "\t<tr><td>4.8</td><td>1.9</td></tr>\n",
       "\t<tr><td>5.0</td><td>1.6</td></tr>\n",
       "\t<tr><td>5.0</td><td>1.6</td></tr>\n",
       "\t<tr><td>5.2</td><td>1.5</td></tr>\n",
       "\t<tr><td>5.2</td><td>1.4</td></tr>\n",
       "\t<tr><td>4.7</td><td>1.6</td></tr>\n",
       "\t<tr><td>...</td><td>...</td></tr>\n",
       "\t<tr><td>6.9</td><td>5.7</td></tr>\n",
       "\t<tr><td>5.6</td><td>4.9</td></tr>\n",
       "\t<tr><td>7.7</td><td>6.7</td></tr>\n",
       "\t<tr><td>6.3</td><td>4.9</td></tr>\n",
       "\t<tr><td>6.7</td><td>5.7</td></tr>\n",
       "\t<tr><td>7.2</td><td>6.0</td></tr>\n",
       "\t<tr><td>6.2</td><td>4.8</td></tr>\n",
       "\t<tr><td>6.1</td><td>4.9</td></tr>\n",
       "\t<tr><td>6.4</td><td>5.6</td></tr>\n",
       "\t<tr><td>7.2</td><td>5.8</td></tr>\n",
       "\t<tr><td>7.4</td><td>6.1</td></tr>\n",
       "\t<tr><td>7.9</td><td>6.4</td></tr>\n",
       "\t<tr><td>6.4</td><td>5.6</td></tr>\n",
       "\t<tr><td>6.3</td><td>5.1</td></tr>\n",
       "\t<tr><td>6.1</td><td>5.6</td></tr>\n",
       "\t<tr><td>7.7</td><td>6.1</td></tr>\n",
       "\t<tr><td>6.3</td><td>5.6</td></tr>\n",
       "\t<tr><td>6.4</td><td>5.5</td></tr>\n",
       "\t<tr><td>6.0</td><td>4.8</td></tr>\n",
       "\t<tr><td>6.9</td><td>5.4</td></tr>\n",
       "\t<tr><td>6.7</td><td>5.6</td></tr>\n",
       "\t<tr><td>6.9</td><td>5.1</td></tr>\n",
       "\t<tr><td>5.8</td><td>5.1</td></tr>\n",
       "\t<tr><td>6.8</td><td>5.9</td></tr>\n",
       "\t<tr><td>6.7</td><td>5.7</td></tr>\n",
       "\t<tr><td>6.7</td><td>5.2</td></tr>\n",
       "\t<tr><td>6.3</td><td>5.0</td></tr>\n",
       "\t<tr><td>6.5</td><td>5.2</td></tr>\n",
       "\t<tr><td>6.2</td><td>5.4</td></tr>\n",
       "\t<tr><td>5.9</td><td>5.1</td></tr>\n",
       "</tbody>\n",
       "</table>\n"
      ],
      "text/latex": [
       "A data.frame: 150 × 2\n",
       "\\begin{tabular}{ll}\n",
       " Sepal.Length & Petal.Length\\\\\n",
       " <dbl> & <dbl>\\\\\n",
       "\\hline\n",
       "\t 5.1 & 1.4\\\\\n",
       "\t 4.9 & 1.4\\\\\n",
       "\t 4.7 & 1.3\\\\\n",
       "\t 4.6 & 1.5\\\\\n",
       "\t 5.0 & 1.4\\\\\n",
       "\t 5.4 & 1.7\\\\\n",
       "\t 4.6 & 1.4\\\\\n",
       "\t 5.0 & 1.5\\\\\n",
       "\t 4.4 & 1.4\\\\\n",
       "\t 4.9 & 1.5\\\\\n",
       "\t 5.4 & 1.5\\\\\n",
       "\t 4.8 & 1.6\\\\\n",
       "\t 4.8 & 1.4\\\\\n",
       "\t 4.3 & 1.1\\\\\n",
       "\t 5.8 & 1.2\\\\\n",
       "\t 5.7 & 1.5\\\\\n",
       "\t 5.4 & 1.3\\\\\n",
       "\t 5.1 & 1.4\\\\\n",
       "\t 5.7 & 1.7\\\\\n",
       "\t 5.1 & 1.5\\\\\n",
       "\t 5.4 & 1.7\\\\\n",
       "\t 5.1 & 1.5\\\\\n",
       "\t 4.6 & 1.0\\\\\n",
       "\t 5.1 & 1.7\\\\\n",
       "\t 4.8 & 1.9\\\\\n",
       "\t 5.0 & 1.6\\\\\n",
       "\t 5.0 & 1.6\\\\\n",
       "\t 5.2 & 1.5\\\\\n",
       "\t 5.2 & 1.4\\\\\n",
       "\t 4.7 & 1.6\\\\\n",
       "\t ... & ...\\\\\n",
       "\t 6.9 & 5.7\\\\\n",
       "\t 5.6 & 4.9\\\\\n",
       "\t 7.7 & 6.7\\\\\n",
       "\t 6.3 & 4.9\\\\\n",
       "\t 6.7 & 5.7\\\\\n",
       "\t 7.2 & 6.0\\\\\n",
       "\t 6.2 & 4.8\\\\\n",
       "\t 6.1 & 4.9\\\\\n",
       "\t 6.4 & 5.6\\\\\n",
       "\t 7.2 & 5.8\\\\\n",
       "\t 7.4 & 6.1\\\\\n",
       "\t 7.9 & 6.4\\\\\n",
       "\t 6.4 & 5.6\\\\\n",
       "\t 6.3 & 5.1\\\\\n",
       "\t 6.1 & 5.6\\\\\n",
       "\t 7.7 & 6.1\\\\\n",
       "\t 6.3 & 5.6\\\\\n",
       "\t 6.4 & 5.5\\\\\n",
       "\t 6.0 & 4.8\\\\\n",
       "\t 6.9 & 5.4\\\\\n",
       "\t 6.7 & 5.6\\\\\n",
       "\t 6.9 & 5.1\\\\\n",
       "\t 5.8 & 5.1\\\\\n",
       "\t 6.8 & 5.9\\\\\n",
       "\t 6.7 & 5.7\\\\\n",
       "\t 6.7 & 5.2\\\\\n",
       "\t 6.3 & 5.0\\\\\n",
       "\t 6.5 & 5.2\\\\\n",
       "\t 6.2 & 5.4\\\\\n",
       "\t 5.9 & 5.1\\\\\n",
       "\\end{tabular}\n"
      ],
      "text/markdown": [
       "\n",
       "A data.frame: 150 × 2\n",
       "\n",
       "| Sepal.Length &lt;dbl&gt; | Petal.Length &lt;dbl&gt; |\n",
       "|---|---|\n",
       "| 5.1 | 1.4 |\n",
       "| 4.9 | 1.4 |\n",
       "| 4.7 | 1.3 |\n",
       "| 4.6 | 1.5 |\n",
       "| 5.0 | 1.4 |\n",
       "| 5.4 | 1.7 |\n",
       "| 4.6 | 1.4 |\n",
       "| 5.0 | 1.5 |\n",
       "| 4.4 | 1.4 |\n",
       "| 4.9 | 1.5 |\n",
       "| 5.4 | 1.5 |\n",
       "| 4.8 | 1.6 |\n",
       "| 4.8 | 1.4 |\n",
       "| 4.3 | 1.1 |\n",
       "| 5.8 | 1.2 |\n",
       "| 5.7 | 1.5 |\n",
       "| 5.4 | 1.3 |\n",
       "| 5.1 | 1.4 |\n",
       "| 5.7 | 1.7 |\n",
       "| 5.1 | 1.5 |\n",
       "| 5.4 | 1.7 |\n",
       "| 5.1 | 1.5 |\n",
       "| 4.6 | 1.0 |\n",
       "| 5.1 | 1.7 |\n",
       "| 4.8 | 1.9 |\n",
       "| 5.0 | 1.6 |\n",
       "| 5.0 | 1.6 |\n",
       "| 5.2 | 1.5 |\n",
       "| 5.2 | 1.4 |\n",
       "| 4.7 | 1.6 |\n",
       "| ... | ... |\n",
       "| 6.9 | 5.7 |\n",
       "| 5.6 | 4.9 |\n",
       "| 7.7 | 6.7 |\n",
       "| 6.3 | 4.9 |\n",
       "| 6.7 | 5.7 |\n",
       "| 7.2 | 6.0 |\n",
       "| 6.2 | 4.8 |\n",
       "| 6.1 | 4.9 |\n",
       "| 6.4 | 5.6 |\n",
       "| 7.2 | 5.8 |\n",
       "| 7.4 | 6.1 |\n",
       "| 7.9 | 6.4 |\n",
       "| 6.4 | 5.6 |\n",
       "| 6.3 | 5.1 |\n",
       "| 6.1 | 5.6 |\n",
       "| 7.7 | 6.1 |\n",
       "| 6.3 | 5.6 |\n",
       "| 6.4 | 5.5 |\n",
       "| 6.0 | 4.8 |\n",
       "| 6.9 | 5.4 |\n",
       "| 6.7 | 5.6 |\n",
       "| 6.9 | 5.1 |\n",
       "| 5.8 | 5.1 |\n",
       "| 6.8 | 5.9 |\n",
       "| 6.7 | 5.7 |\n",
       "| 6.7 | 5.2 |\n",
       "| 6.3 | 5.0 |\n",
       "| 6.5 | 5.2 |\n",
       "| 6.2 | 5.4 |\n",
       "| 5.9 | 5.1 |\n",
       "\n"
      ],
      "text/plain": [
       "    Sepal.Length Petal.Length\n",
       "1   5.1          1.4         \n",
       "2   4.9          1.4         \n",
       "3   4.7          1.3         \n",
       "4   4.6          1.5         \n",
       "5   5.0          1.4         \n",
       "6   5.4          1.7         \n",
       "7   4.6          1.4         \n",
       "8   5.0          1.5         \n",
       "9   4.4          1.4         \n",
       "10  4.9          1.5         \n",
       "11  5.4          1.5         \n",
       "12  4.8          1.6         \n",
       "13  4.8          1.4         \n",
       "14  4.3          1.1         \n",
       "15  5.8          1.2         \n",
       "16  5.7          1.5         \n",
       "17  5.4          1.3         \n",
       "18  5.1          1.4         \n",
       "19  5.7          1.7         \n",
       "20  5.1          1.5         \n",
       "21  5.4          1.7         \n",
       "22  5.1          1.5         \n",
       "23  4.6          1.0         \n",
       "24  5.1          1.7         \n",
       "25  4.8          1.9         \n",
       "26  5.0          1.6         \n",
       "27  5.0          1.6         \n",
       "28  5.2          1.5         \n",
       "29  5.2          1.4         \n",
       "30  4.7          1.6         \n",
       "... ...          ...         \n",
       "121 6.9          5.7         \n",
       "122 5.6          4.9         \n",
       "123 7.7          6.7         \n",
       "124 6.3          4.9         \n",
       "125 6.7          5.7         \n",
       "126 7.2          6.0         \n",
       "127 6.2          4.8         \n",
       "128 6.1          4.9         \n",
       "129 6.4          5.6         \n",
       "130 7.2          5.8         \n",
       "131 7.4          6.1         \n",
       "132 7.9          6.4         \n",
       "133 6.4          5.6         \n",
       "134 6.3          5.1         \n",
       "135 6.1          5.6         \n",
       "136 7.7          6.1         \n",
       "137 6.3          5.6         \n",
       "138 6.4          5.5         \n",
       "139 6.0          4.8         \n",
       "140 6.9          5.4         \n",
       "141 6.7          5.6         \n",
       "142 6.9          5.1         \n",
       "143 5.8          5.1         \n",
       "144 6.8          5.9         \n",
       "145 6.7          5.7         \n",
       "146 6.7          5.2         \n",
       "147 6.3          5.0         \n",
       "148 6.5          5.2         \n",
       "149 6.2          5.4         \n",
       "150 5.9          5.1         "
      ]
     },
     "metadata": {},
     "output_type": "display_data"
    }
   ],
   "source": [
    "iris %>% dplyr::select(ends_with(\"Length\")) # 选取以Length结尾的变量"
   ]
  },
  {
   "cell_type": "markdown",
   "metadata": {
    "ExecuteTime": {
     "end_time": "2022-01-09T01:43:07.453556Z",
     "start_time": "2022-01-09T01:43:07.422Z"
    }
   },
   "source": [
    "上面的代码筛选出了iris数据集中所有以Length字符串结尾的变量。另外，如果想要筛选变量名包含某些字符的变量，则可以使用contain函数，例如，筛选出所有包含Se的变量："
   ]
  },
  {
   "cell_type": "code",
   "execution_count": 22,
   "metadata": {
    "ExecuteTime": {
     "end_time": "2022-01-09T01:43:33.169540Z",
     "start_time": "2022-01-09T01:43:33.121Z"
    },
    "scrolled": true
   },
   "outputs": [
    {
     "data": {
      "text/html": [
       "<table class=\"dataframe\">\n",
       "<caption>A data.frame: 150 × 2</caption>\n",
       "<thead>\n",
       "\t<tr><th scope=col>Sepal.Length</th><th scope=col>Sepal.Width</th></tr>\n",
       "\t<tr><th scope=col>&lt;dbl&gt;</th><th scope=col>&lt;dbl&gt;</th></tr>\n",
       "</thead>\n",
       "<tbody>\n",
       "\t<tr><td>5.1</td><td>3.5</td></tr>\n",
       "\t<tr><td>4.9</td><td>3.0</td></tr>\n",
       "\t<tr><td>4.7</td><td>3.2</td></tr>\n",
       "\t<tr><td>4.6</td><td>3.1</td></tr>\n",
       "\t<tr><td>5.0</td><td>3.6</td></tr>\n",
       "\t<tr><td>5.4</td><td>3.9</td></tr>\n",
       "\t<tr><td>4.6</td><td>3.4</td></tr>\n",
       "\t<tr><td>5.0</td><td>3.4</td></tr>\n",
       "\t<tr><td>4.4</td><td>2.9</td></tr>\n",
       "\t<tr><td>4.9</td><td>3.1</td></tr>\n",
       "\t<tr><td>5.4</td><td>3.7</td></tr>\n",
       "\t<tr><td>4.8</td><td>3.4</td></tr>\n",
       "\t<tr><td>4.8</td><td>3.0</td></tr>\n",
       "\t<tr><td>4.3</td><td>3.0</td></tr>\n",
       "\t<tr><td>5.8</td><td>4.0</td></tr>\n",
       "\t<tr><td>5.7</td><td>4.4</td></tr>\n",
       "\t<tr><td>5.4</td><td>3.9</td></tr>\n",
       "\t<tr><td>5.1</td><td>3.5</td></tr>\n",
       "\t<tr><td>5.7</td><td>3.8</td></tr>\n",
       "\t<tr><td>5.1</td><td>3.8</td></tr>\n",
       "\t<tr><td>5.4</td><td>3.4</td></tr>\n",
       "\t<tr><td>5.1</td><td>3.7</td></tr>\n",
       "\t<tr><td>4.6</td><td>3.6</td></tr>\n",
       "\t<tr><td>5.1</td><td>3.3</td></tr>\n",
       "\t<tr><td>4.8</td><td>3.4</td></tr>\n",
       "\t<tr><td>5.0</td><td>3.0</td></tr>\n",
       "\t<tr><td>5.0</td><td>3.4</td></tr>\n",
       "\t<tr><td>5.2</td><td>3.5</td></tr>\n",
       "\t<tr><td>5.2</td><td>3.4</td></tr>\n",
       "\t<tr><td>4.7</td><td>3.2</td></tr>\n",
       "\t<tr><td>...</td><td>...</td></tr>\n",
       "\t<tr><td>6.9</td><td>3.2</td></tr>\n",
       "\t<tr><td>5.6</td><td>2.8</td></tr>\n",
       "\t<tr><td>7.7</td><td>2.8</td></tr>\n",
       "\t<tr><td>6.3</td><td>2.7</td></tr>\n",
       "\t<tr><td>6.7</td><td>3.3</td></tr>\n",
       "\t<tr><td>7.2</td><td>3.2</td></tr>\n",
       "\t<tr><td>6.2</td><td>2.8</td></tr>\n",
       "\t<tr><td>6.1</td><td>3.0</td></tr>\n",
       "\t<tr><td>6.4</td><td>2.8</td></tr>\n",
       "\t<tr><td>7.2</td><td>3.0</td></tr>\n",
       "\t<tr><td>7.4</td><td>2.8</td></tr>\n",
       "\t<tr><td>7.9</td><td>3.8</td></tr>\n",
       "\t<tr><td>6.4</td><td>2.8</td></tr>\n",
       "\t<tr><td>6.3</td><td>2.8</td></tr>\n",
       "\t<tr><td>6.1</td><td>2.6</td></tr>\n",
       "\t<tr><td>7.7</td><td>3.0</td></tr>\n",
       "\t<tr><td>6.3</td><td>3.4</td></tr>\n",
       "\t<tr><td>6.4</td><td>3.1</td></tr>\n",
       "\t<tr><td>6.0</td><td>3.0</td></tr>\n",
       "\t<tr><td>6.9</td><td>3.1</td></tr>\n",
       "\t<tr><td>6.7</td><td>3.1</td></tr>\n",
       "\t<tr><td>6.9</td><td>3.1</td></tr>\n",
       "\t<tr><td>5.8</td><td>2.7</td></tr>\n",
       "\t<tr><td>6.8</td><td>3.2</td></tr>\n",
       "\t<tr><td>6.7</td><td>3.3</td></tr>\n",
       "\t<tr><td>6.7</td><td>3.0</td></tr>\n",
       "\t<tr><td>6.3</td><td>2.5</td></tr>\n",
       "\t<tr><td>6.5</td><td>3.0</td></tr>\n",
       "\t<tr><td>6.2</td><td>3.4</td></tr>\n",
       "\t<tr><td>5.9</td><td>3.0</td></tr>\n",
       "</tbody>\n",
       "</table>\n"
      ],
      "text/latex": [
       "A data.frame: 150 × 2\n",
       "\\begin{tabular}{ll}\n",
       " Sepal.Length & Sepal.Width\\\\\n",
       " <dbl> & <dbl>\\\\\n",
       "\\hline\n",
       "\t 5.1 & 3.5\\\\\n",
       "\t 4.9 & 3.0\\\\\n",
       "\t 4.7 & 3.2\\\\\n",
       "\t 4.6 & 3.1\\\\\n",
       "\t 5.0 & 3.6\\\\\n",
       "\t 5.4 & 3.9\\\\\n",
       "\t 4.6 & 3.4\\\\\n",
       "\t 5.0 & 3.4\\\\\n",
       "\t 4.4 & 2.9\\\\\n",
       "\t 4.9 & 3.1\\\\\n",
       "\t 5.4 & 3.7\\\\\n",
       "\t 4.8 & 3.4\\\\\n",
       "\t 4.8 & 3.0\\\\\n",
       "\t 4.3 & 3.0\\\\\n",
       "\t 5.8 & 4.0\\\\\n",
       "\t 5.7 & 4.4\\\\\n",
       "\t 5.4 & 3.9\\\\\n",
       "\t 5.1 & 3.5\\\\\n",
       "\t 5.7 & 3.8\\\\\n",
       "\t 5.1 & 3.8\\\\\n",
       "\t 5.4 & 3.4\\\\\n",
       "\t 5.1 & 3.7\\\\\n",
       "\t 4.6 & 3.6\\\\\n",
       "\t 5.1 & 3.3\\\\\n",
       "\t 4.8 & 3.4\\\\\n",
       "\t 5.0 & 3.0\\\\\n",
       "\t 5.0 & 3.4\\\\\n",
       "\t 5.2 & 3.5\\\\\n",
       "\t 5.2 & 3.4\\\\\n",
       "\t 4.7 & 3.2\\\\\n",
       "\t ... & ...\\\\\n",
       "\t 6.9 & 3.2\\\\\n",
       "\t 5.6 & 2.8\\\\\n",
       "\t 7.7 & 2.8\\\\\n",
       "\t 6.3 & 2.7\\\\\n",
       "\t 6.7 & 3.3\\\\\n",
       "\t 7.2 & 3.2\\\\\n",
       "\t 6.2 & 2.8\\\\\n",
       "\t 6.1 & 3.0\\\\\n",
       "\t 6.4 & 2.8\\\\\n",
       "\t 7.2 & 3.0\\\\\n",
       "\t 7.4 & 2.8\\\\\n",
       "\t 7.9 & 3.8\\\\\n",
       "\t 6.4 & 2.8\\\\\n",
       "\t 6.3 & 2.8\\\\\n",
       "\t 6.1 & 2.6\\\\\n",
       "\t 7.7 & 3.0\\\\\n",
       "\t 6.3 & 3.4\\\\\n",
       "\t 6.4 & 3.1\\\\\n",
       "\t 6.0 & 3.0\\\\\n",
       "\t 6.9 & 3.1\\\\\n",
       "\t 6.7 & 3.1\\\\\n",
       "\t 6.9 & 3.1\\\\\n",
       "\t 5.8 & 2.7\\\\\n",
       "\t 6.8 & 3.2\\\\\n",
       "\t 6.7 & 3.3\\\\\n",
       "\t 6.7 & 3.0\\\\\n",
       "\t 6.3 & 2.5\\\\\n",
       "\t 6.5 & 3.0\\\\\n",
       "\t 6.2 & 3.4\\\\\n",
       "\t 5.9 & 3.0\\\\\n",
       "\\end{tabular}\n"
      ],
      "text/markdown": [
       "\n",
       "A data.frame: 150 × 2\n",
       "\n",
       "| Sepal.Length &lt;dbl&gt; | Sepal.Width &lt;dbl&gt; |\n",
       "|---|---|\n",
       "| 5.1 | 3.5 |\n",
       "| 4.9 | 3.0 |\n",
       "| 4.7 | 3.2 |\n",
       "| 4.6 | 3.1 |\n",
       "| 5.0 | 3.6 |\n",
       "| 5.4 | 3.9 |\n",
       "| 4.6 | 3.4 |\n",
       "| 5.0 | 3.4 |\n",
       "| 4.4 | 2.9 |\n",
       "| 4.9 | 3.1 |\n",
       "| 5.4 | 3.7 |\n",
       "| 4.8 | 3.4 |\n",
       "| 4.8 | 3.0 |\n",
       "| 4.3 | 3.0 |\n",
       "| 5.8 | 4.0 |\n",
       "| 5.7 | 4.4 |\n",
       "| 5.4 | 3.9 |\n",
       "| 5.1 | 3.5 |\n",
       "| 5.7 | 3.8 |\n",
       "| 5.1 | 3.8 |\n",
       "| 5.4 | 3.4 |\n",
       "| 5.1 | 3.7 |\n",
       "| 4.6 | 3.6 |\n",
       "| 5.1 | 3.3 |\n",
       "| 4.8 | 3.4 |\n",
       "| 5.0 | 3.0 |\n",
       "| 5.0 | 3.4 |\n",
       "| 5.2 | 3.5 |\n",
       "| 5.2 | 3.4 |\n",
       "| 4.7 | 3.2 |\n",
       "| ... | ... |\n",
       "| 6.9 | 3.2 |\n",
       "| 5.6 | 2.8 |\n",
       "| 7.7 | 2.8 |\n",
       "| 6.3 | 2.7 |\n",
       "| 6.7 | 3.3 |\n",
       "| 7.2 | 3.2 |\n",
       "| 6.2 | 2.8 |\n",
       "| 6.1 | 3.0 |\n",
       "| 6.4 | 2.8 |\n",
       "| 7.2 | 3.0 |\n",
       "| 7.4 | 2.8 |\n",
       "| 7.9 | 3.8 |\n",
       "| 6.4 | 2.8 |\n",
       "| 6.3 | 2.8 |\n",
       "| 6.1 | 2.6 |\n",
       "| 7.7 | 3.0 |\n",
       "| 6.3 | 3.4 |\n",
       "| 6.4 | 3.1 |\n",
       "| 6.0 | 3.0 |\n",
       "| 6.9 | 3.1 |\n",
       "| 6.7 | 3.1 |\n",
       "| 6.9 | 3.1 |\n",
       "| 5.8 | 2.7 |\n",
       "| 6.8 | 3.2 |\n",
       "| 6.7 | 3.3 |\n",
       "| 6.7 | 3.0 |\n",
       "| 6.3 | 2.5 |\n",
       "| 6.5 | 3.0 |\n",
       "| 6.2 | 3.4 |\n",
       "| 5.9 | 3.0 |\n",
       "\n"
      ],
      "text/plain": [
       "    Sepal.Length Sepal.Width\n",
       "1   5.1          3.5        \n",
       "2   4.9          3.0        \n",
       "3   4.7          3.2        \n",
       "4   4.6          3.1        \n",
       "5   5.0          3.6        \n",
       "6   5.4          3.9        \n",
       "7   4.6          3.4        \n",
       "8   5.0          3.4        \n",
       "9   4.4          2.9        \n",
       "10  4.9          3.1        \n",
       "11  5.4          3.7        \n",
       "12  4.8          3.4        \n",
       "13  4.8          3.0        \n",
       "14  4.3          3.0        \n",
       "15  5.8          4.0        \n",
       "16  5.7          4.4        \n",
       "17  5.4          3.9        \n",
       "18  5.1          3.5        \n",
       "19  5.7          3.8        \n",
       "20  5.1          3.8        \n",
       "21  5.4          3.4        \n",
       "22  5.1          3.7        \n",
       "23  4.6          3.6        \n",
       "24  5.1          3.3        \n",
       "25  4.8          3.4        \n",
       "26  5.0          3.0        \n",
       "27  5.0          3.4        \n",
       "28  5.2          3.5        \n",
       "29  5.2          3.4        \n",
       "30  4.7          3.2        \n",
       "... ...          ...        \n",
       "121 6.9          3.2        \n",
       "122 5.6          2.8        \n",
       "123 7.7          2.8        \n",
       "124 6.3          2.7        \n",
       "125 6.7          3.3        \n",
       "126 7.2          3.2        \n",
       "127 6.2          2.8        \n",
       "128 6.1          3.0        \n",
       "129 6.4          2.8        \n",
       "130 7.2          3.0        \n",
       "131 7.4          2.8        \n",
       "132 7.9          3.8        \n",
       "133 6.4          2.8        \n",
       "134 6.3          2.8        \n",
       "135 6.1          2.6        \n",
       "136 7.7          3.0        \n",
       "137 6.3          3.4        \n",
       "138 6.4          3.1        \n",
       "139 6.0          3.0        \n",
       "140 6.9          3.1        \n",
       "141 6.7          3.1        \n",
       "142 6.9          3.1        \n",
       "143 5.8          2.7        \n",
       "144 6.8          3.2        \n",
       "145 6.7          3.3        \n",
       "146 6.7          3.0        \n",
       "147 6.3          2.5        \n",
       "148 6.5          3.0        \n",
       "149 6.2          3.4        \n",
       "150 5.9          3.0        "
      ]
     },
     "metadata": {},
     "output_type": "display_data"
    }
   ],
   "source": [
    "iris %>% dplyr::select(contains(c(\"Se\"))) # 筛选变量名包含Se的变量"
   ]
  },
  {
   "cell_type": "markdown",
   "metadata": {},
   "source": [
    "上面的代码中筛选出了字符串中包含Se的变量。更普遍的情况是，想要通过正则表达式来进行匹配，这个时候则需要使用matches函数，假设要筛选出包含'.c.',这个正则表达式的变量，则可以："
   ]
  },
  {
   "cell_type": "code",
   "execution_count": 23,
   "metadata": {
    "ExecuteTime": {
     "end_time": "2022-01-09T01:43:59.857682Z",
     "start_time": "2022-01-09T01:43:59.818Z"
    },
    "scrolled": true
   },
   "outputs": [
    {
     "data": {
      "text/html": [
       "<table class=\"dataframe\">\n",
       "<caption>A data.frame: 150 × 1</caption>\n",
       "<thead>\n",
       "\t<tr><th scope=col>Species</th></tr>\n",
       "\t<tr><th scope=col>&lt;fct&gt;</th></tr>\n",
       "</thead>\n",
       "<tbody>\n",
       "\t<tr><td>setosa</td></tr>\n",
       "\t<tr><td>setosa</td></tr>\n",
       "\t<tr><td>setosa</td></tr>\n",
       "\t<tr><td>setosa</td></tr>\n",
       "\t<tr><td>setosa</td></tr>\n",
       "\t<tr><td>setosa</td></tr>\n",
       "\t<tr><td>setosa</td></tr>\n",
       "\t<tr><td>setosa</td></tr>\n",
       "\t<tr><td>setosa</td></tr>\n",
       "\t<tr><td>setosa</td></tr>\n",
       "\t<tr><td>setosa</td></tr>\n",
       "\t<tr><td>setosa</td></tr>\n",
       "\t<tr><td>setosa</td></tr>\n",
       "\t<tr><td>setosa</td></tr>\n",
       "\t<tr><td>setosa</td></tr>\n",
       "\t<tr><td>setosa</td></tr>\n",
       "\t<tr><td>setosa</td></tr>\n",
       "\t<tr><td>setosa</td></tr>\n",
       "\t<tr><td>setosa</td></tr>\n",
       "\t<tr><td>setosa</td></tr>\n",
       "\t<tr><td>setosa</td></tr>\n",
       "\t<tr><td>setosa</td></tr>\n",
       "\t<tr><td>setosa</td></tr>\n",
       "\t<tr><td>setosa</td></tr>\n",
       "\t<tr><td>setosa</td></tr>\n",
       "\t<tr><td>setosa</td></tr>\n",
       "\t<tr><td>setosa</td></tr>\n",
       "\t<tr><td>setosa</td></tr>\n",
       "\t<tr><td>setosa</td></tr>\n",
       "\t<tr><td>setosa</td></tr>\n",
       "\t<tr><td>...</td></tr>\n",
       "\t<tr><td>virginica</td></tr>\n",
       "\t<tr><td>virginica</td></tr>\n",
       "\t<tr><td>virginica</td></tr>\n",
       "\t<tr><td>virginica</td></tr>\n",
       "\t<tr><td>virginica</td></tr>\n",
       "\t<tr><td>virginica</td></tr>\n",
       "\t<tr><td>virginica</td></tr>\n",
       "\t<tr><td>virginica</td></tr>\n",
       "\t<tr><td>virginica</td></tr>\n",
       "\t<tr><td>virginica</td></tr>\n",
       "\t<tr><td>virginica</td></tr>\n",
       "\t<tr><td>virginica</td></tr>\n",
       "\t<tr><td>virginica</td></tr>\n",
       "\t<tr><td>virginica</td></tr>\n",
       "\t<tr><td>virginica</td></tr>\n",
       "\t<tr><td>virginica</td></tr>\n",
       "\t<tr><td>virginica</td></tr>\n",
       "\t<tr><td>virginica</td></tr>\n",
       "\t<tr><td>virginica</td></tr>\n",
       "\t<tr><td>virginica</td></tr>\n",
       "\t<tr><td>virginica</td></tr>\n",
       "\t<tr><td>virginica</td></tr>\n",
       "\t<tr><td>virginica</td></tr>\n",
       "\t<tr><td>virginica</td></tr>\n",
       "\t<tr><td>virginica</td></tr>\n",
       "\t<tr><td>virginica</td></tr>\n",
       "\t<tr><td>virginica</td></tr>\n",
       "\t<tr><td>virginica</td></tr>\n",
       "\t<tr><td>virginica</td></tr>\n",
       "\t<tr><td>virginica</td></tr>\n",
       "</tbody>\n",
       "</table>\n"
      ],
      "text/latex": [
       "A data.frame: 150 × 1\n",
       "\\begin{tabular}{l}\n",
       " Species\\\\\n",
       " <fct>\\\\\n",
       "\\hline\n",
       "\t setosa\\\\\n",
       "\t setosa\\\\\n",
       "\t setosa\\\\\n",
       "\t setosa\\\\\n",
       "\t setosa\\\\\n",
       "\t setosa\\\\\n",
       "\t setosa\\\\\n",
       "\t setosa\\\\\n",
       "\t setosa\\\\\n",
       "\t setosa\\\\\n",
       "\t setosa\\\\\n",
       "\t setosa\\\\\n",
       "\t setosa\\\\\n",
       "\t setosa\\\\\n",
       "\t setosa\\\\\n",
       "\t setosa\\\\\n",
       "\t setosa\\\\\n",
       "\t setosa\\\\\n",
       "\t setosa\\\\\n",
       "\t setosa\\\\\n",
       "\t setosa\\\\\n",
       "\t setosa\\\\\n",
       "\t setosa\\\\\n",
       "\t setosa\\\\\n",
       "\t setosa\\\\\n",
       "\t setosa\\\\\n",
       "\t setosa\\\\\n",
       "\t setosa\\\\\n",
       "\t setosa\\\\\n",
       "\t setosa\\\\\n",
       "\t ...\\\\\n",
       "\t virginica\\\\\n",
       "\t virginica\\\\\n",
       "\t virginica\\\\\n",
       "\t virginica\\\\\n",
       "\t virginica\\\\\n",
       "\t virginica\\\\\n",
       "\t virginica\\\\\n",
       "\t virginica\\\\\n",
       "\t virginica\\\\\n",
       "\t virginica\\\\\n",
       "\t virginica\\\\\n",
       "\t virginica\\\\\n",
       "\t virginica\\\\\n",
       "\t virginica\\\\\n",
       "\t virginica\\\\\n",
       "\t virginica\\\\\n",
       "\t virginica\\\\\n",
       "\t virginica\\\\\n",
       "\t virginica\\\\\n",
       "\t virginica\\\\\n",
       "\t virginica\\\\\n",
       "\t virginica\\\\\n",
       "\t virginica\\\\\n",
       "\t virginica\\\\\n",
       "\t virginica\\\\\n",
       "\t virginica\\\\\n",
       "\t virginica\\\\\n",
       "\t virginica\\\\\n",
       "\t virginica\\\\\n",
       "\t virginica\\\\\n",
       "\\end{tabular}\n"
      ],
      "text/markdown": [
       "\n",
       "A data.frame: 150 × 1\n",
       "\n",
       "| Species &lt;fct&gt; |\n",
       "|---|\n",
       "| setosa |\n",
       "| setosa |\n",
       "| setosa |\n",
       "| setosa |\n",
       "| setosa |\n",
       "| setosa |\n",
       "| setosa |\n",
       "| setosa |\n",
       "| setosa |\n",
       "| setosa |\n",
       "| setosa |\n",
       "| setosa |\n",
       "| setosa |\n",
       "| setosa |\n",
       "| setosa |\n",
       "| setosa |\n",
       "| setosa |\n",
       "| setosa |\n",
       "| setosa |\n",
       "| setosa |\n",
       "| setosa |\n",
       "| setosa |\n",
       "| setosa |\n",
       "| setosa |\n",
       "| setosa |\n",
       "| setosa |\n",
       "| setosa |\n",
       "| setosa |\n",
       "| setosa |\n",
       "| setosa |\n",
       "| ... |\n",
       "| virginica |\n",
       "| virginica |\n",
       "| virginica |\n",
       "| virginica |\n",
       "| virginica |\n",
       "| virginica |\n",
       "| virginica |\n",
       "| virginica |\n",
       "| virginica |\n",
       "| virginica |\n",
       "| virginica |\n",
       "| virginica |\n",
       "| virginica |\n",
       "| virginica |\n",
       "| virginica |\n",
       "| virginica |\n",
       "| virginica |\n",
       "| virginica |\n",
       "| virginica |\n",
       "| virginica |\n",
       "| virginica |\n",
       "| virginica |\n",
       "| virginica |\n",
       "| virginica |\n",
       "| virginica |\n",
       "| virginica |\n",
       "| virginica |\n",
       "| virginica |\n",
       "| virginica |\n",
       "| virginica |\n",
       "\n"
      ],
      "text/plain": [
       "    Species  \n",
       "1   setosa   \n",
       "2   setosa   \n",
       "3   setosa   \n",
       "4   setosa   \n",
       "5   setosa   \n",
       "6   setosa   \n",
       "7   setosa   \n",
       "8   setosa   \n",
       "9   setosa   \n",
       "10  setosa   \n",
       "11  setosa   \n",
       "12  setosa   \n",
       "13  setosa   \n",
       "14  setosa   \n",
       "15  setosa   \n",
       "16  setosa   \n",
       "17  setosa   \n",
       "18  setosa   \n",
       "19  setosa   \n",
       "20  setosa   \n",
       "21  setosa   \n",
       "22  setosa   \n",
       "23  setosa   \n",
       "24  setosa   \n",
       "25  setosa   \n",
       "26  setosa   \n",
       "27  setosa   \n",
       "28  setosa   \n",
       "29  setosa   \n",
       "30  setosa   \n",
       "... ...      \n",
       "121 virginica\n",
       "122 virginica\n",
       "123 virginica\n",
       "124 virginica\n",
       "125 virginica\n",
       "126 virginica\n",
       "127 virginica\n",
       "128 virginica\n",
       "129 virginica\n",
       "130 virginica\n",
       "131 virginica\n",
       "132 virginica\n",
       "133 virginica\n",
       "134 virginica\n",
       "135 virginica\n",
       "136 virginica\n",
       "137 virginica\n",
       "138 virginica\n",
       "139 virginica\n",
       "140 virginica\n",
       "141 virginica\n",
       "142 virginica\n",
       "143 virginica\n",
       "144 virginica\n",
       "145 virginica\n",
       "146 virginica\n",
       "147 virginica\n",
       "148 virginica\n",
       "149 virginica\n",
       "150 virginica"
      ]
     },
     "metadata": {},
     "output_type": "display_data"
    }
   ],
   "source": [
    "iris %>% dplyr::select(matches('.c.')) # 通过正则表达是筛选变量"
   ]
  },
  {
   "cell_type": "markdown",
   "metadata": {},
   "source": [
    "上面的代码筛选出了Species，而代码中正则表达式的含义是筛选出字符串中所有包含‘c’的变量。以上是对于数据集的列进行操作。接下来介绍如果对于数据集进行排序。"
   ]
  },
  {
   "cell_type": "markdown",
   "metadata": {},
   "source": [
    "### 2.1.3  数据排序以及新变量生成\n",
    "对数据及进行排序是数据处理的过程中非常常见的操作。R中默认的排序函数有三个，分别是order函数，sort函数和rank函数。这里介绍对数据进行排序更友好的一种方式，是来自dplyr包中的arrange函数。函数的第一个参数为需要处理的数据集，其他的参数是需要排序的变量。下面对iris数据集根据Petal.Width特征进行排序："
   ]
  },
  {
   "cell_type": "code",
   "execution_count": 24,
   "metadata": {
    "ExecuteTime": {
     "end_time": "2022-01-09T01:45:44.253807Z",
     "start_time": "2022-01-09T01:45:44.218Z"
    }
   },
   "outputs": [
    {
     "data": {
      "text/html": [
       "<table class=\"dataframe\">\n",
       "<caption>A data.frame: 3 × 5</caption>\n",
       "<thead>\n",
       "\t<tr><th></th><th scope=col>Sepal.Length</th><th scope=col>Sepal.Width</th><th scope=col>Petal.Length</th><th scope=col>Petal.Width</th><th scope=col>Species</th></tr>\n",
       "\t<tr><th></th><th scope=col>&lt;dbl&gt;</th><th scope=col>&lt;dbl&gt;</th><th scope=col>&lt;dbl&gt;</th><th scope=col>&lt;dbl&gt;</th><th scope=col>&lt;fct&gt;</th></tr>\n",
       "</thead>\n",
       "<tbody>\n",
       "\t<tr><th scope=row>1</th><td>4.9</td><td>3.1</td><td>1.5</td><td>0.1</td><td>setosa</td></tr>\n",
       "\t<tr><th scope=row>2</th><td>4.8</td><td>3.0</td><td>1.4</td><td>0.1</td><td>setosa</td></tr>\n",
       "\t<tr><th scope=row>3</th><td>4.3</td><td>3.0</td><td>1.1</td><td>0.1</td><td>setosa</td></tr>\n",
       "</tbody>\n",
       "</table>\n"
      ],
      "text/latex": [
       "A data.frame: 3 × 5\n",
       "\\begin{tabular}{r|lllll}\n",
       "  & Sepal.Length & Sepal.Width & Petal.Length & Petal.Width & Species\\\\\n",
       "  & <dbl> & <dbl> & <dbl> & <dbl> & <fct>\\\\\n",
       "\\hline\n",
       "\t1 & 4.9 & 3.1 & 1.5 & 0.1 & setosa\\\\\n",
       "\t2 & 4.8 & 3.0 & 1.4 & 0.1 & setosa\\\\\n",
       "\t3 & 4.3 & 3.0 & 1.1 & 0.1 & setosa\\\\\n",
       "\\end{tabular}\n"
      ],
      "text/markdown": [
       "\n",
       "A data.frame: 3 × 5\n",
       "\n",
       "| <!--/--> | Sepal.Length &lt;dbl&gt; | Sepal.Width &lt;dbl&gt; | Petal.Length &lt;dbl&gt; | Petal.Width &lt;dbl&gt; | Species &lt;fct&gt; |\n",
       "|---|---|---|---|---|---|\n",
       "| 1 | 4.9 | 3.1 | 1.5 | 0.1 | setosa |\n",
       "| 2 | 4.8 | 3.0 | 1.4 | 0.1 | setosa |\n",
       "| 3 | 4.3 | 3.0 | 1.1 | 0.1 | setosa |\n",
       "\n"
      ],
      "text/plain": [
       "  Sepal.Length Sepal.Width Petal.Length Petal.Width Species\n",
       "1 4.9          3.1         1.5          0.1         setosa \n",
       "2 4.8          3.0         1.4          0.1         setosa \n",
       "3 4.3          3.0         1.1          0.1         setosa "
      ]
     },
     "metadata": {},
     "output_type": "display_data"
    }
   ],
   "source": [
    "iris %>% arrange(Petal.Width) %>% head(3) # 对数据集进行排序"
   ]
  },
  {
   "cell_type": "markdown",
   "metadata": {},
   "source": [
    "上面的代码对于iris数据集进行排序，排序的特征是Petal.Width。排序的方式是升序排序。如果想要降序排序，则需要使用desc函数："
   ]
  },
  {
   "cell_type": "code",
   "execution_count": 25,
   "metadata": {
    "ExecuteTime": {
     "end_time": "2022-01-09T01:47:12.060611Z",
     "start_time": "2022-01-09T01:47:12.030Z"
    }
   },
   "outputs": [
    {
     "data": {
      "text/html": [
       "<table class=\"dataframe\">\n",
       "<caption>A data.frame: 3 × 5</caption>\n",
       "<thead>\n",
       "\t<tr><th></th><th scope=col>Sepal.Length</th><th scope=col>Sepal.Width</th><th scope=col>Petal.Length</th><th scope=col>Petal.Width</th><th scope=col>Species</th></tr>\n",
       "\t<tr><th></th><th scope=col>&lt;dbl&gt;</th><th scope=col>&lt;dbl&gt;</th><th scope=col>&lt;dbl&gt;</th><th scope=col>&lt;dbl&gt;</th><th scope=col>&lt;fct&gt;</th></tr>\n",
       "</thead>\n",
       "<tbody>\n",
       "\t<tr><th scope=row>1</th><td>6.3</td><td>3.3</td><td>6.0</td><td>2.5</td><td>virginica</td></tr>\n",
       "\t<tr><th scope=row>2</th><td>7.2</td><td>3.6</td><td>6.1</td><td>2.5</td><td>virginica</td></tr>\n",
       "\t<tr><th scope=row>3</th><td>6.7</td><td>3.3</td><td>5.7</td><td>2.5</td><td>virginica</td></tr>\n",
       "</tbody>\n",
       "</table>\n"
      ],
      "text/latex": [
       "A data.frame: 3 × 5\n",
       "\\begin{tabular}{r|lllll}\n",
       "  & Sepal.Length & Sepal.Width & Petal.Length & Petal.Width & Species\\\\\n",
       "  & <dbl> & <dbl> & <dbl> & <dbl> & <fct>\\\\\n",
       "\\hline\n",
       "\t1 & 6.3 & 3.3 & 6.0 & 2.5 & virginica\\\\\n",
       "\t2 & 7.2 & 3.6 & 6.1 & 2.5 & virginica\\\\\n",
       "\t3 & 6.7 & 3.3 & 5.7 & 2.5 & virginica\\\\\n",
       "\\end{tabular}\n"
      ],
      "text/markdown": [
       "\n",
       "A data.frame: 3 × 5\n",
       "\n",
       "| <!--/--> | Sepal.Length &lt;dbl&gt; | Sepal.Width &lt;dbl&gt; | Petal.Length &lt;dbl&gt; | Petal.Width &lt;dbl&gt; | Species &lt;fct&gt; |\n",
       "|---|---|---|---|---|---|\n",
       "| 1 | 6.3 | 3.3 | 6.0 | 2.5 | virginica |\n",
       "| 2 | 7.2 | 3.6 | 6.1 | 2.5 | virginica |\n",
       "| 3 | 6.7 | 3.3 | 5.7 | 2.5 | virginica |\n",
       "\n"
      ],
      "text/plain": [
       "  Sepal.Length Sepal.Width Petal.Length Petal.Width Species  \n",
       "1 6.3          3.3         6.0          2.5         virginica\n",
       "2 7.2          3.6         6.1          2.5         virginica\n",
       "3 6.7          3.3         5.7          2.5         virginica"
      ]
     },
     "metadata": {},
     "output_type": "display_data"
    }
   ],
   "source": [
    "iris %>% arrange(desc(Petal.Width)) %>% head(3) # 对数据集进行降序排序"
   ]
  },
  {
   "cell_type": "markdown",
   "metadata": {},
   "source": [
    "上面的代码对于iris数据集进行排序，排序的特征是Petal.Width。排序的方式是升序排序。如果想要升序排序。如果希望根据多个变量进行排序，实现的方式非常简单，只需要指定多个排序变量即可："
   ]
  },
  {
   "cell_type": "code",
   "execution_count": 26,
   "metadata": {
    "ExecuteTime": {
     "end_time": "2022-01-09T01:47:28.674482Z",
     "start_time": "2022-01-09T01:47:28.648Z"
    }
   },
   "outputs": [
    {
     "data": {
      "text/html": [
       "<table class=\"dataframe\">\n",
       "<caption>A data.frame: 3 × 5</caption>\n",
       "<thead>\n",
       "\t<tr><th></th><th scope=col>Sepal.Length</th><th scope=col>Sepal.Width</th><th scope=col>Petal.Length</th><th scope=col>Petal.Width</th><th scope=col>Species</th></tr>\n",
       "\t<tr><th></th><th scope=col>&lt;dbl&gt;</th><th scope=col>&lt;dbl&gt;</th><th scope=col>&lt;dbl&gt;</th><th scope=col>&lt;dbl&gt;</th><th scope=col>&lt;fct&gt;</th></tr>\n",
       "</thead>\n",
       "<tbody>\n",
       "\t<tr><th scope=row>1</th><td>6.7</td><td>3.3</td><td>5.7</td><td>2.5</td><td>virginica</td></tr>\n",
       "\t<tr><th scope=row>2</th><td>6.3</td><td>3.3</td><td>6.0</td><td>2.5</td><td>virginica</td></tr>\n",
       "\t<tr><th scope=row>3</th><td>7.2</td><td>3.6</td><td>6.1</td><td>2.5</td><td>virginica</td></tr>\n",
       "</tbody>\n",
       "</table>\n"
      ],
      "text/latex": [
       "A data.frame: 3 × 5\n",
       "\\begin{tabular}{r|lllll}\n",
       "  & Sepal.Length & Sepal.Width & Petal.Length & Petal.Width & Species\\\\\n",
       "  & <dbl> & <dbl> & <dbl> & <dbl> & <fct>\\\\\n",
       "\\hline\n",
       "\t1 & 6.7 & 3.3 & 5.7 & 2.5 & virginica\\\\\n",
       "\t2 & 6.3 & 3.3 & 6.0 & 2.5 & virginica\\\\\n",
       "\t3 & 7.2 & 3.6 & 6.1 & 2.5 & virginica\\\\\n",
       "\\end{tabular}\n"
      ],
      "text/markdown": [
       "\n",
       "A data.frame: 3 × 5\n",
       "\n",
       "| <!--/--> | Sepal.Length &lt;dbl&gt; | Sepal.Width &lt;dbl&gt; | Petal.Length &lt;dbl&gt; | Petal.Width &lt;dbl&gt; | Species &lt;fct&gt; |\n",
       "|---|---|---|---|---|---|\n",
       "| 1 | 6.7 | 3.3 | 5.7 | 2.5 | virginica |\n",
       "| 2 | 6.3 | 3.3 | 6.0 | 2.5 | virginica |\n",
       "| 3 | 7.2 | 3.6 | 6.1 | 2.5 | virginica |\n",
       "\n"
      ],
      "text/plain": [
       "  Sepal.Length Sepal.Width Petal.Length Petal.Width Species  \n",
       "1 6.7          3.3         5.7          2.5         virginica\n",
       "2 6.3          3.3         6.0          2.5         virginica\n",
       "3 7.2          3.6         6.1          2.5         virginica"
      ]
     },
     "metadata": {},
     "output_type": "display_data"
    }
   ],
   "source": [
    "iris %>% arrange(desc(Petal.Width),Petal.Length) %>% head(3) # 对两个变量进行排序"
   ]
  },
  {
   "cell_type": "markdown",
   "metadata": {},
   "source": [
    "上面的代码根据多个变量进行排序，首先根据Petal.Width变量进行降序排序，然后根据Petal.Length变量进行升序进行排序，最后返回排序之后的数据集。\n",
    "\n",
    "以上是关于数据探索中排序相关的操作。在数据探索中，往往还涉及到新变量的生成，例如，想要对数据进行对数转换，将转换之后的数据生成一个新的变量。这个时候需要时mutate函数，这个函数可以再原始的数据集中生成一个新的变量。例如，对iris数据集进行处理，需要计算Sepal.Length与Sepal.Width 的和，并生成一个新的变量，则可以使用mutate函数，代码如下："
   ]
  },
  {
   "cell_type": "code",
   "execution_count": 27,
   "metadata": {
    "ExecuteTime": {
     "end_time": "2022-01-09T01:47:44.403747Z",
     "start_time": "2022-01-09T01:47:44.378Z"
    }
   },
   "outputs": [
    {
     "data": {
      "text/html": [
       "<table class=\"dataframe\">\n",
       "<caption>A data.frame: 3 × 6</caption>\n",
       "<thead>\n",
       "\t<tr><th></th><th scope=col>Sepal.Length</th><th scope=col>Sepal.Width</th><th scope=col>Petal.Length</th><th scope=col>Petal.Width</th><th scope=col>Species</th><th scope=col>Sepal</th></tr>\n",
       "\t<tr><th></th><th scope=col>&lt;dbl&gt;</th><th scope=col>&lt;dbl&gt;</th><th scope=col>&lt;dbl&gt;</th><th scope=col>&lt;dbl&gt;</th><th scope=col>&lt;fct&gt;</th><th scope=col>&lt;dbl&gt;</th></tr>\n",
       "</thead>\n",
       "<tbody>\n",
       "\t<tr><th scope=row>1</th><td>5.1</td><td>3.5</td><td>1.4</td><td>0.2</td><td>setosa</td><td>8.6</td></tr>\n",
       "\t<tr><th scope=row>2</th><td>4.9</td><td>3.0</td><td>1.4</td><td>0.2</td><td>setosa</td><td>7.9</td></tr>\n",
       "\t<tr><th scope=row>3</th><td>4.7</td><td>3.2</td><td>1.3</td><td>0.2</td><td>setosa</td><td>7.9</td></tr>\n",
       "</tbody>\n",
       "</table>\n"
      ],
      "text/latex": [
       "A data.frame: 3 × 6\n",
       "\\begin{tabular}{r|llllll}\n",
       "  & Sepal.Length & Sepal.Width & Petal.Length & Petal.Width & Species & Sepal\\\\\n",
       "  & <dbl> & <dbl> & <dbl> & <dbl> & <fct> & <dbl>\\\\\n",
       "\\hline\n",
       "\t1 & 5.1 & 3.5 & 1.4 & 0.2 & setosa & 8.6\\\\\n",
       "\t2 & 4.9 & 3.0 & 1.4 & 0.2 & setosa & 7.9\\\\\n",
       "\t3 & 4.7 & 3.2 & 1.3 & 0.2 & setosa & 7.9\\\\\n",
       "\\end{tabular}\n"
      ],
      "text/markdown": [
       "\n",
       "A data.frame: 3 × 6\n",
       "\n",
       "| <!--/--> | Sepal.Length &lt;dbl&gt; | Sepal.Width &lt;dbl&gt; | Petal.Length &lt;dbl&gt; | Petal.Width &lt;dbl&gt; | Species &lt;fct&gt; | Sepal &lt;dbl&gt; |\n",
       "|---|---|---|---|---|---|---|\n",
       "| 1 | 5.1 | 3.5 | 1.4 | 0.2 | setosa | 8.6 |\n",
       "| 2 | 4.9 | 3.0 | 1.4 | 0.2 | setosa | 7.9 |\n",
       "| 3 | 4.7 | 3.2 | 1.3 | 0.2 | setosa | 7.9 |\n",
       "\n"
      ],
      "text/plain": [
       "  Sepal.Length Sepal.Width Petal.Length Petal.Width Species Sepal\n",
       "1 5.1          3.5         1.4          0.2         setosa  8.6  \n",
       "2 4.9          3.0         1.4          0.2         setosa  7.9  \n",
       "3 4.7          3.2         1.3          0.2         setosa  7.9  "
      ]
     },
     "metadata": {},
     "output_type": "display_data"
    }
   ],
   "source": [
    "iris %>% mutate(Sepal = Sepal.Length + Sepal.Width) %>% head(3) # 生成一个新的变量"
   ]
  },
  {
   "cell_type": "markdown",
   "metadata": {},
   "source": [
    "上面的代码计算出来了iris数据集中Sepal.Length和Sepal.Width两个变量的和，并将和的结果生成为Sepal变量。mutate函数的使用方式很简单，变量名 = 变量的公式，设置好了之后调用mutate函数即可，最后返回的结果则会包含新生成的数据集。\n"
   ]
  },
  {
   "cell_type": "markdown",
   "metadata": {},
   "source": [
    "### 2.1.4数据分组汇总\n",
    "\n",
    "数据的分组也是数据探索的重要的手段，通过对数据不断地分组，可以细化数据的维度，能够更加细致的了解数据。这里对数据分组进行操作的函数是group_by函数，计算统计汇总的函数是summarise函数。首先介绍summarise函数，对于整个数据集使用summarise可以计算关于整个数据集的统计量。例如，计算iris数据集中各个特征的平均值，则可以使用summarise函数："
   ]
  },
  {
   "cell_type": "code",
   "execution_count": 28,
   "metadata": {
    "ExecuteTime": {
     "end_time": "2022-01-09T01:48:24.659605Z",
     "start_time": "2022-01-09T01:48:24.634Z"
    }
   },
   "outputs": [
    {
     "data": {
      "text/html": [
       "<table class=\"dataframe\">\n",
       "<caption>A data.frame: 1 × 4</caption>\n",
       "<thead>\n",
       "\t<tr><th scope=col>mean(Sepal.Length)</th><th scope=col>mean(Sepal.Width)</th><th scope=col>mean(Petal.Length)</th><th scope=col>mean(Petal.Width)</th></tr>\n",
       "\t<tr><th scope=col>&lt;dbl&gt;</th><th scope=col>&lt;dbl&gt;</th><th scope=col>&lt;dbl&gt;</th><th scope=col>&lt;dbl&gt;</th></tr>\n",
       "</thead>\n",
       "<tbody>\n",
       "\t<tr><td>5.843333</td><td>3.057333</td><td>3.758</td><td>1.199333</td></tr>\n",
       "</tbody>\n",
       "</table>\n"
      ],
      "text/latex": [
       "A data.frame: 1 × 4\n",
       "\\begin{tabular}{llll}\n",
       " mean(Sepal.Length) & mean(Sepal.Width) & mean(Petal.Length) & mean(Petal.Width)\\\\\n",
       " <dbl> & <dbl> & <dbl> & <dbl>\\\\\n",
       "\\hline\n",
       "\t 5.843333 & 3.057333 & 3.758 & 1.199333\\\\\n",
       "\\end{tabular}\n"
      ],
      "text/markdown": [
       "\n",
       "A data.frame: 1 × 4\n",
       "\n",
       "| mean(Sepal.Length) &lt;dbl&gt; | mean(Sepal.Width) &lt;dbl&gt; | mean(Petal.Length) &lt;dbl&gt; | mean(Petal.Width) &lt;dbl&gt; |\n",
       "|---|---|---|---|\n",
       "| 5.843333 | 3.057333 | 3.758 | 1.199333 |\n",
       "\n"
      ],
      "text/plain": [
       "  mean(Sepal.Length) mean(Sepal.Width) mean(Petal.Length) mean(Petal.Width)\n",
       "1 5.843333           3.057333          3.758              1.199333         "
      ]
     },
     "metadata": {},
     "output_type": "display_data"
    }
   ],
   "source": [
    "iris %>% summarise(mean(Sepal.Length),mean(Sepal.Width),mean(Petal.Length),mean(Petal.Width)) # 计算数据集的统计量"
   ]
  },
  {
   "cell_type": "markdown",
   "metadata": {},
   "source": [
    "上面的代码中计算了iris数据集中四个连续变量的平均值。summarise函数常常与group_by函数一起使用，用于计算不同组别的统计量。例如，在iris数据集中，一共有三种不同的物种Species,如果想要计算不同物种的平均值，则需要使用group_by函数根据Species进行分组，然后计算平均值："
   ]
  },
  {
   "cell_type": "code",
   "execution_count": 29,
   "metadata": {
    "ExecuteTime": {
     "end_time": "2022-01-09T01:51:08.474345Z",
     "start_time": "2022-01-09T01:51:08.445Z"
    }
   },
   "outputs": [
    {
     "data": {
      "text/html": [
       "<table class=\"dataframe\">\n",
       "<caption>A tibble: 3 × 5</caption>\n",
       "<thead>\n",
       "\t<tr><th scope=col>Species</th><th scope=col>mean(Sepal.Length)</th><th scope=col>mean(Sepal.Width)</th><th scope=col>mean(Petal.Length)</th><th scope=col>mean(Petal.Width)</th></tr>\n",
       "\t<tr><th scope=col>&lt;fct&gt;</th><th scope=col>&lt;dbl&gt;</th><th scope=col>&lt;dbl&gt;</th><th scope=col>&lt;dbl&gt;</th><th scope=col>&lt;dbl&gt;</th></tr>\n",
       "</thead>\n",
       "<tbody>\n",
       "\t<tr><td>setosa    </td><td>5.006</td><td>3.428</td><td>1.462</td><td>0.246</td></tr>\n",
       "\t<tr><td>versicolor</td><td>5.936</td><td>2.770</td><td>4.260</td><td>1.326</td></tr>\n",
       "\t<tr><td>virginica </td><td>6.588</td><td>2.974</td><td>5.552</td><td>2.026</td></tr>\n",
       "</tbody>\n",
       "</table>\n"
      ],
      "text/latex": [
       "A tibble: 3 × 5\n",
       "\\begin{tabular}{lllll}\n",
       " Species & mean(Sepal.Length) & mean(Sepal.Width) & mean(Petal.Length) & mean(Petal.Width)\\\\\n",
       " <fct> & <dbl> & <dbl> & <dbl> & <dbl>\\\\\n",
       "\\hline\n",
       "\t setosa     & 5.006 & 3.428 & 1.462 & 0.246\\\\\n",
       "\t versicolor & 5.936 & 2.770 & 4.260 & 1.326\\\\\n",
       "\t virginica  & 6.588 & 2.974 & 5.552 & 2.026\\\\\n",
       "\\end{tabular}\n"
      ],
      "text/markdown": [
       "\n",
       "A tibble: 3 × 5\n",
       "\n",
       "| Species &lt;fct&gt; | mean(Sepal.Length) &lt;dbl&gt; | mean(Sepal.Width) &lt;dbl&gt; | mean(Petal.Length) &lt;dbl&gt; | mean(Petal.Width) &lt;dbl&gt; |\n",
       "|---|---|---|---|---|\n",
       "| setosa     | 5.006 | 3.428 | 1.462 | 0.246 |\n",
       "| versicolor | 5.936 | 2.770 | 4.260 | 1.326 |\n",
       "| virginica  | 6.588 | 2.974 | 5.552 | 2.026 |\n",
       "\n"
      ],
      "text/plain": [
       "  Species    mean(Sepal.Length) mean(Sepal.Width) mean(Petal.Length)\n",
       "1 setosa     5.006              3.428             1.462             \n",
       "2 versicolor 5.936              2.770             4.260             \n",
       "3 virginica  6.588              2.974             5.552             \n",
       "  mean(Petal.Width)\n",
       "1 0.246            \n",
       "2 1.326            \n",
       "3 2.026            "
      ]
     },
     "metadata": {},
     "output_type": "display_data"
    }
   ],
   "source": [
    "iris %>% group_by(Species) %>% summarise(mean(Sepal.Length),mean(Sepal.Width),mean(Petal.Length),mean(Petal.Width)) # 对数据集进行分组，然后计算分组后数据集的统计量"
   ]
  },
  {
   "attachments": {
    "image.png": {
     "image/png": "[encoded data removed]"
    }
   },
   "cell_type": "markdown",
   "metadata": {},
   "source": [
    "上面的代码中计算出了不同的物种，其Sepal.Length，Sepal.Width，Petal.Length和Petal.Length的平均值。同样，也可以根据多个变量进行分组汇总，实现的方法就是在group_by函数中添加多个变量即可。\n",
    "### 。1.52 数据合并\n",
    "在进行数据探索的过程中，处理的数据集往往不止一个，这个时候就会涉及一些数据表合并相关的工作。数据表合并一般有四种，左连接，右连接，内连接，外连接等等。\n",
    "\n",
    "左连接表示的是选择表A中的所有记录，以及表B中满足连接条件的记录（如果有的话）。以表A的数据为基准，不管表B有没有对应的数据，下图通过图解的方式解释了左连接。\n",
    "![image.png](attachment:image.png)\n",
    "\n",
    "右连接和左连接非常相似，选择表B中的所有记录，以及表A中满足连接条件的记录（如果有的话），下图通过图解的方式解释了右连接：\n"
   ]
  },
  {
   "cell_type": "code",
   "execution_count": null,
   "metadata": {},
   "outputs": [],
   "source": []
  }
 ],
 "metadata": {
  "hide_input": false,
  "kernelspec": {
   "display_name": "R",
   "language": "R",
   "name": "ir"
  },
  "language_info": {
   "codemirror_mode": "r",
   "file_extension": ".r",
   "mimetype": "text/x-r-source",
   "name": "R",
   "pygments_lexer": "r",
   "version": "4.1.1"
  },
  "toc": {
   "base_numbering": 1,
   "nav_menu": {},
   "number_sections": false,
   "sideBar": true,
   "skip_h1_title": false,
   "title_cell": "Table of Contents",
   "title_sidebar": "Contents",
   "toc_cell": false,
   "toc_position": {
    "height": "calc(100% - 180px)",
    "left": "10px",
    "top": "150px",
    "width": "283.431px"
   },
   "toc_section_display": true,
   "toc_window_display": false
  },
  "varInspector": {
   "cols": {
    "lenName": 16,
    "lenType": 16,
    "lenVar": 40
   },
   "kernels_config": {
    "python": {
     "delete_cmd_postfix": "",
     "delete_cmd_prefix": "del ",
     "library": "var_list.py",
     "varRefreshCmd": "print(var_dic_list())"
    },
    "r": {
     "delete_cmd_postfix": ") ",
     "delete_cmd_prefix": "rm(",
     "library": "var_list.r",
     "varRefreshCmd": "cat(var_dic_list()) "
    }
   },
   "types_to_exclude": [
    "module",
    "function",
    "builtin_function_or_method",
    "instance",
    "_Feature"
   ],
   "window_display": false
  }
 },
 "nbformat": 4,
 "nbformat_minor": 2
}

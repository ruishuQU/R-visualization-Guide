{
 "cells": [
  {
   "cell_type": "markdown",
   "metadata": {},
   "source": [
    "# 1 R语言数据可视化简介"
   ]
  },
  {
   "cell_type": "markdown",
   "metadata": {},
   "source": [
    "## 1.1 R语言介绍\n",
    "R是一种编程语言和自由软件，常用于统计计算和图形绘制。\n",
    "\n",
    "详细内容参考链接：\n",
    "\n",
    "https://baike.baidu.com/item/R%E8%AF%AD%E8%A8%80/4090790?fr=aladdin"
   ]
  },
  {
   "cell_type": "markdown",
   "metadata": {
    "ExecuteTime": {
     "end_time": "2022-01-04T13:58:09.148053Z",
     "start_time": "2022-01-04T13:58:09.130Z"
    }
   },
   "source": [
    "### 1.1.1 向量\n",
    "向量即一组数据。"
   ]
  },
  {
   "cell_type": "code",
   "execution_count": 2,
   "metadata": {
    "ExecuteTime": {
     "end_time": "2022-01-04T14:00:55.906008Z",
     "start_time": "2022-01-04T14:00:55.882Z"
    }
   },
   "outputs": [
    {
     "data": {
      "text/html": [
       "<style>\n",
       ".list-inline {list-style: none; margin:0; padding: 0}\n",
       ".list-inline>li {display: inline-block}\n",
       ".list-inline>li:not(:last-child)::after {content: \"\\00b7\"; padding: 0 .5ex}\n",
       "</style>\n",
       "<ol class=list-inline><li>'a'</li><li>'b'</li><li>'c'</li></ol>\n"
      ],
      "text/latex": [
       "\\begin{enumerate*}\n",
       "\\item 'a'\n",
       "\\item 'b'\n",
       "\\item 'c'\n",
       "\\end{enumerate*}\n"
      ],
      "text/markdown": [
       "1. 'a'\n",
       "2. 'b'\n",
       "3. 'c'\n",
       "\n",
       "\n"
      ],
      "text/plain": [
       "[1] \"a\" \"b\" \"c\""
      ]
     },
     "metadata": {},
     "output_type": "display_data"
    }
   ],
   "source": [
    "#创建一个向量\n",
    "letter <- c(\"a\",\"b\",\"c\")\n",
    "letter"
   ]
  },
  {
   "cell_type": "markdown",
   "metadata": {
    "ExecuteTime": {
     "end_time": "2022-01-04T14:04:28.962275Z",
     "start_time": "2022-01-04T14:04:28.942Z"
    }
   },
   "source": [
    "上面代码用c()创建了一个向量，包含三个元素。"
   ]
  },
  {
   "cell_type": "code",
   "execution_count": 3,
   "metadata": {
    "ExecuteTime": {
     "end_time": "2022-01-04T14:01:30.225682Z",
     "start_time": "2022-01-04T14:01:30.207Z"
    }
   },
   "outputs": [
    {
     "data": {
      "text/html": [
       "'character'"
      ],
      "text/latex": [
       "'character'"
      ],
      "text/markdown": [
       "'character'"
      ],
      "text/plain": [
       "[1] \"character\""
      ]
     },
     "metadata": {},
     "output_type": "display_data"
    }
   ],
   "source": [
    "# 查看数据类型\n",
    "class(letter)"
   ]
  },
  {
   "cell_type": "code",
   "execution_count": 6,
   "metadata": {
    "ExecuteTime": {
     "end_time": "2022-01-04T14:29:33.718353Z",
     "start_time": "2022-01-04T14:29:33.699Z"
    }
   },
   "outputs": [
    {
     "data": {
      "text/html": [
       "'a'"
      ],
      "text/latex": [
       "'a'"
      ],
      "text/markdown": [
       "'a'"
      ],
      "text/plain": [
       "[1] \"a\""
      ]
     },
     "metadata": {},
     "output_type": "display_data"
    }
   ],
   "source": [
    "letter[1]# 提取向量中的第一个元素"
   ]
  },
  {
   "cell_type": "markdown",
   "metadata": {},
   "source": [
    "### 1.1.2 列表\n",
    "* 列表（lsit）通常用于存储不同数据类型的数据。\n",
    "* 列表中包含了：向量、列表、数组、矩阵、数据框这几种数据结构。\n",
    "* 列表可以进行嵌套多层。"
   ]
  },
  {
   "cell_type": "code",
   "execution_count": 14,
   "metadata": {
    "ExecuteTime": {
     "end_time": "2022-01-05T15:17:12.639720Z",
     "start_time": "2022-01-05T15:17:12.610Z"
    }
   },
   "outputs": [
    {
     "data": {
      "text/html": [
       "<dl>\n",
       "\t<dt>[[1]]</dt>\n",
       "\t\t<dd><style>\n",
       ".list-inline {list-style: none; margin:0; padding: 0}\n",
       ".list-inline>li {display: inline-block}\n",
       ".list-inline>li:not(:last-child)::after {content: \"\\00b7\"; padding: 0 .5ex}\n",
       "</style>\n",
       "<ol class=list-inline><li>1</li><li>2</li><li>3</li></ol>\n",
       "</dd>\n",
       "\t<dt>[[2]]</dt>\n",
       "\t\t<dd><ol>\n",
       "\t<li>1</li>\n",
       "</ol>\n",
       "</dd>\n",
       "\t<dt>[[3]]</dt>\n",
       "\t\t<dd><style>\n",
       ".list-inline {list-style: none; margin:0; padding: 0}\n",
       ".list-inline>li {display: inline-block}\n",
       ".list-inline>li:not(:last-child)::after {content: \"\\00b7\"; padding: 0 .5ex}\n",
       "</style>\n",
       "<ol class=list-inline><li>1</li><li>2</li><li>3</li><li>3</li><li>1</li><li>2</li></ol>\n",
       "</dd>\n",
       "\t<dt>$dim</dt>\n",
       "\t\t<dd><style>\n",
       ".list-inline {list-style: none; margin:0; padding: 0}\n",
       ".list-inline>li {display: inline-block}\n",
       ".list-inline>li:not(:last-child)::after {content: \"\\00b7\"; padding: 0 .5ex}\n",
       "</style>\n",
       "<ol class=list-inline><li>1</li><li>2</li><li>3</li></ol>\n",
       "</dd>\n",
       "\t<dt>[[5]]</dt>\n",
       "\t\t<dd><table class=\"dataframe\">\n",
       "<caption>A matrix: 2 × 2 of type dbl</caption>\n",
       "<tbody>\n",
       "\t<tr><td>1</td><td>3</td></tr>\n",
       "\t<tr><td>2</td><td>4</td></tr>\n",
       "</tbody>\n",
       "</table>\n",
       "</dd>\n",
       "\t<dt>[[6]]</dt>\n",
       "\t\t<dd><style>\n",
       ".list-inline {list-style: none; margin:0; padding: 0}\n",
       ".list-inline>li {display: inline-block}\n",
       ".list-inline>li:not(:last-child)::after {content: \"\\00b7\"; padding: 0 .5ex}\n",
       "</style>\n",
       "<ol class=list-inline><li>1</li><li>2</li><li>3</li></ol>\n",
       "\n",
       "<details>\n",
       "\t<summary style=display:list-item;cursor:pointer>\n",
       "\t\t<strong>Levels</strong>:\n",
       "\t</summary>\n",
       "\t<style>\n",
       "\t.list-inline {list-style: none; margin:0; padding: 0}\n",
       "\t.list-inline>li {display: inline-block}\n",
       "\t.list-inline>li:not(:last-child)::after {content: \"\\00b7\"; padding: 0 .5ex}\n",
       "\t</style>\n",
       "\t<ol class=list-inline><li>'1'</li><li>'2'</li><li>'3'</li></ol>\n",
       "</details></dd>\n",
       "\t<dt>[[7]]</dt>\n",
       "\t\t<dd><table class=\"dataframe\">\n",
       "<caption>A data.frame: 3 × 1</caption>\n",
       "<thead>\n",
       "\t<tr><th scope=col>nu</th></tr>\n",
       "\t<tr><th scope=col>&lt;int&gt;</th></tr>\n",
       "</thead>\n",
       "<tbody>\n",
       "\t<tr><td>1</td></tr>\n",
       "\t<tr><td>2</td></tr>\n",
       "\t<tr><td>3</td></tr>\n",
       "</tbody>\n",
       "</table>\n",
       "</dd>\n",
       "\t<dt>$id</dt>\n",
       "\t\t<dd><style>\n",
       ".list-inline {list-style: none; margin:0; padding: 0}\n",
       ".list-inline>li {display: inline-block}\n",
       ".list-inline>li:not(:last-child)::after {content: \"\\00b7\"; padding: 0 .5ex}\n",
       "</style>\n",
       "<ol class=list-inline><li>'a'</li><li>'b'</li><li>'c'</li></ol>\n",
       "</dd>\n",
       "</dl>\n"
      ],
      "text/latex": [
       "\\begin{description}\n",
       "\\item[{[[1]]}] \\begin{enumerate*}\n",
       "\\item 1\n",
       "\\item 2\n",
       "\\item 3\n",
       "\\end{enumerate*}\n",
       "\n",
       "\\item[{[[2]]}] \\begin{enumerate}\n",
       "\\item 1\n",
       "\\end{enumerate}\n",
       "\n",
       "\\item[{[[3]]}] \\begin{enumerate*}\n",
       "\\item 1\n",
       "\\item 2\n",
       "\\item 3\n",
       "\\item 3\n",
       "\\item 1\n",
       "\\item 2\n",
       "\\end{enumerate*}\n",
       "\n",
       "\\item[\\$dim] \\begin{enumerate*}\n",
       "\\item 1\n",
       "\\item 2\n",
       "\\item 3\n",
       "\\end{enumerate*}\n",
       "\n",
       "\\item[{[[5]]}] A matrix: 2 × 2 of type dbl\n",
       "\\begin{tabular}{ll}\n",
       "\t 1 & 3\\\\\n",
       "\t 2 & 4\\\\\n",
       "\\end{tabular}\n",
       "\n",
       "\\item[{[[6]]}] \\begin{enumerate*}\n",
       "\\item 1\n",
       "\\item 2\n",
       "\\item 3\n",
       "\\end{enumerate*}\n",
       "\n",
       "\\emph{Levels}: \\begin{enumerate*}\n",
       "\\item '1'\n",
       "\\item '2'\n",
       "\\item '3'\n",
       "\\end{enumerate*}\n",
       "\n",
       "\\item[{[[7]]}] A data.frame: 3 × 1\n",
       "\\begin{tabular}{l}\n",
       " nu\\\\\n",
       " <int>\\\\\n",
       "\\hline\n",
       "\t 1\\\\\n",
       "\t 2\\\\\n",
       "\t 3\\\\\n",
       "\\end{tabular}\n",
       "\n",
       "\\item[\\$id] \\begin{enumerate*}\n",
       "\\item 'a'\n",
       "\\item 'b'\n",
       "\\item 'c'\n",
       "\\end{enumerate*}\n",
       "\n",
       "\\end{description}\n"
      ],
      "text/markdown": [
       "[[1]]\n",
       ":   1. 1\n",
       "2. 2\n",
       "3. 3\n",
       "\n",
       "\n",
       "\n",
       "[[2]]\n",
       ":   1. 1\n",
       "\n",
       "\n",
       "\n",
       "[[3]]\n",
       ":   1. 1\n",
       "2. 2\n",
       "3. 3\n",
       "4. 3\n",
       "5. 1\n",
       "6. 2\n",
       "\n",
       "\n",
       "\n",
       "$dim\n",
       ":   1. 1\n",
       "2. 2\n",
       "3. 3\n",
       "\n",
       "\n",
       "\n",
       "[[5]]\n",
       ":   \n",
       "A matrix: 2 × 2 of type dbl\n",
       "\n",
       "| 1 | 3 |\n",
       "| 2 | 4 |\n",
       "\n",
       "\n",
       "[[6]]\n",
       ":   1. 1\n",
       "2. 2\n",
       "3. 3\n",
       "\n",
       "\n",
       "\n",
       "**Levels**: 1. '1'\n",
       "2. '2'\n",
       "3. '3'\n",
       "\n",
       "\n",
       "\n",
       "[[7]]\n",
       ":   \n",
       "A data.frame: 3 × 1\n",
       "\n",
       "| nu &lt;int&gt; |\n",
       "|---|\n",
       "| 1 |\n",
       "| 2 |\n",
       "| 3 |\n",
       "\n",
       "\n",
       "$id\n",
       ":   1. 'a'\n",
       "2. 'b'\n",
       "3. 'c'\n",
       "\n",
       "\n",
       "\n",
       "\n",
       "\n"
      ],
      "text/plain": [
       "[[1]]\n",
       "[1] 1 2 3\n",
       "\n",
       "[[2]]\n",
       "[[2]][[1]]\n",
       "[1] 1\n",
       "\n",
       "\n",
       "[[3]]\n",
       "[1] 1 2 3 3 1 2\n",
       "\n",
       "$dim\n",
       "[1] 1 2 3\n",
       "\n",
       "[[5]]\n",
       "     [,1] [,2]\n",
       "[1,]    1    3\n",
       "[2,]    2    4\n",
       "\n",
       "[[6]]\n",
       "[1] 1 2 3\n",
       "Levels: 1 2 3\n",
       "\n",
       "[[7]]\n",
       "  nu\n",
       "1  1\n",
       "2  2\n",
       "3  3\n",
       "\n",
       "$id\n",
       "[1] \"a\" \"b\" \"c\"\n"
      ]
     },
     "metadata": {},
     "output_type": "display_data"
    }
   ],
   "source": [
    "l <- list(c(1,2,3),\n",
    "          list(1),\n",
    "          array(c(1,2,3,3,1,2)),\n",
    "          dim = c(1,2,3),\n",
    "          matrix(c(1,2,3,4),nrow = 2),\n",
    "          factor(c(1,2,3)),\n",
    "          data.frame(nu = c(1:3)),\n",
    "          id = c(\"a\",\"b\",\"c\")\n",
    "         )\n",
    "l"
   ]
  },
  {
   "cell_type": "markdown",
   "metadata": {},
   "source": [
    "* 上面代码创建了6种类型的数据。\n",
    "* 提取列表中的元素，使用[[]]。l[[1]]表示提取列表里面的第一个元素.\n",
    "* 希望进一步提取向量中的元素，使用[[]][],例如 l[[1]][1],表示提取第一个元素的第一个元素。"
   ]
  },
  {
   "cell_type": "code",
   "execution_count": 15,
   "metadata": {
    "ExecuteTime": {
     "end_time": "2022-01-05T15:20:00.229439Z",
     "start_time": "2022-01-05T15:20:00.210Z"
    }
   },
   "outputs": [
    {
     "data": {
      "text/html": [
       "<style>\n",
       ".list-inline {list-style: none; margin:0; padding: 0}\n",
       ".list-inline>li {display: inline-block}\n",
       ".list-inline>li:not(:last-child)::after {content: \"\\00b7\"; padding: 0 .5ex}\n",
       "</style>\n",
       "<ol class=list-inline><li>1</li><li>2</li><li>3</li></ol>\n"
      ],
      "text/latex": [
       "\\begin{enumerate*}\n",
       "\\item 1\n",
       "\\item 2\n",
       "\\item 3\n",
       "\\end{enumerate*}\n"
      ],
      "text/markdown": [
       "1. 1\n",
       "2. 2\n",
       "3. 3\n",
       "\n",
       "\n"
      ],
      "text/plain": [
       "[1] 1 2 3"
      ]
     },
     "metadata": {},
     "output_type": "display_data"
    }
   ],
   "source": [
    "l[[1]]"
   ]
  },
  {
   "cell_type": "code",
   "execution_count": 24,
   "metadata": {
    "ExecuteTime": {
     "end_time": "2022-01-05T15:22:18.043478Z",
     "start_time": "2022-01-05T15:22:18.022Z"
    }
   },
   "outputs": [
    {
     "data": {
      "text/html": [
       "1"
      ],
      "text/latex": [
       "1"
      ],
      "text/markdown": [
       "1"
      ],
      "text/plain": [
       "[1] 1"
      ]
     },
     "metadata": {},
     "output_type": "display_data"
    }
   ],
   "source": [
    "l[[1]][1]"
   ]
  },
  {
   "cell_type": "markdown",
   "metadata": {},
   "source": [
    "### 1.1.3 矩阵\n",
    "矩阵可以理解为二维数组，可以使用矩阵函数(matrix)来创建。"
   ]
  },
  {
   "cell_type": "code",
   "execution_count": 25,
   "metadata": {
    "ExecuteTime": {
     "end_time": "2022-01-05T15:25:07.427187Z",
     "start_time": "2022-01-05T15:25:06.004Z"
    }
   },
   "outputs": [
    {
     "name": "stdout",
     "output_type": "stream",
     "text": [
      "     [,1] [,2] [,3]\n",
      "[1,] \"c\"  \"a\"  \"b\" \n",
      "[2,] \"c\"  \"b\"  \"a\" \n"
     ]
    }
   ],
   "source": [
    "M = matrix(c('c','a','b','c','b','a'),nrow = 2,ncol = 3,byrow = TRUE)\n",
    "# ncol 矩阵列数\n",
    "# nrow 矩阵行数\n",
    "# byrow = TRUE  简单写为 byrow = T通过行排列\n",
    "print(M)"
   ]
  },
  {
   "cell_type": "code",
   "execution_count": 28,
   "metadata": {
    "ExecuteTime": {
     "end_time": "2022-01-05T15:29:11.412720Z",
     "start_time": "2022-01-05T15:29:11.391Z"
    }
   },
   "outputs": [
    {
     "data": {
      "text/html": [
       "'b'"
      ],
      "text/latex": [
       "'b'"
      ],
      "text/markdown": [
       "'b'"
      ],
      "text/plain": [
       "[1] \"b\""
      ]
     },
     "metadata": {},
     "output_type": "display_data"
    }
   ],
   "source": [
    "M[1,3] #选取 第1行 第三列，提取某一个矩阵的元素用[,]前行后列"
   ]
  },
  {
   "cell_type": "markdown",
   "metadata": {},
   "source": [
    "### 1.1.4 数组"
   ]
  },
  {
   "cell_type": "code",
   "execution_count": 1,
   "metadata": {
    "ExecuteTime": {
     "end_time": "2022-01-06T04:33:15.110930Z",
     "start_time": "2022-01-06T04:33:14.163Z"
    }
   },
   "outputs": [
    {
     "name": "stdout",
     "output_type": "stream",
     "text": [
      ", , 1\n",
      "\n",
      "     [,1]     [,2]     [,3]    \n",
      "[1,] \"green\"  \"yellow\" \"green\" \n",
      "[2,] \"yellow\" \"green\"  \"yellow\"\n",
      "[3,] \"green\"  \"yellow\" \"green\" \n",
      "\n",
      ", , 2\n",
      "\n",
      "     [,1]     [,2]     [,3]    \n",
      "[1,] \"yellow\" \"green\"  \"yellow\"\n",
      "[2,] \"green\"  \"yellow\" \"green\" \n",
      "[3,] \"yellow\" \"green\"  \"yellow\"\n",
      "\n"
     ]
    }
   ],
   "source": [
    "#创建一个数组\n",
    "a <- array(c(\"green\",\"yellow\"),dim = c(3,3,2))# 创建了一个3*3*2的数组，dim参数表示有两个3*3的矩阵\n",
    "print(a)"
   ]
  },
  {
   "cell_type": "code",
   "execution_count": 3,
   "metadata": {
    "ExecuteTime": {
     "end_time": "2022-01-06T04:35:51.675371Z",
     "start_time": "2022-01-06T04:35:50.098Z"
    }
   },
   "outputs": [
    {
     "name": "stdout",
     "output_type": "stream",
     "text": [
      ", , 1\n",
      "\n",
      "     [,1]     [,2]     [,3]    \n",
      "[1,] \"green\"  \"yellow\" \"green\" \n",
      "[2,] \"yellow\" \"green\"  \"yellow\"\n",
      "[3,] \"green\"  \"yellow\" \"green\" \n",
      "\n",
      ", , 2\n",
      "\n",
      "     [,1]     [,2]     [,3]    \n",
      "[1,] \"yellow\" \"green\"  \"yellow\"\n",
      "[2,] \"green\"  \"yellow\" \"green\" \n",
      "[3,] \"yellow\" \"green\"  \"yellow\"\n",
      "\n",
      ", , 3\n",
      "\n",
      "     [,1]     [,2]     [,3]    \n",
      "[1,] \"green\"  \"yellow\" \"green\" \n",
      "[2,] \"yellow\" \"green\"  \"yellow\"\n",
      "[3,] \"green\"  \"yellow\" \"green\" \n",
      "\n"
     ]
    }
   ],
   "source": [
    "a <- array(c(\"green\",\"yellow\"),dim = c(3,3,3))\n",
    "print(a)"
   ]
  },
  {
   "cell_type": "markdown",
   "metadata": {},
   "source": [
    "### 1.1.5 因子\n",
    " * 因子类型的数据有顺序的。\n",
    " * R中使用factor函数创建因子，函数中的levels参数用于指定因子中分类变量的顺序。"
   ]
  },
  {
   "cell_type": "code",
   "execution_count": 4,
   "metadata": {
    "ExecuteTime": {
     "end_time": "2022-01-06T11:00:15.450073Z",
     "start_time": "2022-01-06T11:00:15.433Z"
    }
   },
   "outputs": [],
   "source": [
    "#创建一个颜色向量\n",
    "apple_colors <- c(\"green\",\"green\",\"yellow\",\"red\",\"red\",\"green\")"
   ]
  },
  {
   "cell_type": "code",
   "execution_count": 5,
   "metadata": {
    "ExecuteTime": {
     "end_time": "2022-01-06T11:00:54.195806Z",
     "start_time": "2022-01-06T11:00:54.178Z"
    }
   },
   "outputs": [],
   "source": [
    "#创建一个因子向量\n",
    "factor_apple <- factor(apple_colors)"
   ]
  },
  {
   "cell_type": "code",
   "execution_count": 6,
   "metadata": {
    "ExecuteTime": {
     "end_time": "2022-01-06T11:17:11.706928Z",
     "start_time": "2022-01-06T11:17:11.685Z"
    }
   },
   "outputs": [
    {
     "name": "stdout",
     "output_type": "stream",
     "text": [
      "[1] green  green  yellow red    red    green \n",
      "Levels: green red yellow\n"
     ]
    }
   ],
   "source": [
    "#输出结果\n",
    "print(factor_apple)"
   ]
  },
  {
   "cell_type": "code",
   "execution_count": 7,
   "metadata": {
    "ExecuteTime": {
     "end_time": "2022-01-06T11:17:38.792402Z",
     "start_time": "2022-01-06T11:17:38.773Z"
    }
   },
   "outputs": [
    {
     "name": "stdout",
     "output_type": "stream",
     "text": [
      "[1] 3\n"
     ]
    }
   ],
   "source": [
    "print(nlevels(factor_apple))"
   ]
  },
  {
   "cell_type": "markdown",
   "metadata": {},
   "source": [
    "一般而言，字符数据不能进行比较，但是如果设成因子，则表示字符是有顺序的。"
   ]
  },
  {
   "cell_type": "markdown",
   "metadata": {},
   "source": [
    "### 1.1.6 数据框 \n",
    "* 据框 表格数据对象。\n",
    "* 数据框 每列可以包含不同类型的数据。\n",
    "* 数据框 等长度向量的组合。"
   ]
  },
  {
   "cell_type": "code",
   "execution_count": 2,
   "metadata": {
    "ExecuteTime": {
     "end_time": "2022-01-06T13:52:06.330148Z",
     "start_time": "2022-01-06T13:52:06.260Z"
    }
   },
   "outputs": [
    {
     "name": "stdout",
     "output_type": "stream",
     "text": [
      "  gender height Age\n",
      "1   Male  152.0  42\n",
      "2   Male  171.5  38\n",
      "3 Female  165.0  26\n"
     ]
    }
   ],
   "source": [
    "# 创建一个数据框\n",
    "BMI <- data.frame(\n",
    "gender = c(\"Male\",\"Male\",\"Female\"),\n",
    "height = c(152,171.5,165),\n",
    "Age = c(42,38,26))\n",
    "print(BMI)# 创建了一个数据"
   ]
  },
  {
   "cell_type": "markdown",
   "metadata": {},
   "source": [
    "整洁数据：\n",
    "* 每一个变量都是一列\n",
    "* 每一个观测都是一行\n",
    "* 每一种类型的观察值一起构成一个表格"
   ]
  },
  {
   "cell_type": "markdown",
   "metadata": {},
   "source": [
    "### 1.1.7 for 循环\n",
    "for 循环是一种程序控制结构，用于实现特定次数的循环。"
   ]
  },
  {
   "cell_type": "code",
   "execution_count": 4,
   "metadata": {
    "ExecuteTime": {
     "end_time": "2022-01-06T14:07:58.152359Z",
     "start_time": "2022-01-06T14:07:58.137Z"
    }
   },
   "outputs": [],
   "source": [
    "# 在R中创建一个for循环语句的基本格式如下:\n",
    "for (test_expression){\n",
    "    statement\n",
    "}"
   ]
  },
  {
   "cell_type": "markdown",
   "metadata": {},
   "source": [
    "R 的for循环特别灵活，它的循环变量，不限于整数，任何向量都可以通过for循环进行变量\n",
    "我们可以传递字符向量、逻辑向量、列表或表达式。"
   ]
  },
  {
   "cell_type": "code",
   "execution_count": 5,
   "metadata": {
    "ExecuteTime": {
     "end_time": "2022-01-06T14:12:22.963320Z",
     "start_time": "2022-01-06T14:12:21.398Z"
    }
   },
   "outputs": [
    {
     "name": "stdout",
     "output_type": "stream",
     "text": [
      "[1] \"A\"\n",
      "[1] \"B\"\n",
      "[1] \"C\"\n",
      "[1] \"D\"\n"
     ]
    }
   ],
   "source": [
    "# for 循环\n",
    "v <- LETTERS[1:4]\n",
    "for (i in v){ # i遍历v里面的变量\n",
    "    print(i)\n",
    "}"
   ]
  },
  {
   "cell_type": "code",
   "execution_count": 6,
   "metadata": {
    "ExecuteTime": {
     "end_time": "2022-01-06T14:19:18.180212Z",
     "start_time": "2022-01-06T14:19:18.157Z"
    }
   },
   "outputs": [
    {
     "name": "stdout",
     "output_type": "stream",
     "text": [
      "  v \n",
      "\"A\" \n",
      "  v \n",
      "\"B\" \n",
      "  v \n",
      "\"C\" \n",
      "  v \n",
      "\"D\" \n"
     ]
    },
    {
     "data": {
      "text/html": [
       "<style>\n",
       ".list-inline {list-style: none; margin:0; padding: 0}\n",
       ".list-inline>li {display: inline-block}\n",
       ".list-inline>li:not(:last-child)::after {content: \"\\00b7\"; padding: 0 .5ex}\n",
       "</style>\n",
       "<ol class=list-inline><li>'A'</li><li>'B'</li><li>'C'</li><li>'D'</li></ol>\n"
      ],
      "text/latex": [
       "\\begin{enumerate*}\n",
       "\\item 'A'\n",
       "\\item 'B'\n",
       "\\item 'C'\n",
       "\\item 'D'\n",
       "\\end{enumerate*}\n"
      ],
      "text/markdown": [
       "1. 'A'\n",
       "2. 'B'\n",
       "3. 'C'\n",
       "4. 'D'\n",
       "\n",
       "\n"
      ],
      "text/plain": [
       "[1] \"A\" \"B\" \"C\" \"D\""
      ]
     },
     "metadata": {},
     "output_type": "display_data"
    }
   ],
   "source": [
    "# apply 函数\n",
    "a  <- data.frame(v)\n",
    "apply(a,1,print)"
   ]
  },
  {
   "cell_type": "markdown",
   "metadata": {},
   "source": [
    "### 1.1.8 条件判断\n",
    "* 条件判断是代码中非常重要的程序控制方法。\n",
    "* 在R中创建if… else 语句"
   ]
  },
  {
   "cell_type": "code",
   "execution_count": null,
   "metadata": {},
   "outputs": [],
   "source": [
    "#if… else  基本语法\n",
    "if (boolean_expression){\n",
    "    ## 为真时的执行\n",
    "} else { \n",
    "    ## 为假时的执行\n",
    "}\n",
    "## 如果布尔代数计算结果为真，则执行if代码块，否则执行else代码块"
   ]
  },
  {
   "cell_type": "code",
   "execution_count": 7,
   "metadata": {
    "ExecuteTime": {
     "end_time": "2022-01-06T14:55:52.857908Z",
     "start_time": "2022-01-06T14:55:52.838Z"
    }
   },
   "outputs": [
    {
     "name": "stdout",
     "output_type": "stream",
     "text": [
      "[1] \"Truth is not found\"\n"
     ]
    }
   ],
   "source": [
    "## 条件判断\n",
    "x <- c('what','is','truth')\n",
    "\n",
    "if (\"Truth\" %in% x){\n",
    "    print({\"Truth is found\"})\n",
    "} else {\n",
    "    print(\"Truth is not found\")\n",
    "}# %in%判断某个元素是否在一个集合之中。"
   ]
  },
  {
   "cell_type": "markdown",
   "metadata": {},
   "source": [
    "if 语句可以在跟一个可选的语句，使用if …… else if …… else\n",
    "* else 语句可以跟在一个可选的else if…… else 语句。\n",
    "* else 语句一定要跟在if语句之后。\n",
    "* if …… else if …… else 一旦某个分支的判断为真，则不会继续运行其他分支的语句。\n"
   ]
  },
  {
   "cell_type": "code",
   "execution_count": null,
   "metadata": {},
   "outputs": [],
   "source": [
    "在R 中创建if …… else if …… eles句基本如下：\n",
    "if (条件1){\n",
    "   1成立时输出\n",
    "}else if(条件2){\n",
    "    2成立时输出  \n",
    "}else{\n",
    "    当不满足1,2条件时的输出\n",
    "}"
   ]
  },
  {
   "cell_type": "code",
   "execution_count": 1,
   "metadata": {
    "ExecuteTime": {
     "end_time": "2022-01-07T08:18:37.672754Z",
     "start_time": "2022-01-07T08:18:37.646Z"
    }
   },
   "outputs": [
    {
     "data": {
      "text/html": [
       "<style>\n",
       ".list-inline {list-style: none; margin:0; padding: 0}\n",
       ".list-inline>li {display: inline-block}\n",
       ".list-inline>li:not(:last-child)::after {content: \"\\00b7\"; padding: 0 .5ex}\n",
       "</style>\n",
       "<ol class=list-inline><li>1</li><li>2</li><li>3</li><li>4</li><li>5</li><li>6</li><li>7</li><li>8</li><li>9</li><li>10</li></ol>\n"
      ],
      "text/latex": [
       "\\begin{enumerate*}\n",
       "\\item 1\n",
       "\\item 2\n",
       "\\item 3\n",
       "\\item 4\n",
       "\\item 5\n",
       "\\item 6\n",
       "\\item 7\n",
       "\\item 8\n",
       "\\item 9\n",
       "\\item 10\n",
       "\\end{enumerate*}\n"
      ],
      "text/markdown": [
       "1. 1\n",
       "2. 2\n",
       "3. 3\n",
       "4. 4\n",
       "5. 5\n",
       "6. 6\n",
       "7. 7\n",
       "8. 8\n",
       "9. 9\n",
       "10. 10\n",
       "\n",
       "\n"
      ],
      "text/plain": [
       " [1]  1  2  3  4  5  6  7  8  9 10"
      ]
     },
     "metadata": {},
     "output_type": "display_data"
    }
   ],
   "source": [
    "# ifeles 函数的简单例子\n",
    "a <- c(seq(1,10))\n",
    "a"
   ]
  },
  {
   "cell_type": "code",
   "execution_count": null,
   "metadata": {},
   "outputs": [],
   "source": [
    "ifelse(判断条件，语句1，语句2)#第一个参数是逻辑表达式，如果为真运行语句1，否则运行语句2"
   ]
  },
  {
   "cell_type": "code",
   "execution_count": 2,
   "metadata": {
    "ExecuteTime": {
     "end_time": "2022-01-07T08:22:08.823318Z",
     "start_time": "2022-01-07T08:22:08.804Z"
    }
   },
   "outputs": [
    {
     "data": {
      "text/html": [
       "<style>\n",
       ".list-inline {list-style: none; margin:0; padding: 0}\n",
       ".list-inline>li {display: inline-block}\n",
       ".list-inline>li:not(:last-child)::after {content: \"\\00b7\"; padding: 0 .5ex}\n",
       "</style>\n",
       "<ol class=list-inline><li>0</li><li>0</li><li>0</li><li>0</li><li>0</li><li>1</li><li>1</li><li>1</li><li>1</li><li>1</li></ol>\n"
      ],
      "text/latex": [
       "\\begin{enumerate*}\n",
       "\\item 0\n",
       "\\item 0\n",
       "\\item 0\n",
       "\\item 0\n",
       "\\item 0\n",
       "\\item 1\n",
       "\\item 1\n",
       "\\item 1\n",
       "\\item 1\n",
       "\\item 1\n",
       "\\end{enumerate*}\n"
      ],
      "text/markdown": [
       "1. 0\n",
       "2. 0\n",
       "3. 0\n",
       "4. 0\n",
       "5. 0\n",
       "6. 1\n",
       "7. 1\n",
       "8. 1\n",
       "9. 1\n",
       "10. 1\n",
       "\n",
       "\n"
      ],
      "text/plain": [
       " [1] 0 0 0 0 0 1 1 1 1 1"
      ]
     },
     "metadata": {},
     "output_type": "display_data"
    }
   ],
   "source": [
    "#ifelse的实例\n",
    "ifelse(a > mean(a),1,0)"
   ]
  },
  {
   "cell_type": "markdown",
   "metadata": {},
   "source": [
    "### 1.1.函数\n",
    "R语言中构建函数的方法是使用function函数，其格式如下：\n",
    "\n",
    "function_name <- function(arg_1,arg_2,…){\n",
    "\n",
    "    Function body\n",
    "    \n",
    "}\n"
   ]
  },
  {
   "cell_type": "markdown",
   "metadata": {},
   "source": [
    "函数主要由以下四个部分组成。\n",
    "* 函数名： 函数的名称。\n",
    "* 参数：当调用一个函数时，可以将一个值传递给参数。参数可以选，即可以没有，也可以设定一个默认参数。\n",
    "* 函数体：函数所执行的语句也包含在函数体内。\n",
    "* 返回值： 函数运行完成时返回的结果。\n",
    "R语言有许多内置函数，在程序中可以直接调用。\n",
    "\n",
    "我们也可以直接建立和使用自己的函数，这类函数称为用户定义函数。"
   ]
  },
  {
   "cell_type": "code",
   "execution_count": 4,
   "metadata": {
    "ExecuteTime": {
     "end_time": "2022-01-07T09:20:17.354382Z",
     "start_time": "2022-01-07T09:20:17.334Z"
    }
   },
   "outputs": [
    {
     "data": {
      "text/html": [
       "2"
      ],
      "text/latex": [
       "2"
      ],
      "text/markdown": [
       "2"
      ],
      "text/plain": [
       "[1] 2"
      ]
     },
     "metadata": {},
     "output_type": "display_data"
    }
   ],
   "source": [
    "#创建一个函数\n",
    "frist <- function(){\n",
    "    return(1+1)\n",
    "}\n",
    "frist()# 每次调用都会计算1+1，并没有使用任何参数。"
   ]
  },
  {
   "cell_type": "code",
   "execution_count": 12,
   "metadata": {
    "ExecuteTime": {
     "end_time": "2022-01-07T11:35:43.033523Z",
     "start_time": "2022-01-07T11:35:43.006Z"
    }
   },
   "outputs": [
    {
     "data": {
      "text/html": [
       "89"
      ],
      "text/latex": [
       "89"
      ],
      "text/markdown": [
       "89"
      ],
      "text/plain": [
       "[1] 89"
      ]
     },
     "metadata": {},
     "output_type": "display_data"
    }
   ],
   "source": [
    "Fibonacci <- function(n)\n",
    "    {\n",
    "    if( n == 1| n ==2)\n",
    "    { return(1)\n",
    "    }\n",
    "else\n",
    "    {\n",
    "    return(Fibonacci(n-1)+Fibonacci(n-2))\n",
    "    }\n",
    "}\n",
    "Fibonacci(11)"
   ]
  },
  {
   "cell_type": "code",
   "execution_count": 14,
   "metadata": {
    "ExecuteTime": {
     "end_time": "2022-01-07T12:11:08.493586Z",
     "start_time": "2022-01-07T12:11:08.474Z"
    }
   },
   "outputs": [
    {
     "data": {
      "text/html": [
       "<pre class=language-r><code>function (x, y, ...) \n",
       "UseMethod(\"plot\")</code></pre>"
      ],
      "text/latex": [
       "\\begin{minted}{r}\n",
       "function (x, y, ...) \n",
       "UseMethod(\"plot\")\n",
       "\\end{minted}"
      ],
      "text/markdown": [
       "```r\n",
       "function (x, y, ...) \n",
       "UseMethod(\"plot\")\n",
       "```"
      ],
      "text/plain": [
       "function (x, y, ...) \n",
       "UseMethod(\"plot\")\n",
       "<bytecode: 0x0000000015993e38>\n",
       "<environment: namespace:base>"
      ]
     },
     "metadata": {},
     "output_type": "display_data"
    }
   ],
   "source": [
    "plot"
   ]
  },
  {
   "cell_type": "code",
   "execution_count": 16,
   "metadata": {
    "ExecuteTime": {
     "end_time": "2022-01-07T12:12:40.652520Z",
     "start_time": "2022-01-07T12:12:40.632Z"
    }
   },
   "outputs": [
    {
     "data": {
      "text/html": [
       "7"
      ],
      "text/latex": [
       "7"
      ],
      "text/markdown": [
       "7"
      ],
      "text/plain": [
       "[1] 7"
      ]
     },
     "metadata": {},
     "output_type": "display_data"
    }
   ],
   "source": [
    "# plot 函数的一个简单例子\n",
    "f <- function(...){sum(...)}\n",
    "f(x = 1, y = 3 ,z = 3)"
   ]
  },
  {
   "cell_type": "code",
   "execution_count": 17,
   "metadata": {
    "ExecuteTime": {
     "end_time": "2022-01-07T12:23:53.784528Z",
     "start_time": "2022-01-07T12:23:53.723Z"
    },
    "scrolled": false
   },
   "outputs": [
    {
     "data": {
      "image/png": "[encoded data removed]",
      "text/plain": [
       "plot without title"
      ]
     },
     "metadata": {
      "image/png": {
       "height": 420,
       "width": 420
      }
     },
     "output_type": "display_data"
    }
   ],
   "source": [
    " # 使用基础绘图系统绘图\n",
    "plot(rnorm(100),rnorm(100),xlab = \"a\",ylab = \"b\")"
   ]
  },
  {
   "cell_type": "code",
   "execution_count": 20,
   "metadata": {
    "ExecuteTime": {
     "end_time": "2022-01-07T12:28:03.202203Z",
     "start_time": "2022-01-07T12:28:02.575Z"
    }
   },
   "outputs": [
    {
     "data": {
      "image/png": "[encoded data removed]",
      "text/plain": [
       "plot without title"
      ]
     },
     "metadata": {
      "image/png": {
       "height": 420,
       "width": 420
      }
     },
     "output_type": "display_data"
    }
   ],
   "source": [
    "#install.packages(\"ggplot2\")\n",
    "# 使用ggplot2 包里面函数画图\n",
    "qplot(rnorm(100),rnorm(100),geom = \"point\")+xlab(\"a\")+ylab(\"b\")"
   ]
  },
  {
   "cell_type": "code",
   "execution_count": 27,
   "metadata": {
    "ExecuteTime": {
     "end_time": "2022-01-07T12:55:24.027673Z",
     "start_time": "2022-01-07T12:55:23.857Z"
    }
   },
   "outputs": [],
   "source": [
    "#install.packages(\"ggvis\")\n",
    "# 使用ggvis绘图\n",
    "library(ggvis)\n",
    "ggvis(data = data.frame(a = rnorm(100),b = rnorm(100)), x = ~a ,y = ~b)%>%layer_points()"
   ]
  },
  {
   "attachments": {
    "image.png": {
     "image/png": "[encoded data removed]"
    }
   },
   "cell_type": "markdown",
   "metadata": {},
   "source": [
    "![image.png](attachment:image.png)"
   ]
  },
  {
   "cell_type": "markdown",
   "metadata": {},
   "source": [
    "# 1.2 Rstudio 介绍\n",
    "https://www.jianshu.com/p/b8b4b44bb352\n",
    "\n",
    "我知道如何正确提问并且会使用Google/Baidu等搜索引擎，并且我已完成中国大陆的九年义务教育\n",
    "\n",
    "\n",
    "RStudio是为R语言设计的一种跨平台集成开发环境。使用Rstudio可以更改方便的使用R进行编程。当然，R的集成开发环境有很多，包括：\n",
    "\n",
    "1. Emacs + ESS ：ESS是一个emacs文本编辑器的一个统计分析的插件.     官网：http://ess.r-project.org/\n",
    "2. Sublime Text + R-Box ： 一个在Sublime 2/3中使用R语言编程的插件.  \n",
    "3. StatET ： 一个基于Eclipse的R语言IDE.    官网：http://www.walware.de/goto/statet\n",
    "4. Revolution R Enterprise ： 专注于大数据,大规模多处理器的功能,可以对学术用户免费提供和商业使用.    官网：http://www.revolutionanalytics.com/get-revolution-r-enterprise\n",
    "5. R Commander ： 一个包括基本图形用户界面的R包.    官网：http://socserv.mcmaster.ca/jfox/Misc/Rcmdr/\n",
    "6. IRkernel ：Jupyter的R语言内核.    官网：https://github.com/IRkernel/IRkernel\n",
    "7.Radiant ： 一个使用R语言，独立的基于浏览器接口的业务分析平台,基于Shiny.    官网：http://vnijs.github.io/radiant/\n",
    "8. RTVS ： Visual Studio中R开发工具.    官网：http://microsoft.github.io/RTVS-docs/\n",
    "\n",
    "这些集成开发环境都可以用于R的使用与开发，任意一个都可以很好使用。但是目前而言，Rstudio是应用最广泛的集成开发环境。\n",
    "\n",
    "当下载好了R之后，可以下载Rstudio，下载的链接为: http://www.rstudio.com/products/RStudio/。\n",
    "\n",
    "Rstudio的使用这里不做过多的介绍。如果像了解关于Rstudio的详细的使用指南，包括快捷键，详细设置调整，可以进入Rstudio的官网查看。另外，需要提到的是，Rstudio中官网可以找都很多关于关于R相关的备忘录。这些备忘录总结关于R的各种内容。\n"
   ]
  },
  {
   "cell_type": "markdown",
   "metadata": {
    "ExecuteTime": {
     "end_time": "2022-01-07T13:00:29.303853Z",
     "start_time": "2022-01-07T13:00:29.290Z"
    }
   },
   "source": [
    "## 1.3 R包介绍\n",
    "https://blog.csdn.net/weixin_44612629/article/details/104015621\n",
    "R包是关于R的一个资源库。R语言的特性之一是非常的开放，R语言通过R包来扩展其功能。目前来看，R中有超过8500个包可以使用，这些包用于解决数据访问，统计，可视化，机器学习，自然语言等等各个方面的问题。这些包的开发者都是活跃在统计，数据处理和机器学习前沿的著名学者或者教授。\n",
    "\n",
    "现在R包的开发依然处于一个非常活跃的时期，R包的数量依然在不断地增加。下载R包一般有两个来源，CRAN和github。最初，现在报只能够从CRAN中下载，如果开发者开发了一个包，想要上传进入CRAN，是比较繁琐的。CRAN有非常多的要求与审核，这样的好处是保住了上传包的质量。如果想要从CRAN中下载包。所使用的的函数是install.packages()。假设要下载ggplot2这个包。那么代码则是：\n",
    "\n",
    "```\n",
    "# 下载包\n",
    "install.packages(\"ggplot2\")\n",
    "```\n",
    "上面的代码则会将对应的包全部下载下来。后来，随着R的不断发展，为了更加方便开发者贡献出自己的力量。出现了关于R包的下载方式。有些包开发者一开始会首先将自己的包上传到github，然后再慢慢地调整，上传到CRAN。也就是说，有些包仅仅在github上有，如果想要下载github上面的包,则需要使用install_github()这个函数，这个函数来自devtools这个包，这个包提供了很多开发相关的工具。ggplot2同样上传到了github中，从github中下载ggplot2的代码如下：\n",
    "```\n",
    "#  从github 下载包\n",
    "devtools::install_github(\"tidyverse/ggplot2\")\n",
    "```\n",
    "\n",
    "上面的代码是用于从github中下载包。其中tidyverse表示github中的用户名，ggplot2表示的是对应的项目名称。\n",
    "\n",
    "当下载好了之后，想要调用所下载好的包，一般而言有两种方式。一种是library函数，另外一种是使用require()函数。这两种加载包的方式有一些区别。使用library会加载所用的包，如果重复的使用这个函数，则会重复的加载。有的时候我们在写代码的时候并不知道某一个包是否下载了，如果一个包没有下载，然后使用library函数进行加载。这个时候R语言会报错，代码会被中断。这个时候则可以使用require函数，如果包下载了使用require函数加载包，require函数还会返回一个布尔值，TRUE。如果这个包没有被下载，这个时候代码不会报错，require函数会返回FALSE。使用这个函数可以来判断一个包是否被下载。\n",
    "\n",
    "关于包使用的基本内容，以上的介绍已经足够了。本书是介绍数据探索与可视化的书。但是，任何一个R使用者都有必要了解一下关于R包开发的相关知识。因此，在这里介绍一本R语言包开发的相关书籍，如果读者有兴趣或者需要了解R语言包开发的相关内容，可以参考书籍-《R packages》。电子书的链接为：https://r-pkgs.org/。\n"
   ]
  },
  {
   "cell_type": "markdown",
   "metadata": {},
   "source": [
    "## 1.4 R语言数据读取\n",
    "install.packages(\"readr\")\n",
    "readr 包含有函数\n",
    "* read_csv  函数 读取以逗号为分隔符的文件，如csv和tsv文件\n",
    "* read_csv2  函数 读取以分号为分隔符的csv文件。\n",
    "* read_delim 函数 可以读取任何符号为分隔符的文件，delim参数指定分割符号。\n",
    "* read_tsv 函数 读取以制表符为分隔符的文件。\n",
    "* read_table 函数 读取以空格为分隔符的文件。\n",
    "    * col_name 参数为TRUE读取第一行为列明，FALSE为不读取\n",
    "    * skip 一个数值，读取数据的时候要跳过多少数据。\n",
    "    * n_max 一个数值，表示最多读取多少数据。\n",
    "    \n",
    "数据的读取是我们进行数据探索与数据可视化的最基本的一个步骤，我们需要将各种各样数据源的数据加载到R的环境中进行处理，分析，建模。数据源可能R自带的数据格式RData，也有可能是csv文件，xlsx文件，或者spss，sas文件。有时候我们需要从关系数据库中获取数据，这个时候我们需要使用R操作关系数据库。在本节，这里会探讨各种读取写出数据的方法，并进行总结，帮助我们灵活的导入导出数据。\n",
    "\n",
    "\n",
    "\n",
    "RData 是R中的文件对象，可以储存R中各种的数据结构，包括向量，数据框，列表等等。在R中生成的各种结果，都是R对象，都可以通过RData 文件进行储存，储存的方式是通过save 函数进行存储。如果需要加载RData数据，则可以使用load函数进行操作。\n",
    "\n",
    "R 发展到今天，得益于很多贡献者，这些人发挥了他们的才智，为R用户开发了很多高效的工具，极大的提高了R用户的工作效率，其中与数据输入输出相关的包就是readr包。这个包是Hadley Wickham 等人开发的，其提供了快速友好的方式来读取矩阵数据，也就是csv，tsv等数据格式的数据。\n",
    "\n",
    "readr 包中的主要函数：\n",
    "\n",
    "- read_csv :读取以逗号文件，比如csv文件，tsv 文件\n",
    "- read_csv2() ：导入以分号分隔符的csv文件\n",
    "- read_delim ：与read_csv类似，其可以读取任何分隔符的文件，通过delim参数指定分隔符号\n",
    "- read_tsv() ： 读取以制表符分隔符的文件\n",
    "- read_table() ： 读取空格分隔符的文件\n",
    "\n",
    "上面就是readr包中主要的读取数据的函数，其中需要注意的是，只有read_delim 需要指定分隔符，来读取对应分隔符的数据，其他的函数只能读取指定分隔符的数据。总体来说这些函数有相似的使用方式，其也有一些共同的参数：\n",
    "\n",
    "- col_names ：这个参数的值可以回FALSE，TRUE或者一个字符向量，默认是TRUE，当参数设置为TRUE的时候表示读取第一行为列名，如果是字符向量，那么会将字符向量作为数据集的列名字\n",
    "- skip ：一个数值，表示读取数据的时候，跳过前多少条数据\n",
    "- n_max : 一个数值，表示最多读取多少条数据。这个两个参数在只需要读取一部分数据的时候可以使用\n",
    "\n",
    "以上是此函数最常用的一些参数。关于readr包的优点，最重要的一点是，readr读取数据的速度比R自带的读取数据的函数要快很多，R 自带的读取数据的函数包括:\n",
    "\n",
    "- read.csv :读取以逗号为分隔符数据\n",
    "- read.table ： 读取以空格为分隔符的数据\n",
    "- read.delim:读取以换行符“”为分隔符的数据\n",
    "\n"
   ]
  },
  {
   "cell_type": "markdown",
   "metadata": {
    "ExecuteTime": {
     "end_time": "2022-01-07T13:11:59.356506Z",
     "start_time": "2022-01-07T13:11:59.342Z"
    }
   },
   "source": [
    "### 1.4.1 读取Excel数据\n",
    "\n",
    "读取excel数据可以使用readxl这个包，这个包的作者也是Hadley Wickham等人，这个包提供了一个读取excel数据高效的方式，最主要的函数如下：\n",
    "\n",
    "- read_excel\n",
    "- read_xls\n",
    "- read_xlsx\n",
    "\n",
    "read_excel 这个函数会自动的判断文件的后缀是xls，还是xlsx，如果明确的知道文件后缀是xls或者是xlsx，那么直接使用xls或者xlsx会更合适一些.\n",
    "关于这个读取excel数据的函数，最重要的几个参数是：\n",
    "\n",
    "- 数据文件的路径\n",
    "- excel的sheet,默认会读取excel中第一个sheet的数据"
   ]
  },
  {
   "cell_type": "code",
   "execution_count": 32,
   "metadata": {
    "ExecuteTime": {
     "end_time": "2022-01-07T13:19:09.208017Z",
     "start_time": "2022-01-07T13:19:09.042Z"
    },
    "scrolled": true
   },
   "outputs": [
    {
     "name": "stderr",
     "output_type": "stream",
     "text": [
      "Warning message:\n",
      "\"程辑包'readxl'是用R版本4.1.2 来建造的\"\n"
     ]
    },
    {
     "data": {
      "text/html": [
       "<table class=\"dataframe\">\n",
       "<caption>A tibble: 150 × 5</caption>\n",
       "<thead>\n",
       "\t<tr><th scope=col>Sepal.Length</th><th scope=col>Sepal.Width</th><th scope=col>Petal.Length</th><th scope=col>Petal.Width</th><th scope=col>Species</th></tr>\n",
       "\t<tr><th scope=col>&lt;dbl&gt;</th><th scope=col>&lt;dbl&gt;</th><th scope=col>&lt;dbl&gt;</th><th scope=col>&lt;dbl&gt;</th><th scope=col>&lt;chr&gt;</th></tr>\n",
       "</thead>\n",
       "<tbody>\n",
       "\t<tr><td>5.1</td><td>3.5</td><td>1.4</td><td>0.2</td><td>setosa</td></tr>\n",
       "\t<tr><td>4.9</td><td>3.0</td><td>1.4</td><td>0.2</td><td>setosa</td></tr>\n",
       "\t<tr><td>4.7</td><td>3.2</td><td>1.3</td><td>0.2</td><td>setosa</td></tr>\n",
       "\t<tr><td>4.6</td><td>3.1</td><td>1.5</td><td>0.2</td><td>setosa</td></tr>\n",
       "\t<tr><td>5.0</td><td>3.6</td><td>1.4</td><td>0.2</td><td>setosa</td></tr>\n",
       "\t<tr><td>5.4</td><td>3.9</td><td>1.7</td><td>0.4</td><td>setosa</td></tr>\n",
       "\t<tr><td>4.6</td><td>3.4</td><td>1.4</td><td>0.3</td><td>setosa</td></tr>\n",
       "\t<tr><td>5.0</td><td>3.4</td><td>1.5</td><td>0.2</td><td>setosa</td></tr>\n",
       "\t<tr><td>4.4</td><td>2.9</td><td>1.4</td><td>0.2</td><td>setosa</td></tr>\n",
       "\t<tr><td>4.9</td><td>3.1</td><td>1.5</td><td>0.1</td><td>setosa</td></tr>\n",
       "\t<tr><td>5.4</td><td>3.7</td><td>1.5</td><td>0.2</td><td>setosa</td></tr>\n",
       "\t<tr><td>4.8</td><td>3.4</td><td>1.6</td><td>0.2</td><td>setosa</td></tr>\n",
       "\t<tr><td>4.8</td><td>3.0</td><td>1.4</td><td>0.1</td><td>setosa</td></tr>\n",
       "\t<tr><td>4.3</td><td>3.0</td><td>1.1</td><td>0.1</td><td>setosa</td></tr>\n",
       "\t<tr><td>5.8</td><td>4.0</td><td>1.2</td><td>0.2</td><td>setosa</td></tr>\n",
       "\t<tr><td>5.7</td><td>4.4</td><td>1.5</td><td>0.4</td><td>setosa</td></tr>\n",
       "\t<tr><td>5.4</td><td>3.9</td><td>1.3</td><td>0.4</td><td>setosa</td></tr>\n",
       "\t<tr><td>5.1</td><td>3.5</td><td>1.4</td><td>0.3</td><td>setosa</td></tr>\n",
       "\t<tr><td>5.7</td><td>3.8</td><td>1.7</td><td>0.3</td><td>setosa</td></tr>\n",
       "\t<tr><td>5.1</td><td>3.8</td><td>1.5</td><td>0.3</td><td>setosa</td></tr>\n",
       "\t<tr><td>5.4</td><td>3.4</td><td>1.7</td><td>0.2</td><td>setosa</td></tr>\n",
       "\t<tr><td>5.1</td><td>3.7</td><td>1.5</td><td>0.4</td><td>setosa</td></tr>\n",
       "\t<tr><td>4.6</td><td>3.6</td><td>1.0</td><td>0.2</td><td>setosa</td></tr>\n",
       "\t<tr><td>5.1</td><td>3.3</td><td>1.7</td><td>0.5</td><td>setosa</td></tr>\n",
       "\t<tr><td>4.8</td><td>3.4</td><td>1.9</td><td>0.2</td><td>setosa</td></tr>\n",
       "\t<tr><td>5.0</td><td>3.0</td><td>1.6</td><td>0.2</td><td>setosa</td></tr>\n",
       "\t<tr><td>5.0</td><td>3.4</td><td>1.6</td><td>0.4</td><td>setosa</td></tr>\n",
       "\t<tr><td>5.2</td><td>3.5</td><td>1.5</td><td>0.2</td><td>setosa</td></tr>\n",
       "\t<tr><td>5.2</td><td>3.4</td><td>1.4</td><td>0.2</td><td>setosa</td></tr>\n",
       "\t<tr><td>4.7</td><td>3.2</td><td>1.6</td><td>0.2</td><td>setosa</td></tr>\n",
       "\t<tr><td>...</td><td>...</td><td>...</td><td>...</td><td>...</td></tr>\n",
       "\t<tr><td>6.9</td><td>3.2</td><td>5.7</td><td>2.3</td><td>virginica</td></tr>\n",
       "\t<tr><td>5.6</td><td>2.8</td><td>4.9</td><td>2.0</td><td>virginica</td></tr>\n",
       "\t<tr><td>7.7</td><td>2.8</td><td>6.7</td><td>2.0</td><td>virginica</td></tr>\n",
       "\t<tr><td>6.3</td><td>2.7</td><td>4.9</td><td>1.8</td><td>virginica</td></tr>\n",
       "\t<tr><td>6.7</td><td>3.3</td><td>5.7</td><td>2.1</td><td>virginica</td></tr>\n",
       "\t<tr><td>7.2</td><td>3.2</td><td>6.0</td><td>1.8</td><td>virginica</td></tr>\n",
       "\t<tr><td>6.2</td><td>2.8</td><td>4.8</td><td>1.8</td><td>virginica</td></tr>\n",
       "\t<tr><td>6.1</td><td>3.0</td><td>4.9</td><td>1.8</td><td>virginica</td></tr>\n",
       "\t<tr><td>6.4</td><td>2.8</td><td>5.6</td><td>2.1</td><td>virginica</td></tr>\n",
       "\t<tr><td>7.2</td><td>3.0</td><td>5.8</td><td>1.6</td><td>virginica</td></tr>\n",
       "\t<tr><td>7.4</td><td>2.8</td><td>6.1</td><td>1.9</td><td>virginica</td></tr>\n",
       "\t<tr><td>7.9</td><td>3.8</td><td>6.4</td><td>2.0</td><td>virginica</td></tr>\n",
       "\t<tr><td>6.4</td><td>2.8</td><td>5.6</td><td>2.2</td><td>virginica</td></tr>\n",
       "\t<tr><td>6.3</td><td>2.8</td><td>5.1</td><td>1.5</td><td>virginica</td></tr>\n",
       "\t<tr><td>6.1</td><td>2.6</td><td>5.6</td><td>1.4</td><td>virginica</td></tr>\n",
       "\t<tr><td>7.7</td><td>3.0</td><td>6.1</td><td>2.3</td><td>virginica</td></tr>\n",
       "\t<tr><td>6.3</td><td>3.4</td><td>5.6</td><td>2.4</td><td>virginica</td></tr>\n",
       "\t<tr><td>6.4</td><td>3.1</td><td>5.5</td><td>1.8</td><td>virginica</td></tr>\n",
       "\t<tr><td>6.0</td><td>3.0</td><td>4.8</td><td>1.8</td><td>virginica</td></tr>\n",
       "\t<tr><td>6.9</td><td>3.1</td><td>5.4</td><td>2.1</td><td>virginica</td></tr>\n",
       "\t<tr><td>6.7</td><td>3.1</td><td>5.6</td><td>2.4</td><td>virginica</td></tr>\n",
       "\t<tr><td>6.9</td><td>3.1</td><td>5.1</td><td>2.3</td><td>virginica</td></tr>\n",
       "\t<tr><td>5.8</td><td>2.7</td><td>5.1</td><td>1.9</td><td>virginica</td></tr>\n",
       "\t<tr><td>6.8</td><td>3.2</td><td>5.9</td><td>2.3</td><td>virginica</td></tr>\n",
       "\t<tr><td>6.7</td><td>3.3</td><td>5.7</td><td>2.5</td><td>virginica</td></tr>\n",
       "\t<tr><td>6.7</td><td>3.0</td><td>5.2</td><td>2.3</td><td>virginica</td></tr>\n",
       "\t<tr><td>6.3</td><td>2.5</td><td>5.0</td><td>1.9</td><td>virginica</td></tr>\n",
       "\t<tr><td>6.5</td><td>3.0</td><td>5.2</td><td>2.0</td><td>virginica</td></tr>\n",
       "\t<tr><td>6.2</td><td>3.4</td><td>5.4</td><td>2.3</td><td>virginica</td></tr>\n",
       "\t<tr><td>5.9</td><td>3.0</td><td>5.1</td><td>1.8</td><td>virginica</td></tr>\n",
       "</tbody>\n",
       "</table>\n"
      ],
      "text/latex": [
       "A tibble: 150 × 5\n",
       "\\begin{tabular}{lllll}\n",
       " Sepal.Length & Sepal.Width & Petal.Length & Petal.Width & Species\\\\\n",
       " <dbl> & <dbl> & <dbl> & <dbl> & <chr>\\\\\n",
       "\\hline\n",
       "\t 5.1 & 3.5 & 1.4 & 0.2 & setosa\\\\\n",
       "\t 4.9 & 3.0 & 1.4 & 0.2 & setosa\\\\\n",
       "\t 4.7 & 3.2 & 1.3 & 0.2 & setosa\\\\\n",
       "\t 4.6 & 3.1 & 1.5 & 0.2 & setosa\\\\\n",
       "\t 5.0 & 3.6 & 1.4 & 0.2 & setosa\\\\\n",
       "\t 5.4 & 3.9 & 1.7 & 0.4 & setosa\\\\\n",
       "\t 4.6 & 3.4 & 1.4 & 0.3 & setosa\\\\\n",
       "\t 5.0 & 3.4 & 1.5 & 0.2 & setosa\\\\\n",
       "\t 4.4 & 2.9 & 1.4 & 0.2 & setosa\\\\\n",
       "\t 4.9 & 3.1 & 1.5 & 0.1 & setosa\\\\\n",
       "\t 5.4 & 3.7 & 1.5 & 0.2 & setosa\\\\\n",
       "\t 4.8 & 3.4 & 1.6 & 0.2 & setosa\\\\\n",
       "\t 4.8 & 3.0 & 1.4 & 0.1 & setosa\\\\\n",
       "\t 4.3 & 3.0 & 1.1 & 0.1 & setosa\\\\\n",
       "\t 5.8 & 4.0 & 1.2 & 0.2 & setosa\\\\\n",
       "\t 5.7 & 4.4 & 1.5 & 0.4 & setosa\\\\\n",
       "\t 5.4 & 3.9 & 1.3 & 0.4 & setosa\\\\\n",
       "\t 5.1 & 3.5 & 1.4 & 0.3 & setosa\\\\\n",
       "\t 5.7 & 3.8 & 1.7 & 0.3 & setosa\\\\\n",
       "\t 5.1 & 3.8 & 1.5 & 0.3 & setosa\\\\\n",
       "\t 5.4 & 3.4 & 1.7 & 0.2 & setosa\\\\\n",
       "\t 5.1 & 3.7 & 1.5 & 0.4 & setosa\\\\\n",
       "\t 4.6 & 3.6 & 1.0 & 0.2 & setosa\\\\\n",
       "\t 5.1 & 3.3 & 1.7 & 0.5 & setosa\\\\\n",
       "\t 4.8 & 3.4 & 1.9 & 0.2 & setosa\\\\\n",
       "\t 5.0 & 3.0 & 1.6 & 0.2 & setosa\\\\\n",
       "\t 5.0 & 3.4 & 1.6 & 0.4 & setosa\\\\\n",
       "\t 5.2 & 3.5 & 1.5 & 0.2 & setosa\\\\\n",
       "\t 5.2 & 3.4 & 1.4 & 0.2 & setosa\\\\\n",
       "\t 4.7 & 3.2 & 1.6 & 0.2 & setosa\\\\\n",
       "\t ... & ... & ... & ... & ...\\\\\n",
       "\t 6.9 & 3.2 & 5.7 & 2.3 & virginica\\\\\n",
       "\t 5.6 & 2.8 & 4.9 & 2.0 & virginica\\\\\n",
       "\t 7.7 & 2.8 & 6.7 & 2.0 & virginica\\\\\n",
       "\t 6.3 & 2.7 & 4.9 & 1.8 & virginica\\\\\n",
       "\t 6.7 & 3.3 & 5.7 & 2.1 & virginica\\\\\n",
       "\t 7.2 & 3.2 & 6.0 & 1.8 & virginica\\\\\n",
       "\t 6.2 & 2.8 & 4.8 & 1.8 & virginica\\\\\n",
       "\t 6.1 & 3.0 & 4.9 & 1.8 & virginica\\\\\n",
       "\t 6.4 & 2.8 & 5.6 & 2.1 & virginica\\\\\n",
       "\t 7.2 & 3.0 & 5.8 & 1.6 & virginica\\\\\n",
       "\t 7.4 & 2.8 & 6.1 & 1.9 & virginica\\\\\n",
       "\t 7.9 & 3.8 & 6.4 & 2.0 & virginica\\\\\n",
       "\t 6.4 & 2.8 & 5.6 & 2.2 & virginica\\\\\n",
       "\t 6.3 & 2.8 & 5.1 & 1.5 & virginica\\\\\n",
       "\t 6.1 & 2.6 & 5.6 & 1.4 & virginica\\\\\n",
       "\t 7.7 & 3.0 & 6.1 & 2.3 & virginica\\\\\n",
       "\t 6.3 & 3.4 & 5.6 & 2.4 & virginica\\\\\n",
       "\t 6.4 & 3.1 & 5.5 & 1.8 & virginica\\\\\n",
       "\t 6.0 & 3.0 & 4.8 & 1.8 & virginica\\\\\n",
       "\t 6.9 & 3.1 & 5.4 & 2.1 & virginica\\\\\n",
       "\t 6.7 & 3.1 & 5.6 & 2.4 & virginica\\\\\n",
       "\t 6.9 & 3.1 & 5.1 & 2.3 & virginica\\\\\n",
       "\t 5.8 & 2.7 & 5.1 & 1.9 & virginica\\\\\n",
       "\t 6.8 & 3.2 & 5.9 & 2.3 & virginica\\\\\n",
       "\t 6.7 & 3.3 & 5.7 & 2.5 & virginica\\\\\n",
       "\t 6.7 & 3.0 & 5.2 & 2.3 & virginica\\\\\n",
       "\t 6.3 & 2.5 & 5.0 & 1.9 & virginica\\\\\n",
       "\t 6.5 & 3.0 & 5.2 & 2.0 & virginica\\\\\n",
       "\t 6.2 & 3.4 & 5.4 & 2.3 & virginica\\\\\n",
       "\t 5.9 & 3.0 & 5.1 & 1.8 & virginica\\\\\n",
       "\\end{tabular}\n"
      ],
      "text/markdown": [
       "\n",
       "A tibble: 150 × 5\n",
       "\n",
       "| Sepal.Length &lt;dbl&gt; | Sepal.Width &lt;dbl&gt; | Petal.Length &lt;dbl&gt; | Petal.Width &lt;dbl&gt; | Species &lt;chr&gt; |\n",
       "|---|---|---|---|---|\n",
       "| 5.1 | 3.5 | 1.4 | 0.2 | setosa |\n",
       "| 4.9 | 3.0 | 1.4 | 0.2 | setosa |\n",
       "| 4.7 | 3.2 | 1.3 | 0.2 | setosa |\n",
       "| 4.6 | 3.1 | 1.5 | 0.2 | setosa |\n",
       "| 5.0 | 3.6 | 1.4 | 0.2 | setosa |\n",
       "| 5.4 | 3.9 | 1.7 | 0.4 | setosa |\n",
       "| 4.6 | 3.4 | 1.4 | 0.3 | setosa |\n",
       "| 5.0 | 3.4 | 1.5 | 0.2 | setosa |\n",
       "| 4.4 | 2.9 | 1.4 | 0.2 | setosa |\n",
       "| 4.9 | 3.1 | 1.5 | 0.1 | setosa |\n",
       "| 5.4 | 3.7 | 1.5 | 0.2 | setosa |\n",
       "| 4.8 | 3.4 | 1.6 | 0.2 | setosa |\n",
       "| 4.8 | 3.0 | 1.4 | 0.1 | setosa |\n",
       "| 4.3 | 3.0 | 1.1 | 0.1 | setosa |\n",
       "| 5.8 | 4.0 | 1.2 | 0.2 | setosa |\n",
       "| 5.7 | 4.4 | 1.5 | 0.4 | setosa |\n",
       "| 5.4 | 3.9 | 1.3 | 0.4 | setosa |\n",
       "| 5.1 | 3.5 | 1.4 | 0.3 | setosa |\n",
       "| 5.7 | 3.8 | 1.7 | 0.3 | setosa |\n",
       "| 5.1 | 3.8 | 1.5 | 0.3 | setosa |\n",
       "| 5.4 | 3.4 | 1.7 | 0.2 | setosa |\n",
       "| 5.1 | 3.7 | 1.5 | 0.4 | setosa |\n",
       "| 4.6 | 3.6 | 1.0 | 0.2 | setosa |\n",
       "| 5.1 | 3.3 | 1.7 | 0.5 | setosa |\n",
       "| 4.8 | 3.4 | 1.9 | 0.2 | setosa |\n",
       "| 5.0 | 3.0 | 1.6 | 0.2 | setosa |\n",
       "| 5.0 | 3.4 | 1.6 | 0.4 | setosa |\n",
       "| 5.2 | 3.5 | 1.5 | 0.2 | setosa |\n",
       "| 5.2 | 3.4 | 1.4 | 0.2 | setosa |\n",
       "| 4.7 | 3.2 | 1.6 | 0.2 | setosa |\n",
       "| ... | ... | ... | ... | ... |\n",
       "| 6.9 | 3.2 | 5.7 | 2.3 | virginica |\n",
       "| 5.6 | 2.8 | 4.9 | 2.0 | virginica |\n",
       "| 7.7 | 2.8 | 6.7 | 2.0 | virginica |\n",
       "| 6.3 | 2.7 | 4.9 | 1.8 | virginica |\n",
       "| 6.7 | 3.3 | 5.7 | 2.1 | virginica |\n",
       "| 7.2 | 3.2 | 6.0 | 1.8 | virginica |\n",
       "| 6.2 | 2.8 | 4.8 | 1.8 | virginica |\n",
       "| 6.1 | 3.0 | 4.9 | 1.8 | virginica |\n",
       "| 6.4 | 2.8 | 5.6 | 2.1 | virginica |\n",
       "| 7.2 | 3.0 | 5.8 | 1.6 | virginica |\n",
       "| 7.4 | 2.8 | 6.1 | 1.9 | virginica |\n",
       "| 7.9 | 3.8 | 6.4 | 2.0 | virginica |\n",
       "| 6.4 | 2.8 | 5.6 | 2.2 | virginica |\n",
       "| 6.3 | 2.8 | 5.1 | 1.5 | virginica |\n",
       "| 6.1 | 2.6 | 5.6 | 1.4 | virginica |\n",
       "| 7.7 | 3.0 | 6.1 | 2.3 | virginica |\n",
       "| 6.3 | 3.4 | 5.6 | 2.4 | virginica |\n",
       "| 6.4 | 3.1 | 5.5 | 1.8 | virginica |\n",
       "| 6.0 | 3.0 | 4.8 | 1.8 | virginica |\n",
       "| 6.9 | 3.1 | 5.4 | 2.1 | virginica |\n",
       "| 6.7 | 3.1 | 5.6 | 2.4 | virginica |\n",
       "| 6.9 | 3.1 | 5.1 | 2.3 | virginica |\n",
       "| 5.8 | 2.7 | 5.1 | 1.9 | virginica |\n",
       "| 6.8 | 3.2 | 5.9 | 2.3 | virginica |\n",
       "| 6.7 | 3.3 | 5.7 | 2.5 | virginica |\n",
       "| 6.7 | 3.0 | 5.2 | 2.3 | virginica |\n",
       "| 6.3 | 2.5 | 5.0 | 1.9 | virginica |\n",
       "| 6.5 | 3.0 | 5.2 | 2.0 | virginica |\n",
       "| 6.2 | 3.4 | 5.4 | 2.3 | virginica |\n",
       "| 5.9 | 3.0 | 5.1 | 1.8 | virginica |\n",
       "\n"
      ],
      "text/plain": [
       "    Sepal.Length Sepal.Width Petal.Length Petal.Width Species  \n",
       "1   5.1          3.5         1.4          0.2         setosa   \n",
       "2   4.9          3.0         1.4          0.2         setosa   \n",
       "3   4.7          3.2         1.3          0.2         setosa   \n",
       "4   4.6          3.1         1.5          0.2         setosa   \n",
       "5   5.0          3.6         1.4          0.2         setosa   \n",
       "6   5.4          3.9         1.7          0.4         setosa   \n",
       "7   4.6          3.4         1.4          0.3         setosa   \n",
       "8   5.0          3.4         1.5          0.2         setosa   \n",
       "9   4.4          2.9         1.4          0.2         setosa   \n",
       "10  4.9          3.1         1.5          0.1         setosa   \n",
       "11  5.4          3.7         1.5          0.2         setosa   \n",
       "12  4.8          3.4         1.6          0.2         setosa   \n",
       "13  4.8          3.0         1.4          0.1         setosa   \n",
       "14  4.3          3.0         1.1          0.1         setosa   \n",
       "15  5.8          4.0         1.2          0.2         setosa   \n",
       "16  5.7          4.4         1.5          0.4         setosa   \n",
       "17  5.4          3.9         1.3          0.4         setosa   \n",
       "18  5.1          3.5         1.4          0.3         setosa   \n",
       "19  5.7          3.8         1.7          0.3         setosa   \n",
       "20  5.1          3.8         1.5          0.3         setosa   \n",
       "21  5.4          3.4         1.7          0.2         setosa   \n",
       "22  5.1          3.7         1.5          0.4         setosa   \n",
       "23  4.6          3.6         1.0          0.2         setosa   \n",
       "24  5.1          3.3         1.7          0.5         setosa   \n",
       "25  4.8          3.4         1.9          0.2         setosa   \n",
       "26  5.0          3.0         1.6          0.2         setosa   \n",
       "27  5.0          3.4         1.6          0.4         setosa   \n",
       "28  5.2          3.5         1.5          0.2         setosa   \n",
       "29  5.2          3.4         1.4          0.2         setosa   \n",
       "30  4.7          3.2         1.6          0.2         setosa   \n",
       "... ...          ...         ...          ...         ...      \n",
       "121 6.9          3.2         5.7          2.3         virginica\n",
       "122 5.6          2.8         4.9          2.0         virginica\n",
       "123 7.7          2.8         6.7          2.0         virginica\n",
       "124 6.3          2.7         4.9          1.8         virginica\n",
       "125 6.7          3.3         5.7          2.1         virginica\n",
       "126 7.2          3.2         6.0          1.8         virginica\n",
       "127 6.2          2.8         4.8          1.8         virginica\n",
       "128 6.1          3.0         4.9          1.8         virginica\n",
       "129 6.4          2.8         5.6          2.1         virginica\n",
       "130 7.2          3.0         5.8          1.6         virginica\n",
       "131 7.4          2.8         6.1          1.9         virginica\n",
       "132 7.9          3.8         6.4          2.0         virginica\n",
       "133 6.4          2.8         5.6          2.2         virginica\n",
       "134 6.3          2.8         5.1          1.5         virginica\n",
       "135 6.1          2.6         5.6          1.4         virginica\n",
       "136 7.7          3.0         6.1          2.3         virginica\n",
       "137 6.3          3.4         5.6          2.4         virginica\n",
       "138 6.4          3.1         5.5          1.8         virginica\n",
       "139 6.0          3.0         4.8          1.8         virginica\n",
       "140 6.9          3.1         5.4          2.1         virginica\n",
       "141 6.7          3.1         5.6          2.4         virginica\n",
       "142 6.9          3.1         5.1          2.3         virginica\n",
       "143 5.8          2.7         5.1          1.9         virginica\n",
       "144 6.8          3.2         5.9          2.3         virginica\n",
       "145 6.7          3.3         5.7          2.5         virginica\n",
       "146 6.7          3.0         5.2          2.3         virginica\n",
       "147 6.3          2.5         5.0          1.9         virginica\n",
       "148 6.5          3.0         5.2          2.0         virginica\n",
       "149 6.2          3.4         5.4          2.3         virginica\n",
       "150 5.9          3.0         5.1          1.8         virginica"
      ]
     },
     "metadata": {},
     "output_type": "display_data"
    },
    {
     "data": {
      "text/html": [
       "<table class=\"dataframe\">\n",
       "<caption>A tibble: 32 × 11</caption>\n",
       "<thead>\n",
       "\t<tr><th scope=col>mpg</th><th scope=col>cyl</th><th scope=col>disp</th><th scope=col>hp</th><th scope=col>drat</th><th scope=col>wt</th><th scope=col>qsec</th><th scope=col>vs</th><th scope=col>am</th><th scope=col>gear</th><th scope=col>carb</th></tr>\n",
       "\t<tr><th scope=col>&lt;dbl&gt;</th><th scope=col>&lt;dbl&gt;</th><th scope=col>&lt;dbl&gt;</th><th scope=col>&lt;dbl&gt;</th><th scope=col>&lt;dbl&gt;</th><th scope=col>&lt;dbl&gt;</th><th scope=col>&lt;dbl&gt;</th><th scope=col>&lt;dbl&gt;</th><th scope=col>&lt;dbl&gt;</th><th scope=col>&lt;dbl&gt;</th><th scope=col>&lt;dbl&gt;</th></tr>\n",
       "</thead>\n",
       "<tbody>\n",
       "\t<tr><td>21.0</td><td>6</td><td>160.0</td><td>110</td><td>3.90</td><td>2.620</td><td>16.46</td><td>0</td><td>1</td><td>4</td><td>4</td></tr>\n",
       "\t<tr><td>21.0</td><td>6</td><td>160.0</td><td>110</td><td>3.90</td><td>2.875</td><td>17.02</td><td>0</td><td>1</td><td>4</td><td>4</td></tr>\n",
       "\t<tr><td>22.8</td><td>4</td><td>108.0</td><td> 93</td><td>3.85</td><td>2.320</td><td>18.61</td><td>1</td><td>1</td><td>4</td><td>1</td></tr>\n",
       "\t<tr><td>21.4</td><td>6</td><td>258.0</td><td>110</td><td>3.08</td><td>3.215</td><td>19.44</td><td>1</td><td>0</td><td>3</td><td>1</td></tr>\n",
       "\t<tr><td>18.7</td><td>8</td><td>360.0</td><td>175</td><td>3.15</td><td>3.440</td><td>17.02</td><td>0</td><td>0</td><td>3</td><td>2</td></tr>\n",
       "\t<tr><td>18.1</td><td>6</td><td>225.0</td><td>105</td><td>2.76</td><td>3.460</td><td>20.22</td><td>1</td><td>0</td><td>3</td><td>1</td></tr>\n",
       "\t<tr><td>14.3</td><td>8</td><td>360.0</td><td>245</td><td>3.21</td><td>3.570</td><td>15.84</td><td>0</td><td>0</td><td>3</td><td>4</td></tr>\n",
       "\t<tr><td>24.4</td><td>4</td><td>146.7</td><td> 62</td><td>3.69</td><td>3.190</td><td>20.00</td><td>1</td><td>0</td><td>4</td><td>2</td></tr>\n",
       "\t<tr><td>22.8</td><td>4</td><td>140.8</td><td> 95</td><td>3.92</td><td>3.150</td><td>22.90</td><td>1</td><td>0</td><td>4</td><td>2</td></tr>\n",
       "\t<tr><td>19.2</td><td>6</td><td>167.6</td><td>123</td><td>3.92</td><td>3.440</td><td>18.30</td><td>1</td><td>0</td><td>4</td><td>4</td></tr>\n",
       "\t<tr><td>17.8</td><td>6</td><td>167.6</td><td>123</td><td>3.92</td><td>3.440</td><td>18.90</td><td>1</td><td>0</td><td>4</td><td>4</td></tr>\n",
       "\t<tr><td>16.4</td><td>8</td><td>275.8</td><td>180</td><td>3.07</td><td>4.070</td><td>17.40</td><td>0</td><td>0</td><td>3</td><td>3</td></tr>\n",
       "\t<tr><td>17.3</td><td>8</td><td>275.8</td><td>180</td><td>3.07</td><td>3.730</td><td>17.60</td><td>0</td><td>0</td><td>3</td><td>3</td></tr>\n",
       "\t<tr><td>15.2</td><td>8</td><td>275.8</td><td>180</td><td>3.07</td><td>3.780</td><td>18.00</td><td>0</td><td>0</td><td>3</td><td>3</td></tr>\n",
       "\t<tr><td>10.4</td><td>8</td><td>472.0</td><td>205</td><td>2.93</td><td>5.250</td><td>17.98</td><td>0</td><td>0</td><td>3</td><td>4</td></tr>\n",
       "\t<tr><td>10.4</td><td>8</td><td>460.0</td><td>215</td><td>3.00</td><td>5.424</td><td>17.82</td><td>0</td><td>0</td><td>3</td><td>4</td></tr>\n",
       "\t<tr><td>14.7</td><td>8</td><td>440.0</td><td>230</td><td>3.23</td><td>5.345</td><td>17.42</td><td>0</td><td>0</td><td>3</td><td>4</td></tr>\n",
       "\t<tr><td>32.4</td><td>4</td><td> 78.7</td><td> 66</td><td>4.08</td><td>2.200</td><td>19.47</td><td>1</td><td>1</td><td>4</td><td>1</td></tr>\n",
       "\t<tr><td>30.4</td><td>4</td><td> 75.7</td><td> 52</td><td>4.93</td><td>1.615</td><td>18.52</td><td>1</td><td>1</td><td>4</td><td>2</td></tr>\n",
       "\t<tr><td>33.9</td><td>4</td><td> 71.1</td><td> 65</td><td>4.22</td><td>1.835</td><td>19.90</td><td>1</td><td>1</td><td>4</td><td>1</td></tr>\n",
       "\t<tr><td>21.5</td><td>4</td><td>120.1</td><td> 97</td><td>3.70</td><td>2.465</td><td>20.01</td><td>1</td><td>0</td><td>3</td><td>1</td></tr>\n",
       "\t<tr><td>15.5</td><td>8</td><td>318.0</td><td>150</td><td>2.76</td><td>3.520</td><td>16.87</td><td>0</td><td>0</td><td>3</td><td>2</td></tr>\n",
       "\t<tr><td>15.2</td><td>8</td><td>304.0</td><td>150</td><td>3.15</td><td>3.435</td><td>17.30</td><td>0</td><td>0</td><td>3</td><td>2</td></tr>\n",
       "\t<tr><td>13.3</td><td>8</td><td>350.0</td><td>245</td><td>3.73</td><td>3.840</td><td>15.41</td><td>0</td><td>0</td><td>3</td><td>4</td></tr>\n",
       "\t<tr><td>19.2</td><td>8</td><td>400.0</td><td>175</td><td>3.08</td><td>3.845</td><td>17.05</td><td>0</td><td>0</td><td>3</td><td>2</td></tr>\n",
       "\t<tr><td>27.3</td><td>4</td><td> 79.0</td><td> 66</td><td>4.08</td><td>1.935</td><td>18.90</td><td>1</td><td>1</td><td>4</td><td>1</td></tr>\n",
       "\t<tr><td>26.0</td><td>4</td><td>120.3</td><td> 91</td><td>4.43</td><td>2.140</td><td>16.70</td><td>0</td><td>1</td><td>5</td><td>2</td></tr>\n",
       "\t<tr><td>30.4</td><td>4</td><td> 95.1</td><td>113</td><td>3.77</td><td>1.513</td><td>16.90</td><td>1</td><td>1</td><td>5</td><td>2</td></tr>\n",
       "\t<tr><td>15.8</td><td>8</td><td>351.0</td><td>264</td><td>4.22</td><td>3.170</td><td>14.50</td><td>0</td><td>1</td><td>5</td><td>4</td></tr>\n",
       "\t<tr><td>19.7</td><td>6</td><td>145.0</td><td>175</td><td>3.62</td><td>2.770</td><td>15.50</td><td>0</td><td>1</td><td>5</td><td>6</td></tr>\n",
       "\t<tr><td>15.0</td><td>8</td><td>301.0</td><td>335</td><td>3.54</td><td>3.570</td><td>14.60</td><td>0</td><td>1</td><td>5</td><td>8</td></tr>\n",
       "\t<tr><td>21.4</td><td>4</td><td>121.0</td><td>109</td><td>4.11</td><td>2.780</td><td>18.60</td><td>1</td><td>1</td><td>4</td><td>2</td></tr>\n",
       "</tbody>\n",
       "</table>\n"
      ],
      "text/latex": [
       "A tibble: 32 × 11\n",
       "\\begin{tabular}{lllllllllll}\n",
       " mpg & cyl & disp & hp & drat & wt & qsec & vs & am & gear & carb\\\\\n",
       " <dbl> & <dbl> & <dbl> & <dbl> & <dbl> & <dbl> & <dbl> & <dbl> & <dbl> & <dbl> & <dbl>\\\\\n",
       "\\hline\n",
       "\t 21.0 & 6 & 160.0 & 110 & 3.90 & 2.620 & 16.46 & 0 & 1 & 4 & 4\\\\\n",
       "\t 21.0 & 6 & 160.0 & 110 & 3.90 & 2.875 & 17.02 & 0 & 1 & 4 & 4\\\\\n",
       "\t 22.8 & 4 & 108.0 &  93 & 3.85 & 2.320 & 18.61 & 1 & 1 & 4 & 1\\\\\n",
       "\t 21.4 & 6 & 258.0 & 110 & 3.08 & 3.215 & 19.44 & 1 & 0 & 3 & 1\\\\\n",
       "\t 18.7 & 8 & 360.0 & 175 & 3.15 & 3.440 & 17.02 & 0 & 0 & 3 & 2\\\\\n",
       "\t 18.1 & 6 & 225.0 & 105 & 2.76 & 3.460 & 20.22 & 1 & 0 & 3 & 1\\\\\n",
       "\t 14.3 & 8 & 360.0 & 245 & 3.21 & 3.570 & 15.84 & 0 & 0 & 3 & 4\\\\\n",
       "\t 24.4 & 4 & 146.7 &  62 & 3.69 & 3.190 & 20.00 & 1 & 0 & 4 & 2\\\\\n",
       "\t 22.8 & 4 & 140.8 &  95 & 3.92 & 3.150 & 22.90 & 1 & 0 & 4 & 2\\\\\n",
       "\t 19.2 & 6 & 167.6 & 123 & 3.92 & 3.440 & 18.30 & 1 & 0 & 4 & 4\\\\\n",
       "\t 17.8 & 6 & 167.6 & 123 & 3.92 & 3.440 & 18.90 & 1 & 0 & 4 & 4\\\\\n",
       "\t 16.4 & 8 & 275.8 & 180 & 3.07 & 4.070 & 17.40 & 0 & 0 & 3 & 3\\\\\n",
       "\t 17.3 & 8 & 275.8 & 180 & 3.07 & 3.730 & 17.60 & 0 & 0 & 3 & 3\\\\\n",
       "\t 15.2 & 8 & 275.8 & 180 & 3.07 & 3.780 & 18.00 & 0 & 0 & 3 & 3\\\\\n",
       "\t 10.4 & 8 & 472.0 & 205 & 2.93 & 5.250 & 17.98 & 0 & 0 & 3 & 4\\\\\n",
       "\t 10.4 & 8 & 460.0 & 215 & 3.00 & 5.424 & 17.82 & 0 & 0 & 3 & 4\\\\\n",
       "\t 14.7 & 8 & 440.0 & 230 & 3.23 & 5.345 & 17.42 & 0 & 0 & 3 & 4\\\\\n",
       "\t 32.4 & 4 &  78.7 &  66 & 4.08 & 2.200 & 19.47 & 1 & 1 & 4 & 1\\\\\n",
       "\t 30.4 & 4 &  75.7 &  52 & 4.93 & 1.615 & 18.52 & 1 & 1 & 4 & 2\\\\\n",
       "\t 33.9 & 4 &  71.1 &  65 & 4.22 & 1.835 & 19.90 & 1 & 1 & 4 & 1\\\\\n",
       "\t 21.5 & 4 & 120.1 &  97 & 3.70 & 2.465 & 20.01 & 1 & 0 & 3 & 1\\\\\n",
       "\t 15.5 & 8 & 318.0 & 150 & 2.76 & 3.520 & 16.87 & 0 & 0 & 3 & 2\\\\\n",
       "\t 15.2 & 8 & 304.0 & 150 & 3.15 & 3.435 & 17.30 & 0 & 0 & 3 & 2\\\\\n",
       "\t 13.3 & 8 & 350.0 & 245 & 3.73 & 3.840 & 15.41 & 0 & 0 & 3 & 4\\\\\n",
       "\t 19.2 & 8 & 400.0 & 175 & 3.08 & 3.845 & 17.05 & 0 & 0 & 3 & 2\\\\\n",
       "\t 27.3 & 4 &  79.0 &  66 & 4.08 & 1.935 & 18.90 & 1 & 1 & 4 & 1\\\\\n",
       "\t 26.0 & 4 & 120.3 &  91 & 4.43 & 2.140 & 16.70 & 0 & 1 & 5 & 2\\\\\n",
       "\t 30.4 & 4 &  95.1 & 113 & 3.77 & 1.513 & 16.90 & 1 & 1 & 5 & 2\\\\\n",
       "\t 15.8 & 8 & 351.0 & 264 & 4.22 & 3.170 & 14.50 & 0 & 1 & 5 & 4\\\\\n",
       "\t 19.7 & 6 & 145.0 & 175 & 3.62 & 2.770 & 15.50 & 0 & 1 & 5 & 6\\\\\n",
       "\t 15.0 & 8 & 301.0 & 335 & 3.54 & 3.570 & 14.60 & 0 & 1 & 5 & 8\\\\\n",
       "\t 21.4 & 4 & 121.0 & 109 & 4.11 & 2.780 & 18.60 & 1 & 1 & 4 & 2\\\\\n",
       "\\end{tabular}\n"
      ],
      "text/markdown": [
       "\n",
       "A tibble: 32 × 11\n",
       "\n",
       "| mpg &lt;dbl&gt; | cyl &lt;dbl&gt; | disp &lt;dbl&gt; | hp &lt;dbl&gt; | drat &lt;dbl&gt; | wt &lt;dbl&gt; | qsec &lt;dbl&gt; | vs &lt;dbl&gt; | am &lt;dbl&gt; | gear &lt;dbl&gt; | carb &lt;dbl&gt; |\n",
       "|---|---|---|---|---|---|---|---|---|---|---|\n",
       "| 21.0 | 6 | 160.0 | 110 | 3.90 | 2.620 | 16.46 | 0 | 1 | 4 | 4 |\n",
       "| 21.0 | 6 | 160.0 | 110 | 3.90 | 2.875 | 17.02 | 0 | 1 | 4 | 4 |\n",
       "| 22.8 | 4 | 108.0 |  93 | 3.85 | 2.320 | 18.61 | 1 | 1 | 4 | 1 |\n",
       "| 21.4 | 6 | 258.0 | 110 | 3.08 | 3.215 | 19.44 | 1 | 0 | 3 | 1 |\n",
       "| 18.7 | 8 | 360.0 | 175 | 3.15 | 3.440 | 17.02 | 0 | 0 | 3 | 2 |\n",
       "| 18.1 | 6 | 225.0 | 105 | 2.76 | 3.460 | 20.22 | 1 | 0 | 3 | 1 |\n",
       "| 14.3 | 8 | 360.0 | 245 | 3.21 | 3.570 | 15.84 | 0 | 0 | 3 | 4 |\n",
       "| 24.4 | 4 | 146.7 |  62 | 3.69 | 3.190 | 20.00 | 1 | 0 | 4 | 2 |\n",
       "| 22.8 | 4 | 140.8 |  95 | 3.92 | 3.150 | 22.90 | 1 | 0 | 4 | 2 |\n",
       "| 19.2 | 6 | 167.6 | 123 | 3.92 | 3.440 | 18.30 | 1 | 0 | 4 | 4 |\n",
       "| 17.8 | 6 | 167.6 | 123 | 3.92 | 3.440 | 18.90 | 1 | 0 | 4 | 4 |\n",
       "| 16.4 | 8 | 275.8 | 180 | 3.07 | 4.070 | 17.40 | 0 | 0 | 3 | 3 |\n",
       "| 17.3 | 8 | 275.8 | 180 | 3.07 | 3.730 | 17.60 | 0 | 0 | 3 | 3 |\n",
       "| 15.2 | 8 | 275.8 | 180 | 3.07 | 3.780 | 18.00 | 0 | 0 | 3 | 3 |\n",
       "| 10.4 | 8 | 472.0 | 205 | 2.93 | 5.250 | 17.98 | 0 | 0 | 3 | 4 |\n",
       "| 10.4 | 8 | 460.0 | 215 | 3.00 | 5.424 | 17.82 | 0 | 0 | 3 | 4 |\n",
       "| 14.7 | 8 | 440.0 | 230 | 3.23 | 5.345 | 17.42 | 0 | 0 | 3 | 4 |\n",
       "| 32.4 | 4 |  78.7 |  66 | 4.08 | 2.200 | 19.47 | 1 | 1 | 4 | 1 |\n",
       "| 30.4 | 4 |  75.7 |  52 | 4.93 | 1.615 | 18.52 | 1 | 1 | 4 | 2 |\n",
       "| 33.9 | 4 |  71.1 |  65 | 4.22 | 1.835 | 19.90 | 1 | 1 | 4 | 1 |\n",
       "| 21.5 | 4 | 120.1 |  97 | 3.70 | 2.465 | 20.01 | 1 | 0 | 3 | 1 |\n",
       "| 15.5 | 8 | 318.0 | 150 | 2.76 | 3.520 | 16.87 | 0 | 0 | 3 | 2 |\n",
       "| 15.2 | 8 | 304.0 | 150 | 3.15 | 3.435 | 17.30 | 0 | 0 | 3 | 2 |\n",
       "| 13.3 | 8 | 350.0 | 245 | 3.73 | 3.840 | 15.41 | 0 | 0 | 3 | 4 |\n",
       "| 19.2 | 8 | 400.0 | 175 | 3.08 | 3.845 | 17.05 | 0 | 0 | 3 | 2 |\n",
       "| 27.3 | 4 |  79.0 |  66 | 4.08 | 1.935 | 18.90 | 1 | 1 | 4 | 1 |\n",
       "| 26.0 | 4 | 120.3 |  91 | 4.43 | 2.140 | 16.70 | 0 | 1 | 5 | 2 |\n",
       "| 30.4 | 4 |  95.1 | 113 | 3.77 | 1.513 | 16.90 | 1 | 1 | 5 | 2 |\n",
       "| 15.8 | 8 | 351.0 | 264 | 4.22 | 3.170 | 14.50 | 0 | 1 | 5 | 4 |\n",
       "| 19.7 | 6 | 145.0 | 175 | 3.62 | 2.770 | 15.50 | 0 | 1 | 5 | 6 |\n",
       "| 15.0 | 8 | 301.0 | 335 | 3.54 | 3.570 | 14.60 | 0 | 1 | 5 | 8 |\n",
       "| 21.4 | 4 | 121.0 | 109 | 4.11 | 2.780 | 18.60 | 1 | 1 | 4 | 2 |\n",
       "\n"
      ],
      "text/plain": [
       "   mpg  cyl disp  hp  drat wt    qsec  vs am gear carb\n",
       "1  21.0 6   160.0 110 3.90 2.620 16.46 0  1  4    4   \n",
       "2  21.0 6   160.0 110 3.90 2.875 17.02 0  1  4    4   \n",
       "3  22.8 4   108.0  93 3.85 2.320 18.61 1  1  4    1   \n",
       "4  21.4 6   258.0 110 3.08 3.215 19.44 1  0  3    1   \n",
       "5  18.7 8   360.0 175 3.15 3.440 17.02 0  0  3    2   \n",
       "6  18.1 6   225.0 105 2.76 3.460 20.22 1  0  3    1   \n",
       "7  14.3 8   360.0 245 3.21 3.570 15.84 0  0  3    4   \n",
       "8  24.4 4   146.7  62 3.69 3.190 20.00 1  0  4    2   \n",
       "9  22.8 4   140.8  95 3.92 3.150 22.90 1  0  4    2   \n",
       "10 19.2 6   167.6 123 3.92 3.440 18.30 1  0  4    4   \n",
       "11 17.8 6   167.6 123 3.92 3.440 18.90 1  0  4    4   \n",
       "12 16.4 8   275.8 180 3.07 4.070 17.40 0  0  3    3   \n",
       "13 17.3 8   275.8 180 3.07 3.730 17.60 0  0  3    3   \n",
       "14 15.2 8   275.8 180 3.07 3.780 18.00 0  0  3    3   \n",
       "15 10.4 8   472.0 205 2.93 5.250 17.98 0  0  3    4   \n",
       "16 10.4 8   460.0 215 3.00 5.424 17.82 0  0  3    4   \n",
       "17 14.7 8   440.0 230 3.23 5.345 17.42 0  0  3    4   \n",
       "18 32.4 4    78.7  66 4.08 2.200 19.47 1  1  4    1   \n",
       "19 30.4 4    75.7  52 4.93 1.615 18.52 1  1  4    2   \n",
       "20 33.9 4    71.1  65 4.22 1.835 19.90 1  1  4    1   \n",
       "21 21.5 4   120.1  97 3.70 2.465 20.01 1  0  3    1   \n",
       "22 15.5 8   318.0 150 2.76 3.520 16.87 0  0  3    2   \n",
       "23 15.2 8   304.0 150 3.15 3.435 17.30 0  0  3    2   \n",
       "24 13.3 8   350.0 245 3.73 3.840 15.41 0  0  3    4   \n",
       "25 19.2 8   400.0 175 3.08 3.845 17.05 0  0  3    2   \n",
       "26 27.3 4    79.0  66 4.08 1.935 18.90 1  1  4    1   \n",
       "27 26.0 4   120.3  91 4.43 2.140 16.70 0  1  5    2   \n",
       "28 30.4 4    95.1 113 3.77 1.513 16.90 1  1  5    2   \n",
       "29 15.8 8   351.0 264 4.22 3.170 14.50 0  1  5    4   \n",
       "30 19.7 6   145.0 175 3.62 2.770 15.50 0  1  5    6   \n",
       "31 15.0 8   301.0 335 3.54 3.570 14.60 0  1  5    8   \n",
       "32 21.4 4   121.0 109 4.11 2.780 18.60 1  1  4    2   "
      ]
     },
     "metadata": {},
     "output_type": "display_data"
    }
   ],
   "source": [
    "# 读取excel 数据\n",
    "library(readxl)\n",
    "datasets <- readxl_example(\"datasets.xlsx\")\n",
    "read_excel(datasets)\n",
    "\n",
    "read_excel(datasets,2)"
   ]
  },
  {
   "cell_type": "markdown",
   "metadata": {},
   "source": [
    "read_excel(datasets),所读取的是datasets这个excel中第一个sheet的数据，read_excel(datasets,2),所读取的是datasets这个excel中第二个sheet的数据.\n",
    "另外需要注意的是如果execl中的sheet有命名的，也可以通过sheet的命命来指定，例如"
   ]
  },
  {
   "cell_type": "code",
   "execution_count": 34,
   "metadata": {
    "ExecuteTime": {
     "end_time": "2022-01-07T13:27:48.804824Z",
     "start_time": "2022-01-07T13:27:48.713Z"
    },
    "scrolled": true
   },
   "outputs": [
    {
     "data": {
      "text/html": [
       "<table class=\"dataframe\">\n",
       "<caption>A tibble: 71 × 2</caption>\n",
       "<thead>\n",
       "\t<tr><th scope=col>weight</th><th scope=col>feed</th></tr>\n",
       "\t<tr><th scope=col>&lt;dbl&gt;</th><th scope=col>&lt;chr&gt;</th></tr>\n",
       "</thead>\n",
       "<tbody>\n",
       "\t<tr><td>179</td><td>horsebean</td></tr>\n",
       "\t<tr><td>160</td><td>horsebean</td></tr>\n",
       "\t<tr><td>136</td><td>horsebean</td></tr>\n",
       "\t<tr><td>227</td><td>horsebean</td></tr>\n",
       "\t<tr><td>217</td><td>horsebean</td></tr>\n",
       "\t<tr><td>168</td><td>horsebean</td></tr>\n",
       "\t<tr><td>108</td><td>horsebean</td></tr>\n",
       "\t<tr><td>124</td><td>horsebean</td></tr>\n",
       "\t<tr><td>143</td><td>horsebean</td></tr>\n",
       "\t<tr><td>140</td><td>horsebean</td></tr>\n",
       "\t<tr><td>309</td><td>linseed  </td></tr>\n",
       "\t<tr><td>229</td><td>linseed  </td></tr>\n",
       "\t<tr><td>181</td><td>linseed  </td></tr>\n",
       "\t<tr><td>141</td><td>linseed  </td></tr>\n",
       "\t<tr><td>260</td><td>linseed  </td></tr>\n",
       "\t<tr><td>203</td><td>linseed  </td></tr>\n",
       "\t<tr><td>148</td><td>linseed  </td></tr>\n",
       "\t<tr><td>169</td><td>linseed  </td></tr>\n",
       "\t<tr><td>213</td><td>linseed  </td></tr>\n",
       "\t<tr><td>257</td><td>linseed  </td></tr>\n",
       "\t<tr><td>244</td><td>linseed  </td></tr>\n",
       "\t<tr><td>271</td><td>linseed  </td></tr>\n",
       "\t<tr><td>243</td><td>soybean  </td></tr>\n",
       "\t<tr><td>230</td><td>soybean  </td></tr>\n",
       "\t<tr><td>248</td><td>soybean  </td></tr>\n",
       "\t<tr><td>327</td><td>soybean  </td></tr>\n",
       "\t<tr><td>329</td><td>soybean  </td></tr>\n",
       "\t<tr><td>250</td><td>soybean  </td></tr>\n",
       "\t<tr><td>193</td><td>soybean  </td></tr>\n",
       "\t<tr><td>271</td><td>soybean  </td></tr>\n",
       "\t<tr><td>...</td><td>...</td></tr>\n",
       "\t<tr><td>226</td><td>sunflower</td></tr>\n",
       "\t<tr><td>320</td><td>sunflower</td></tr>\n",
       "\t<tr><td>295</td><td>sunflower</td></tr>\n",
       "\t<tr><td>334</td><td>sunflower</td></tr>\n",
       "\t<tr><td>322</td><td>sunflower</td></tr>\n",
       "\t<tr><td>297</td><td>sunflower</td></tr>\n",
       "\t<tr><td>318</td><td>sunflower</td></tr>\n",
       "\t<tr><td>325</td><td>meatmeal </td></tr>\n",
       "\t<tr><td>257</td><td>meatmeal </td></tr>\n",
       "\t<tr><td>303</td><td>meatmeal </td></tr>\n",
       "\t<tr><td>315</td><td>meatmeal </td></tr>\n",
       "\t<tr><td>380</td><td>meatmeal </td></tr>\n",
       "\t<tr><td>153</td><td>meatmeal </td></tr>\n",
       "\t<tr><td>263</td><td>meatmeal </td></tr>\n",
       "\t<tr><td>242</td><td>meatmeal </td></tr>\n",
       "\t<tr><td>206</td><td>meatmeal </td></tr>\n",
       "\t<tr><td>344</td><td>meatmeal </td></tr>\n",
       "\t<tr><td>258</td><td>meatmeal </td></tr>\n",
       "\t<tr><td>368</td><td>casein   </td></tr>\n",
       "\t<tr><td>390</td><td>casein   </td></tr>\n",
       "\t<tr><td>379</td><td>casein   </td></tr>\n",
       "\t<tr><td>260</td><td>casein   </td></tr>\n",
       "\t<tr><td>404</td><td>casein   </td></tr>\n",
       "\t<tr><td>318</td><td>casein   </td></tr>\n",
       "\t<tr><td>352</td><td>casein   </td></tr>\n",
       "\t<tr><td>359</td><td>casein   </td></tr>\n",
       "\t<tr><td>216</td><td>casein   </td></tr>\n",
       "\t<tr><td>222</td><td>casein   </td></tr>\n",
       "\t<tr><td>283</td><td>casein   </td></tr>\n",
       "\t<tr><td>332</td><td>casein   </td></tr>\n",
       "</tbody>\n",
       "</table>\n"
      ],
      "text/latex": [
       "A tibble: 71 × 2\n",
       "\\begin{tabular}{ll}\n",
       " weight & feed\\\\\n",
       " <dbl> & <chr>\\\\\n",
       "\\hline\n",
       "\t 179 & horsebean\\\\\n",
       "\t 160 & horsebean\\\\\n",
       "\t 136 & horsebean\\\\\n",
       "\t 227 & horsebean\\\\\n",
       "\t 217 & horsebean\\\\\n",
       "\t 168 & horsebean\\\\\n",
       "\t 108 & horsebean\\\\\n",
       "\t 124 & horsebean\\\\\n",
       "\t 143 & horsebean\\\\\n",
       "\t 140 & horsebean\\\\\n",
       "\t 309 & linseed  \\\\\n",
       "\t 229 & linseed  \\\\\n",
       "\t 181 & linseed  \\\\\n",
       "\t 141 & linseed  \\\\\n",
       "\t 260 & linseed  \\\\\n",
       "\t 203 & linseed  \\\\\n",
       "\t 148 & linseed  \\\\\n",
       "\t 169 & linseed  \\\\\n",
       "\t 213 & linseed  \\\\\n",
       "\t 257 & linseed  \\\\\n",
       "\t 244 & linseed  \\\\\n",
       "\t 271 & linseed  \\\\\n",
       "\t 243 & soybean  \\\\\n",
       "\t 230 & soybean  \\\\\n",
       "\t 248 & soybean  \\\\\n",
       "\t 327 & soybean  \\\\\n",
       "\t 329 & soybean  \\\\\n",
       "\t 250 & soybean  \\\\\n",
       "\t 193 & soybean  \\\\\n",
       "\t 271 & soybean  \\\\\n",
       "\t ... & ...\\\\\n",
       "\t 226 & sunflower\\\\\n",
       "\t 320 & sunflower\\\\\n",
       "\t 295 & sunflower\\\\\n",
       "\t 334 & sunflower\\\\\n",
       "\t 322 & sunflower\\\\\n",
       "\t 297 & sunflower\\\\\n",
       "\t 318 & sunflower\\\\\n",
       "\t 325 & meatmeal \\\\\n",
       "\t 257 & meatmeal \\\\\n",
       "\t 303 & meatmeal \\\\\n",
       "\t 315 & meatmeal \\\\\n",
       "\t 380 & meatmeal \\\\\n",
       "\t 153 & meatmeal \\\\\n",
       "\t 263 & meatmeal \\\\\n",
       "\t 242 & meatmeal \\\\\n",
       "\t 206 & meatmeal \\\\\n",
       "\t 344 & meatmeal \\\\\n",
       "\t 258 & meatmeal \\\\\n",
       "\t 368 & casein   \\\\\n",
       "\t 390 & casein   \\\\\n",
       "\t 379 & casein   \\\\\n",
       "\t 260 & casein   \\\\\n",
       "\t 404 & casein   \\\\\n",
       "\t 318 & casein   \\\\\n",
       "\t 352 & casein   \\\\\n",
       "\t 359 & casein   \\\\\n",
       "\t 216 & casein   \\\\\n",
       "\t 222 & casein   \\\\\n",
       "\t 283 & casein   \\\\\n",
       "\t 332 & casein   \\\\\n",
       "\\end{tabular}\n"
      ],
      "text/markdown": [
       "\n",
       "A tibble: 71 × 2\n",
       "\n",
       "| weight &lt;dbl&gt; | feed &lt;chr&gt; |\n",
       "|---|---|\n",
       "| 179 | horsebean |\n",
       "| 160 | horsebean |\n",
       "| 136 | horsebean |\n",
       "| 227 | horsebean |\n",
       "| 217 | horsebean |\n",
       "| 168 | horsebean |\n",
       "| 108 | horsebean |\n",
       "| 124 | horsebean |\n",
       "| 143 | horsebean |\n",
       "| 140 | horsebean |\n",
       "| 309 | linseed   |\n",
       "| 229 | linseed   |\n",
       "| 181 | linseed   |\n",
       "| 141 | linseed   |\n",
       "| 260 | linseed   |\n",
       "| 203 | linseed   |\n",
       "| 148 | linseed   |\n",
       "| 169 | linseed   |\n",
       "| 213 | linseed   |\n",
       "| 257 | linseed   |\n",
       "| 244 | linseed   |\n",
       "| 271 | linseed   |\n",
       "| 243 | soybean   |\n",
       "| 230 | soybean   |\n",
       "| 248 | soybean   |\n",
       "| 327 | soybean   |\n",
       "| 329 | soybean   |\n",
       "| 250 | soybean   |\n",
       "| 193 | soybean   |\n",
       "| 271 | soybean   |\n",
       "| ... | ... |\n",
       "| 226 | sunflower |\n",
       "| 320 | sunflower |\n",
       "| 295 | sunflower |\n",
       "| 334 | sunflower |\n",
       "| 322 | sunflower |\n",
       "| 297 | sunflower |\n",
       "| 318 | sunflower |\n",
       "| 325 | meatmeal  |\n",
       "| 257 | meatmeal  |\n",
       "| 303 | meatmeal  |\n",
       "| 315 | meatmeal  |\n",
       "| 380 | meatmeal  |\n",
       "| 153 | meatmeal  |\n",
       "| 263 | meatmeal  |\n",
       "| 242 | meatmeal  |\n",
       "| 206 | meatmeal  |\n",
       "| 344 | meatmeal  |\n",
       "| 258 | meatmeal  |\n",
       "| 368 | casein    |\n",
       "| 390 | casein    |\n",
       "| 379 | casein    |\n",
       "| 260 | casein    |\n",
       "| 404 | casein    |\n",
       "| 318 | casein    |\n",
       "| 352 | casein    |\n",
       "| 359 | casein    |\n",
       "| 216 | casein    |\n",
       "| 222 | casein    |\n",
       "| 283 | casein    |\n",
       "| 332 | casein    |\n",
       "\n"
      ],
      "text/plain": [
       "    weight feed     \n",
       "1   179    horsebean\n",
       "2   160    horsebean\n",
       "3   136    horsebean\n",
       "4   227    horsebean\n",
       "5   217    horsebean\n",
       "6   168    horsebean\n",
       "7   108    horsebean\n",
       "8   124    horsebean\n",
       "9   143    horsebean\n",
       "10  140    horsebean\n",
       "11  309    linseed  \n",
       "12  229    linseed  \n",
       "13  181    linseed  \n",
       "14  141    linseed  \n",
       "15  260    linseed  \n",
       "16  203    linseed  \n",
       "17  148    linseed  \n",
       "18  169    linseed  \n",
       "19  213    linseed  \n",
       "20  257    linseed  \n",
       "21  244    linseed  \n",
       "22  271    linseed  \n",
       "23  243    soybean  \n",
       "24  230    soybean  \n",
       "25  248    soybean  \n",
       "26  327    soybean  \n",
       "27  329    soybean  \n",
       "28  250    soybean  \n",
       "29  193    soybean  \n",
       "30  271    soybean  \n",
       "... ...    ...      \n",
       "42  226    sunflower\n",
       "43  320    sunflower\n",
       "44  295    sunflower\n",
       "45  334    sunflower\n",
       "46  322    sunflower\n",
       "47  297    sunflower\n",
       "48  318    sunflower\n",
       "49  325    meatmeal \n",
       "50  257    meatmeal \n",
       "51  303    meatmeal \n",
       "52  315    meatmeal \n",
       "53  380    meatmeal \n",
       "54  153    meatmeal \n",
       "55  263    meatmeal \n",
       "56  242    meatmeal \n",
       "57  206    meatmeal \n",
       "58  344    meatmeal \n",
       "59  258    meatmeal \n",
       "60  368    casein   \n",
       "61  390    casein   \n",
       "62  379    casein   \n",
       "63  260    casein   \n",
       "64  404    casein   \n",
       "65  318    casein   \n",
       "66  352    casein   \n",
       "67  359    casein   \n",
       "68  216    casein   \n",
       "69  222    casein   \n",
       "70  283    casein   \n",
       "71  332    casein   "
      ]
     },
     "metadata": {},
     "output_type": "display_data"
    }
   ],
   "source": [
    "# 读取excel数据\n",
    "read_excel(datasets,sheet = \"chickwts\")"
   ]
  },
  {
   "cell_type": "markdown",
   "metadata": {},
   "source": [
    "### 1.4.2 读取SPSS，SAS，STATA数据\n"
   ]
  },
  {
   "cell_type": "code",
   "execution_count": 36,
   "metadata": {
    "ExecuteTime": {
     "end_time": "2022-01-07T13:28:33.124881Z",
     "start_time": "2022-01-07T13:28:33.055Z"
    },
    "scrolled": true
   },
   "outputs": [
    {
     "data": {
      "text/html": [
       "'D:/Program Files/R/R-4.1.1/R-4.1.1/library/haven/examples/iris.sas7bdat'"
      ],
      "text/latex": [
       "'D:/Program Files/R/R-4.1.1/R-4.1.1/library/haven/examples/iris.sas7bdat'"
      ],
      "text/markdown": [
       "'D:/Program Files/R/R-4.1.1/R-4.1.1/library/haven/examples/iris.sas7bdat'"
      ],
      "text/plain": [
       "[1] \"D:/Program Files/R/R-4.1.1/R-4.1.1/library/haven/examples/iris.sas7bdat\""
      ]
     },
     "metadata": {},
     "output_type": "display_data"
    },
    {
     "data": {
      "text/html": [
       "<table class=\"dataframe\">\n",
       "<caption>A tibble: 150 × 5</caption>\n",
       "<thead>\n",
       "\t<tr><th scope=col>Sepal_Length</th><th scope=col>Sepal_Width</th><th scope=col>Petal_Length</th><th scope=col>Petal_Width</th><th scope=col>Species</th></tr>\n",
       "\t<tr><th scope=col>&lt;dbl&gt;</th><th scope=col>&lt;dbl&gt;</th><th scope=col>&lt;dbl&gt;</th><th scope=col>&lt;dbl&gt;</th><th scope=col>&lt;chr&gt;</th></tr>\n",
       "</thead>\n",
       "<tbody>\n",
       "\t<tr><td>5.1</td><td>3.5</td><td>1.4</td><td>0.2</td><td>setosa</td></tr>\n",
       "\t<tr><td>4.9</td><td>3.0</td><td>1.4</td><td>0.2</td><td>setosa</td></tr>\n",
       "\t<tr><td>4.7</td><td>3.2</td><td>1.3</td><td>0.2</td><td>setosa</td></tr>\n",
       "\t<tr><td>4.6</td><td>3.1</td><td>1.5</td><td>0.2</td><td>setosa</td></tr>\n",
       "\t<tr><td>5.0</td><td>3.6</td><td>1.4</td><td>0.2</td><td>setosa</td></tr>\n",
       "\t<tr><td>5.4</td><td>3.9</td><td>1.7</td><td>0.4</td><td>setosa</td></tr>\n",
       "\t<tr><td>4.6</td><td>3.4</td><td>1.4</td><td>0.3</td><td>setosa</td></tr>\n",
       "\t<tr><td>5.0</td><td>3.4</td><td>1.5</td><td>0.2</td><td>setosa</td></tr>\n",
       "\t<tr><td>4.4</td><td>2.9</td><td>1.4</td><td>0.2</td><td>setosa</td></tr>\n",
       "\t<tr><td>4.9</td><td>3.1</td><td>1.5</td><td>0.1</td><td>setosa</td></tr>\n",
       "\t<tr><td>5.4</td><td>3.7</td><td>1.5</td><td>0.2</td><td>setosa</td></tr>\n",
       "\t<tr><td>4.8</td><td>3.4</td><td>1.6</td><td>0.2</td><td>setosa</td></tr>\n",
       "\t<tr><td>4.8</td><td>3.0</td><td>1.4</td><td>0.1</td><td>setosa</td></tr>\n",
       "\t<tr><td>4.3</td><td>3.0</td><td>1.1</td><td>0.1</td><td>setosa</td></tr>\n",
       "\t<tr><td>5.8</td><td>4.0</td><td>1.2</td><td>0.2</td><td>setosa</td></tr>\n",
       "\t<tr><td>5.7</td><td>4.4</td><td>1.5</td><td>0.4</td><td>setosa</td></tr>\n",
       "\t<tr><td>5.4</td><td>3.9</td><td>1.3</td><td>0.4</td><td>setosa</td></tr>\n",
       "\t<tr><td>5.1</td><td>3.5</td><td>1.4</td><td>0.3</td><td>setosa</td></tr>\n",
       "\t<tr><td>5.7</td><td>3.8</td><td>1.7</td><td>0.3</td><td>setosa</td></tr>\n",
       "\t<tr><td>5.1</td><td>3.8</td><td>1.5</td><td>0.3</td><td>setosa</td></tr>\n",
       "\t<tr><td>5.4</td><td>3.4</td><td>1.7</td><td>0.2</td><td>setosa</td></tr>\n",
       "\t<tr><td>5.1</td><td>3.7</td><td>1.5</td><td>0.4</td><td>setosa</td></tr>\n",
       "\t<tr><td>4.6</td><td>3.6</td><td>1.0</td><td>0.2</td><td>setosa</td></tr>\n",
       "\t<tr><td>5.1</td><td>3.3</td><td>1.7</td><td>0.5</td><td>setosa</td></tr>\n",
       "\t<tr><td>4.8</td><td>3.4</td><td>1.9</td><td>0.2</td><td>setosa</td></tr>\n",
       "\t<tr><td>5.0</td><td>3.0</td><td>1.6</td><td>0.2</td><td>setosa</td></tr>\n",
       "\t<tr><td>5.0</td><td>3.4</td><td>1.6</td><td>0.4</td><td>setosa</td></tr>\n",
       "\t<tr><td>5.2</td><td>3.5</td><td>1.5</td><td>0.2</td><td>setosa</td></tr>\n",
       "\t<tr><td>5.2</td><td>3.4</td><td>1.4</td><td>0.2</td><td>setosa</td></tr>\n",
       "\t<tr><td>4.7</td><td>3.2</td><td>1.6</td><td>0.2</td><td>setosa</td></tr>\n",
       "\t<tr><td>...</td><td>...</td><td>...</td><td>...</td><td>...</td></tr>\n",
       "\t<tr><td>6.9</td><td>3.2</td><td>5.7</td><td>2.3</td><td>virgin</td></tr>\n",
       "\t<tr><td>5.6</td><td>2.8</td><td>4.9</td><td>2.0</td><td>virgin</td></tr>\n",
       "\t<tr><td>7.7</td><td>2.8</td><td>6.7</td><td>2.0</td><td>virgin</td></tr>\n",
       "\t<tr><td>6.3</td><td>2.7</td><td>4.9</td><td>1.8</td><td>virgin</td></tr>\n",
       "\t<tr><td>6.7</td><td>3.3</td><td>5.7</td><td>2.1</td><td>virgin</td></tr>\n",
       "\t<tr><td>7.2</td><td>3.2</td><td>6.0</td><td>1.8</td><td>virgin</td></tr>\n",
       "\t<tr><td>6.2</td><td>2.8</td><td>4.8</td><td>1.8</td><td>virgin</td></tr>\n",
       "\t<tr><td>6.1</td><td>3.0</td><td>4.9</td><td>1.8</td><td>virgin</td></tr>\n",
       "\t<tr><td>6.4</td><td>2.8</td><td>5.6</td><td>2.1</td><td>virgin</td></tr>\n",
       "\t<tr><td>7.2</td><td>3.0</td><td>5.8</td><td>1.6</td><td>virgin</td></tr>\n",
       "\t<tr><td>7.4</td><td>2.8</td><td>6.1</td><td>1.9</td><td>virgin</td></tr>\n",
       "\t<tr><td>7.9</td><td>3.8</td><td>6.4</td><td>2.0</td><td>virgin</td></tr>\n",
       "\t<tr><td>6.4</td><td>2.8</td><td>5.6</td><td>2.2</td><td>virgin</td></tr>\n",
       "\t<tr><td>6.3</td><td>2.8</td><td>5.1</td><td>1.5</td><td>virgin</td></tr>\n",
       "\t<tr><td>6.1</td><td>2.6</td><td>5.6</td><td>1.4</td><td>virgin</td></tr>\n",
       "\t<tr><td>7.7</td><td>3.0</td><td>6.1</td><td>2.3</td><td>virgin</td></tr>\n",
       "\t<tr><td>6.3</td><td>3.4</td><td>5.6</td><td>2.4</td><td>virgin</td></tr>\n",
       "\t<tr><td>6.4</td><td>3.1</td><td>5.5</td><td>1.8</td><td>virgin</td></tr>\n",
       "\t<tr><td>6.0</td><td>3.0</td><td>4.8</td><td>1.8</td><td>virgin</td></tr>\n",
       "\t<tr><td>6.9</td><td>3.1</td><td>5.4</td><td>2.1</td><td>virgin</td></tr>\n",
       "\t<tr><td>6.7</td><td>3.1</td><td>5.6</td><td>2.4</td><td>virgin</td></tr>\n",
       "\t<tr><td>6.9</td><td>3.1</td><td>5.1</td><td>2.3</td><td>virgin</td></tr>\n",
       "\t<tr><td>5.8</td><td>2.7</td><td>5.1</td><td>1.9</td><td>virgin</td></tr>\n",
       "\t<tr><td>6.8</td><td>3.2</td><td>5.9</td><td>2.3</td><td>virgin</td></tr>\n",
       "\t<tr><td>6.7</td><td>3.3</td><td>5.7</td><td>2.5</td><td>virgin</td></tr>\n",
       "\t<tr><td>6.7</td><td>3.0</td><td>5.2</td><td>2.3</td><td>virgin</td></tr>\n",
       "\t<tr><td>6.3</td><td>2.5</td><td>5.0</td><td>1.9</td><td>virgin</td></tr>\n",
       "\t<tr><td>6.5</td><td>3.0</td><td>5.2</td><td>2.0</td><td>virgin</td></tr>\n",
       "\t<tr><td>6.2</td><td>3.4</td><td>5.4</td><td>2.3</td><td>virgin</td></tr>\n",
       "\t<tr><td>5.9</td><td>3.0</td><td>5.1</td><td>1.8</td><td>virgin</td></tr>\n",
       "</tbody>\n",
       "</table>\n"
      ],
      "text/latex": [
       "A tibble: 150 × 5\n",
       "\\begin{tabular}{lllll}\n",
       " Sepal\\_Length & Sepal\\_Width & Petal\\_Length & Petal\\_Width & Species\\\\\n",
       " <dbl> & <dbl> & <dbl> & <dbl> & <chr>\\\\\n",
       "\\hline\n",
       "\t 5.1 & 3.5 & 1.4 & 0.2 & setosa\\\\\n",
       "\t 4.9 & 3.0 & 1.4 & 0.2 & setosa\\\\\n",
       "\t 4.7 & 3.2 & 1.3 & 0.2 & setosa\\\\\n",
       "\t 4.6 & 3.1 & 1.5 & 0.2 & setosa\\\\\n",
       "\t 5.0 & 3.6 & 1.4 & 0.2 & setosa\\\\\n",
       "\t 5.4 & 3.9 & 1.7 & 0.4 & setosa\\\\\n",
       "\t 4.6 & 3.4 & 1.4 & 0.3 & setosa\\\\\n",
       "\t 5.0 & 3.4 & 1.5 & 0.2 & setosa\\\\\n",
       "\t 4.4 & 2.9 & 1.4 & 0.2 & setosa\\\\\n",
       "\t 4.9 & 3.1 & 1.5 & 0.1 & setosa\\\\\n",
       "\t 5.4 & 3.7 & 1.5 & 0.2 & setosa\\\\\n",
       "\t 4.8 & 3.4 & 1.6 & 0.2 & setosa\\\\\n",
       "\t 4.8 & 3.0 & 1.4 & 0.1 & setosa\\\\\n",
       "\t 4.3 & 3.0 & 1.1 & 0.1 & setosa\\\\\n",
       "\t 5.8 & 4.0 & 1.2 & 0.2 & setosa\\\\\n",
       "\t 5.7 & 4.4 & 1.5 & 0.4 & setosa\\\\\n",
       "\t 5.4 & 3.9 & 1.3 & 0.4 & setosa\\\\\n",
       "\t 5.1 & 3.5 & 1.4 & 0.3 & setosa\\\\\n",
       "\t 5.7 & 3.8 & 1.7 & 0.3 & setosa\\\\\n",
       "\t 5.1 & 3.8 & 1.5 & 0.3 & setosa\\\\\n",
       "\t 5.4 & 3.4 & 1.7 & 0.2 & setosa\\\\\n",
       "\t 5.1 & 3.7 & 1.5 & 0.4 & setosa\\\\\n",
       "\t 4.6 & 3.6 & 1.0 & 0.2 & setosa\\\\\n",
       "\t 5.1 & 3.3 & 1.7 & 0.5 & setosa\\\\\n",
       "\t 4.8 & 3.4 & 1.9 & 0.2 & setosa\\\\\n",
       "\t 5.0 & 3.0 & 1.6 & 0.2 & setosa\\\\\n",
       "\t 5.0 & 3.4 & 1.6 & 0.4 & setosa\\\\\n",
       "\t 5.2 & 3.5 & 1.5 & 0.2 & setosa\\\\\n",
       "\t 5.2 & 3.4 & 1.4 & 0.2 & setosa\\\\\n",
       "\t 4.7 & 3.2 & 1.6 & 0.2 & setosa\\\\\n",
       "\t ... & ... & ... & ... & ...\\\\\n",
       "\t 6.9 & 3.2 & 5.7 & 2.3 & virgin\\\\\n",
       "\t 5.6 & 2.8 & 4.9 & 2.0 & virgin\\\\\n",
       "\t 7.7 & 2.8 & 6.7 & 2.0 & virgin\\\\\n",
       "\t 6.3 & 2.7 & 4.9 & 1.8 & virgin\\\\\n",
       "\t 6.7 & 3.3 & 5.7 & 2.1 & virgin\\\\\n",
       "\t 7.2 & 3.2 & 6.0 & 1.8 & virgin\\\\\n",
       "\t 6.2 & 2.8 & 4.8 & 1.8 & virgin\\\\\n",
       "\t 6.1 & 3.0 & 4.9 & 1.8 & virgin\\\\\n",
       "\t 6.4 & 2.8 & 5.6 & 2.1 & virgin\\\\\n",
       "\t 7.2 & 3.0 & 5.8 & 1.6 & virgin\\\\\n",
       "\t 7.4 & 2.8 & 6.1 & 1.9 & virgin\\\\\n",
       "\t 7.9 & 3.8 & 6.4 & 2.0 & virgin\\\\\n",
       "\t 6.4 & 2.8 & 5.6 & 2.2 & virgin\\\\\n",
       "\t 6.3 & 2.8 & 5.1 & 1.5 & virgin\\\\\n",
       "\t 6.1 & 2.6 & 5.6 & 1.4 & virgin\\\\\n",
       "\t 7.7 & 3.0 & 6.1 & 2.3 & virgin\\\\\n",
       "\t 6.3 & 3.4 & 5.6 & 2.4 & virgin\\\\\n",
       "\t 6.4 & 3.1 & 5.5 & 1.8 & virgin\\\\\n",
       "\t 6.0 & 3.0 & 4.8 & 1.8 & virgin\\\\\n",
       "\t 6.9 & 3.1 & 5.4 & 2.1 & virgin\\\\\n",
       "\t 6.7 & 3.1 & 5.6 & 2.4 & virgin\\\\\n",
       "\t 6.9 & 3.1 & 5.1 & 2.3 & virgin\\\\\n",
       "\t 5.8 & 2.7 & 5.1 & 1.9 & virgin\\\\\n",
       "\t 6.8 & 3.2 & 5.9 & 2.3 & virgin\\\\\n",
       "\t 6.7 & 3.3 & 5.7 & 2.5 & virgin\\\\\n",
       "\t 6.7 & 3.0 & 5.2 & 2.3 & virgin\\\\\n",
       "\t 6.3 & 2.5 & 5.0 & 1.9 & virgin\\\\\n",
       "\t 6.5 & 3.0 & 5.2 & 2.0 & virgin\\\\\n",
       "\t 6.2 & 3.4 & 5.4 & 2.3 & virgin\\\\\n",
       "\t 5.9 & 3.0 & 5.1 & 1.8 & virgin\\\\\n",
       "\\end{tabular}\n"
      ],
      "text/markdown": [
       "\n",
       "A tibble: 150 × 5\n",
       "\n",
       "| Sepal_Length &lt;dbl&gt; | Sepal_Width &lt;dbl&gt; | Petal_Length &lt;dbl&gt; | Petal_Width &lt;dbl&gt; | Species &lt;chr&gt; |\n",
       "|---|---|---|---|---|\n",
       "| 5.1 | 3.5 | 1.4 | 0.2 | setosa |\n",
       "| 4.9 | 3.0 | 1.4 | 0.2 | setosa |\n",
       "| 4.7 | 3.2 | 1.3 | 0.2 | setosa |\n",
       "| 4.6 | 3.1 | 1.5 | 0.2 | setosa |\n",
       "| 5.0 | 3.6 | 1.4 | 0.2 | setosa |\n",
       "| 5.4 | 3.9 | 1.7 | 0.4 | setosa |\n",
       "| 4.6 | 3.4 | 1.4 | 0.3 | setosa |\n",
       "| 5.0 | 3.4 | 1.5 | 0.2 | setosa |\n",
       "| 4.4 | 2.9 | 1.4 | 0.2 | setosa |\n",
       "| 4.9 | 3.1 | 1.5 | 0.1 | setosa |\n",
       "| 5.4 | 3.7 | 1.5 | 0.2 | setosa |\n",
       "| 4.8 | 3.4 | 1.6 | 0.2 | setosa |\n",
       "| 4.8 | 3.0 | 1.4 | 0.1 | setosa |\n",
       "| 4.3 | 3.0 | 1.1 | 0.1 | setosa |\n",
       "| 5.8 | 4.0 | 1.2 | 0.2 | setosa |\n",
       "| 5.7 | 4.4 | 1.5 | 0.4 | setosa |\n",
       "| 5.4 | 3.9 | 1.3 | 0.4 | setosa |\n",
       "| 5.1 | 3.5 | 1.4 | 0.3 | setosa |\n",
       "| 5.7 | 3.8 | 1.7 | 0.3 | setosa |\n",
       "| 5.1 | 3.8 | 1.5 | 0.3 | setosa |\n",
       "| 5.4 | 3.4 | 1.7 | 0.2 | setosa |\n",
       "| 5.1 | 3.7 | 1.5 | 0.4 | setosa |\n",
       "| 4.6 | 3.6 | 1.0 | 0.2 | setosa |\n",
       "| 5.1 | 3.3 | 1.7 | 0.5 | setosa |\n",
       "| 4.8 | 3.4 | 1.9 | 0.2 | setosa |\n",
       "| 5.0 | 3.0 | 1.6 | 0.2 | setosa |\n",
       "| 5.0 | 3.4 | 1.6 | 0.4 | setosa |\n",
       "| 5.2 | 3.5 | 1.5 | 0.2 | setosa |\n",
       "| 5.2 | 3.4 | 1.4 | 0.2 | setosa |\n",
       "| 4.7 | 3.2 | 1.6 | 0.2 | setosa |\n",
       "| ... | ... | ... | ... | ... |\n",
       "| 6.9 | 3.2 | 5.7 | 2.3 | virgin |\n",
       "| 5.6 | 2.8 | 4.9 | 2.0 | virgin |\n",
       "| 7.7 | 2.8 | 6.7 | 2.0 | virgin |\n",
       "| 6.3 | 2.7 | 4.9 | 1.8 | virgin |\n",
       "| 6.7 | 3.3 | 5.7 | 2.1 | virgin |\n",
       "| 7.2 | 3.2 | 6.0 | 1.8 | virgin |\n",
       "| 6.2 | 2.8 | 4.8 | 1.8 | virgin |\n",
       "| 6.1 | 3.0 | 4.9 | 1.8 | virgin |\n",
       "| 6.4 | 2.8 | 5.6 | 2.1 | virgin |\n",
       "| 7.2 | 3.0 | 5.8 | 1.6 | virgin |\n",
       "| 7.4 | 2.8 | 6.1 | 1.9 | virgin |\n",
       "| 7.9 | 3.8 | 6.4 | 2.0 | virgin |\n",
       "| 6.4 | 2.8 | 5.6 | 2.2 | virgin |\n",
       "| 6.3 | 2.8 | 5.1 | 1.5 | virgin |\n",
       "| 6.1 | 2.6 | 5.6 | 1.4 | virgin |\n",
       "| 7.7 | 3.0 | 6.1 | 2.3 | virgin |\n",
       "| 6.3 | 3.4 | 5.6 | 2.4 | virgin |\n",
       "| 6.4 | 3.1 | 5.5 | 1.8 | virgin |\n",
       "| 6.0 | 3.0 | 4.8 | 1.8 | virgin |\n",
       "| 6.9 | 3.1 | 5.4 | 2.1 | virgin |\n",
       "| 6.7 | 3.1 | 5.6 | 2.4 | virgin |\n",
       "| 6.9 | 3.1 | 5.1 | 2.3 | virgin |\n",
       "| 5.8 | 2.7 | 5.1 | 1.9 | virgin |\n",
       "| 6.8 | 3.2 | 5.9 | 2.3 | virgin |\n",
       "| 6.7 | 3.3 | 5.7 | 2.5 | virgin |\n",
       "| 6.7 | 3.0 | 5.2 | 2.3 | virgin |\n",
       "| 6.3 | 2.5 | 5.0 | 1.9 | virgin |\n",
       "| 6.5 | 3.0 | 5.2 | 2.0 | virgin |\n",
       "| 6.2 | 3.4 | 5.4 | 2.3 | virgin |\n",
       "| 5.9 | 3.0 | 5.1 | 1.8 | virgin |\n",
       "\n"
      ],
      "text/plain": [
       "    Sepal_Length Sepal_Width Petal_Length Petal_Width Species\n",
       "1   5.1          3.5         1.4          0.2         setosa \n",
       "2   4.9          3.0         1.4          0.2         setosa \n",
       "3   4.7          3.2         1.3          0.2         setosa \n",
       "4   4.6          3.1         1.5          0.2         setosa \n",
       "5   5.0          3.6         1.4          0.2         setosa \n",
       "6   5.4          3.9         1.7          0.4         setosa \n",
       "7   4.6          3.4         1.4          0.3         setosa \n",
       "8   5.0          3.4         1.5          0.2         setosa \n",
       "9   4.4          2.9         1.4          0.2         setosa \n",
       "10  4.9          3.1         1.5          0.1         setosa \n",
       "11  5.4          3.7         1.5          0.2         setosa \n",
       "12  4.8          3.4         1.6          0.2         setosa \n",
       "13  4.8          3.0         1.4          0.1         setosa \n",
       "14  4.3          3.0         1.1          0.1         setosa \n",
       "15  5.8          4.0         1.2          0.2         setosa \n",
       "16  5.7          4.4         1.5          0.4         setosa \n",
       "17  5.4          3.9         1.3          0.4         setosa \n",
       "18  5.1          3.5         1.4          0.3         setosa \n",
       "19  5.7          3.8         1.7          0.3         setosa \n",
       "20  5.1          3.8         1.5          0.3         setosa \n",
       "21  5.4          3.4         1.7          0.2         setosa \n",
       "22  5.1          3.7         1.5          0.4         setosa \n",
       "23  4.6          3.6         1.0          0.2         setosa \n",
       "24  5.1          3.3         1.7          0.5         setosa \n",
       "25  4.8          3.4         1.9          0.2         setosa \n",
       "26  5.0          3.0         1.6          0.2         setosa \n",
       "27  5.0          3.4         1.6          0.4         setosa \n",
       "28  5.2          3.5         1.5          0.2         setosa \n",
       "29  5.2          3.4         1.4          0.2         setosa \n",
       "30  4.7          3.2         1.6          0.2         setosa \n",
       "... ...          ...         ...          ...         ...    \n",
       "121 6.9          3.2         5.7          2.3         virgin \n",
       "122 5.6          2.8         4.9          2.0         virgin \n",
       "123 7.7          2.8         6.7          2.0         virgin \n",
       "124 6.3          2.7         4.9          1.8         virgin \n",
       "125 6.7          3.3         5.7          2.1         virgin \n",
       "126 7.2          3.2         6.0          1.8         virgin \n",
       "127 6.2          2.8         4.8          1.8         virgin \n",
       "128 6.1          3.0         4.9          1.8         virgin \n",
       "129 6.4          2.8         5.6          2.1         virgin \n",
       "130 7.2          3.0         5.8          1.6         virgin \n",
       "131 7.4          2.8         6.1          1.9         virgin \n",
       "132 7.9          3.8         6.4          2.0         virgin \n",
       "133 6.4          2.8         5.6          2.2         virgin \n",
       "134 6.3          2.8         5.1          1.5         virgin \n",
       "135 6.1          2.6         5.6          1.4         virgin \n",
       "136 7.7          3.0         6.1          2.3         virgin \n",
       "137 6.3          3.4         5.6          2.4         virgin \n",
       "138 6.4          3.1         5.5          1.8         virgin \n",
       "139 6.0          3.0         4.8          1.8         virgin \n",
       "140 6.9          3.1         5.4          2.1         virgin \n",
       "141 6.7          3.1         5.6          2.4         virgin \n",
       "142 6.9          3.1         5.1          2.3         virgin \n",
       "143 5.8          2.7         5.1          1.9         virgin \n",
       "144 6.8          3.2         5.9          2.3         virgin \n",
       "145 6.7          3.3         5.7          2.5         virgin \n",
       "146 6.7          3.0         5.2          2.3         virgin \n",
       "147 6.3          2.5         5.0          1.9         virgin \n",
       "148 6.5          3.0         5.2          2.0         virgin \n",
       "149 6.2          3.4         5.4          2.3         virgin \n",
       "150 5.9          3.0         5.1          1.8         virgin "
      ]
     },
     "metadata": {},
     "output_type": "display_data"
    }
   ],
   "source": [
    "# 读取SAS数据\n",
    "#install.packages(\"haven\")\n",
    "library(haven)\n",
    "path <- system.file(\"examples\", \"iris.sas7bdat\", package = \"haven\")\n",
    "path\n",
    "\n",
    "read_sas(path)"
   ]
  },
  {
   "cell_type": "code",
   "execution_count": 37,
   "metadata": {
    "ExecuteTime": {
     "end_time": "2022-01-07T13:29:31.278274Z",
     "start_time": "2022-01-07T13:29:31.198Z"
    },
    "scrolled": true
   },
   "outputs": [
    {
     "data": {
      "text/html": [
       "'D:/Program Files/R/R-4.1.1/R-4.1.1/library/haven/examples/iris.sav'"
      ],
      "text/latex": [
       "'D:/Program Files/R/R-4.1.1/R-4.1.1/library/haven/examples/iris.sav'"
      ],
      "text/markdown": [
       "'D:/Program Files/R/R-4.1.1/R-4.1.1/library/haven/examples/iris.sav'"
      ],
      "text/plain": [
       "[1] \"D:/Program Files/R/R-4.1.1/R-4.1.1/library/haven/examples/iris.sav\""
      ]
     },
     "metadata": {},
     "output_type": "display_data"
    },
    {
     "data": {
      "text/html": [
       "<table class=\"dataframe\">\n",
       "<caption>A tibble: 150 × 5</caption>\n",
       "<thead>\n",
       "\t<tr><th scope=col>Sepal.Length</th><th scope=col>Sepal.Width</th><th scope=col>Petal.Length</th><th scope=col>Petal.Width</th><th scope=col>Species</th></tr>\n",
       "\t<tr><th scope=col>&lt;dbl&gt;</th><th scope=col>&lt;dbl&gt;</th><th scope=col>&lt;dbl&gt;</th><th scope=col>&lt;dbl&gt;</th><th scope=col>&lt;dbl+lbl&gt;</th></tr>\n",
       "</thead>\n",
       "<tbody>\n",
       "\t<tr><td>5.1</td><td>3.5</td><td>1.4</td><td>0.2</td><td>1</td></tr>\n",
       "\t<tr><td>4.9</td><td>3.0</td><td>1.4</td><td>0.2</td><td>1</td></tr>\n",
       "\t<tr><td>4.7</td><td>3.2</td><td>1.3</td><td>0.2</td><td>1</td></tr>\n",
       "\t<tr><td>4.6</td><td>3.1</td><td>1.5</td><td>0.2</td><td>1</td></tr>\n",
       "\t<tr><td>5.0</td><td>3.6</td><td>1.4</td><td>0.2</td><td>1</td></tr>\n",
       "\t<tr><td>5.4</td><td>3.9</td><td>1.7</td><td>0.4</td><td>1</td></tr>\n",
       "\t<tr><td>4.6</td><td>3.4</td><td>1.4</td><td>0.3</td><td>1</td></tr>\n",
       "\t<tr><td>5.0</td><td>3.4</td><td>1.5</td><td>0.2</td><td>1</td></tr>\n",
       "\t<tr><td>4.4</td><td>2.9</td><td>1.4</td><td>0.2</td><td>1</td></tr>\n",
       "\t<tr><td>4.9</td><td>3.1</td><td>1.5</td><td>0.1</td><td>1</td></tr>\n",
       "\t<tr><td>5.4</td><td>3.7</td><td>1.5</td><td>0.2</td><td>1</td></tr>\n",
       "\t<tr><td>4.8</td><td>3.4</td><td>1.6</td><td>0.2</td><td>1</td></tr>\n",
       "\t<tr><td>4.8</td><td>3.0</td><td>1.4</td><td>0.1</td><td>1</td></tr>\n",
       "\t<tr><td>4.3</td><td>3.0</td><td>1.1</td><td>0.1</td><td>1</td></tr>\n",
       "\t<tr><td>5.8</td><td>4.0</td><td>1.2</td><td>0.2</td><td>1</td></tr>\n",
       "\t<tr><td>5.7</td><td>4.4</td><td>1.5</td><td>0.4</td><td>1</td></tr>\n",
       "\t<tr><td>5.4</td><td>3.9</td><td>1.3</td><td>0.4</td><td>1</td></tr>\n",
       "\t<tr><td>5.1</td><td>3.5</td><td>1.4</td><td>0.3</td><td>1</td></tr>\n",
       "\t<tr><td>5.7</td><td>3.8</td><td>1.7</td><td>0.3</td><td>1</td></tr>\n",
       "\t<tr><td>5.1</td><td>3.8</td><td>1.5</td><td>0.3</td><td>1</td></tr>\n",
       "\t<tr><td>5.4</td><td>3.4</td><td>1.7</td><td>0.2</td><td>1</td></tr>\n",
       "\t<tr><td>5.1</td><td>3.7</td><td>1.5</td><td>0.4</td><td>1</td></tr>\n",
       "\t<tr><td>4.6</td><td>3.6</td><td>1.0</td><td>0.2</td><td>1</td></tr>\n",
       "\t<tr><td>5.1</td><td>3.3</td><td>1.7</td><td>0.5</td><td>1</td></tr>\n",
       "\t<tr><td>4.8</td><td>3.4</td><td>1.9</td><td>0.2</td><td>1</td></tr>\n",
       "\t<tr><td>5.0</td><td>3.0</td><td>1.6</td><td>0.2</td><td>1</td></tr>\n",
       "\t<tr><td>5.0</td><td>3.4</td><td>1.6</td><td>0.4</td><td>1</td></tr>\n",
       "\t<tr><td>5.2</td><td>3.5</td><td>1.5</td><td>0.2</td><td>1</td></tr>\n",
       "\t<tr><td>5.2</td><td>3.4</td><td>1.4</td><td>0.2</td><td>1</td></tr>\n",
       "\t<tr><td>4.7</td><td>3.2</td><td>1.6</td><td>0.2</td><td>1</td></tr>\n",
       "\t<tr><td>...</td><td>...</td><td>...</td><td>...</td><td>...</td></tr>\n",
       "\t<tr><td>6.9</td><td>3.2</td><td>5.7</td><td>2.3</td><td>3</td></tr>\n",
       "\t<tr><td>5.6</td><td>2.8</td><td>4.9</td><td>2.0</td><td>3</td></tr>\n",
       "\t<tr><td>7.7</td><td>2.8</td><td>6.7</td><td>2.0</td><td>3</td></tr>\n",
       "\t<tr><td>6.3</td><td>2.7</td><td>4.9</td><td>1.8</td><td>3</td></tr>\n",
       "\t<tr><td>6.7</td><td>3.3</td><td>5.7</td><td>2.1</td><td>3</td></tr>\n",
       "\t<tr><td>7.2</td><td>3.2</td><td>6.0</td><td>1.8</td><td>3</td></tr>\n",
       "\t<tr><td>6.2</td><td>2.8</td><td>4.8</td><td>1.8</td><td>3</td></tr>\n",
       "\t<tr><td>6.1</td><td>3.0</td><td>4.9</td><td>1.8</td><td>3</td></tr>\n",
       "\t<tr><td>6.4</td><td>2.8</td><td>5.6</td><td>2.1</td><td>3</td></tr>\n",
       "\t<tr><td>7.2</td><td>3.0</td><td>5.8</td><td>1.6</td><td>3</td></tr>\n",
       "\t<tr><td>7.4</td><td>2.8</td><td>6.1</td><td>1.9</td><td>3</td></tr>\n",
       "\t<tr><td>7.9</td><td>3.8</td><td>6.4</td><td>2.0</td><td>3</td></tr>\n",
       "\t<tr><td>6.4</td><td>2.8</td><td>5.6</td><td>2.2</td><td>3</td></tr>\n",
       "\t<tr><td>6.3</td><td>2.8</td><td>5.1</td><td>1.5</td><td>3</td></tr>\n",
       "\t<tr><td>6.1</td><td>2.6</td><td>5.6</td><td>1.4</td><td>3</td></tr>\n",
       "\t<tr><td>7.7</td><td>3.0</td><td>6.1</td><td>2.3</td><td>3</td></tr>\n",
       "\t<tr><td>6.3</td><td>3.4</td><td>5.6</td><td>2.4</td><td>3</td></tr>\n",
       "\t<tr><td>6.4</td><td>3.1</td><td>5.5</td><td>1.8</td><td>3</td></tr>\n",
       "\t<tr><td>6.0</td><td>3.0</td><td>4.8</td><td>1.8</td><td>3</td></tr>\n",
       "\t<tr><td>6.9</td><td>3.1</td><td>5.4</td><td>2.1</td><td>3</td></tr>\n",
       "\t<tr><td>6.7</td><td>3.1</td><td>5.6</td><td>2.4</td><td>3</td></tr>\n",
       "\t<tr><td>6.9</td><td>3.1</td><td>5.1</td><td>2.3</td><td>3</td></tr>\n",
       "\t<tr><td>5.8</td><td>2.7</td><td>5.1</td><td>1.9</td><td>3</td></tr>\n",
       "\t<tr><td>6.8</td><td>3.2</td><td>5.9</td><td>2.3</td><td>3</td></tr>\n",
       "\t<tr><td>6.7</td><td>3.3</td><td>5.7</td><td>2.5</td><td>3</td></tr>\n",
       "\t<tr><td>6.7</td><td>3.0</td><td>5.2</td><td>2.3</td><td>3</td></tr>\n",
       "\t<tr><td>6.3</td><td>2.5</td><td>5.0</td><td>1.9</td><td>3</td></tr>\n",
       "\t<tr><td>6.5</td><td>3.0</td><td>5.2</td><td>2.0</td><td>3</td></tr>\n",
       "\t<tr><td>6.2</td><td>3.4</td><td>5.4</td><td>2.3</td><td>3</td></tr>\n",
       "\t<tr><td>5.9</td><td>3.0</td><td>5.1</td><td>1.8</td><td>3</td></tr>\n",
       "</tbody>\n",
       "</table>\n"
      ],
      "text/latex": [
       "A tibble: 150 × 5\n",
       "\\begin{tabular}{lllll}\n",
       " Sepal.Length & Sepal.Width & Petal.Length & Petal.Width & Species\\\\\n",
       " <dbl> & <dbl> & <dbl> & <dbl> & <dbl+lbl>\\\\\n",
       "\\hline\n",
       "\t 5.1 & 3.5 & 1.4 & 0.2 & 1\\\\\n",
       "\t 4.9 & 3.0 & 1.4 & 0.2 & 1\\\\\n",
       "\t 4.7 & 3.2 & 1.3 & 0.2 & 1\\\\\n",
       "\t 4.6 & 3.1 & 1.5 & 0.2 & 1\\\\\n",
       "\t 5.0 & 3.6 & 1.4 & 0.2 & 1\\\\\n",
       "\t 5.4 & 3.9 & 1.7 & 0.4 & 1\\\\\n",
       "\t 4.6 & 3.4 & 1.4 & 0.3 & 1\\\\\n",
       "\t 5.0 & 3.4 & 1.5 & 0.2 & 1\\\\\n",
       "\t 4.4 & 2.9 & 1.4 & 0.2 & 1\\\\\n",
       "\t 4.9 & 3.1 & 1.5 & 0.1 & 1\\\\\n",
       "\t 5.4 & 3.7 & 1.5 & 0.2 & 1\\\\\n",
       "\t 4.8 & 3.4 & 1.6 & 0.2 & 1\\\\\n",
       "\t 4.8 & 3.0 & 1.4 & 0.1 & 1\\\\\n",
       "\t 4.3 & 3.0 & 1.1 & 0.1 & 1\\\\\n",
       "\t 5.8 & 4.0 & 1.2 & 0.2 & 1\\\\\n",
       "\t 5.7 & 4.4 & 1.5 & 0.4 & 1\\\\\n",
       "\t 5.4 & 3.9 & 1.3 & 0.4 & 1\\\\\n",
       "\t 5.1 & 3.5 & 1.4 & 0.3 & 1\\\\\n",
       "\t 5.7 & 3.8 & 1.7 & 0.3 & 1\\\\\n",
       "\t 5.1 & 3.8 & 1.5 & 0.3 & 1\\\\\n",
       "\t 5.4 & 3.4 & 1.7 & 0.2 & 1\\\\\n",
       "\t 5.1 & 3.7 & 1.5 & 0.4 & 1\\\\\n",
       "\t 4.6 & 3.6 & 1.0 & 0.2 & 1\\\\\n",
       "\t 5.1 & 3.3 & 1.7 & 0.5 & 1\\\\\n",
       "\t 4.8 & 3.4 & 1.9 & 0.2 & 1\\\\\n",
       "\t 5.0 & 3.0 & 1.6 & 0.2 & 1\\\\\n",
       "\t 5.0 & 3.4 & 1.6 & 0.4 & 1\\\\\n",
       "\t 5.2 & 3.5 & 1.5 & 0.2 & 1\\\\\n",
       "\t 5.2 & 3.4 & 1.4 & 0.2 & 1\\\\\n",
       "\t 4.7 & 3.2 & 1.6 & 0.2 & 1\\\\\n",
       "\t ... & ... & ... & ... & ...\\\\\n",
       "\t 6.9 & 3.2 & 5.7 & 2.3 & 3\\\\\n",
       "\t 5.6 & 2.8 & 4.9 & 2.0 & 3\\\\\n",
       "\t 7.7 & 2.8 & 6.7 & 2.0 & 3\\\\\n",
       "\t 6.3 & 2.7 & 4.9 & 1.8 & 3\\\\\n",
       "\t 6.7 & 3.3 & 5.7 & 2.1 & 3\\\\\n",
       "\t 7.2 & 3.2 & 6.0 & 1.8 & 3\\\\\n",
       "\t 6.2 & 2.8 & 4.8 & 1.8 & 3\\\\\n",
       "\t 6.1 & 3.0 & 4.9 & 1.8 & 3\\\\\n",
       "\t 6.4 & 2.8 & 5.6 & 2.1 & 3\\\\\n",
       "\t 7.2 & 3.0 & 5.8 & 1.6 & 3\\\\\n",
       "\t 7.4 & 2.8 & 6.1 & 1.9 & 3\\\\\n",
       "\t 7.9 & 3.8 & 6.4 & 2.0 & 3\\\\\n",
       "\t 6.4 & 2.8 & 5.6 & 2.2 & 3\\\\\n",
       "\t 6.3 & 2.8 & 5.1 & 1.5 & 3\\\\\n",
       "\t 6.1 & 2.6 & 5.6 & 1.4 & 3\\\\\n",
       "\t 7.7 & 3.0 & 6.1 & 2.3 & 3\\\\\n",
       "\t 6.3 & 3.4 & 5.6 & 2.4 & 3\\\\\n",
       "\t 6.4 & 3.1 & 5.5 & 1.8 & 3\\\\\n",
       "\t 6.0 & 3.0 & 4.8 & 1.8 & 3\\\\\n",
       "\t 6.9 & 3.1 & 5.4 & 2.1 & 3\\\\\n",
       "\t 6.7 & 3.1 & 5.6 & 2.4 & 3\\\\\n",
       "\t 6.9 & 3.1 & 5.1 & 2.3 & 3\\\\\n",
       "\t 5.8 & 2.7 & 5.1 & 1.9 & 3\\\\\n",
       "\t 6.8 & 3.2 & 5.9 & 2.3 & 3\\\\\n",
       "\t 6.7 & 3.3 & 5.7 & 2.5 & 3\\\\\n",
       "\t 6.7 & 3.0 & 5.2 & 2.3 & 3\\\\\n",
       "\t 6.3 & 2.5 & 5.0 & 1.9 & 3\\\\\n",
       "\t 6.5 & 3.0 & 5.2 & 2.0 & 3\\\\\n",
       "\t 6.2 & 3.4 & 5.4 & 2.3 & 3\\\\\n",
       "\t 5.9 & 3.0 & 5.1 & 1.8 & 3\\\\\n",
       "\\end{tabular}\n"
      ],
      "text/markdown": [
       "\n",
       "A tibble: 150 × 5\n",
       "\n",
       "| Sepal.Length &lt;dbl&gt; | Sepal.Width &lt;dbl&gt; | Petal.Length &lt;dbl&gt; | Petal.Width &lt;dbl&gt; | Species &lt;dbl+lbl&gt; |\n",
       "|---|---|---|---|---|\n",
       "| 5.1 | 3.5 | 1.4 | 0.2 | 1 |\n",
       "| 4.9 | 3.0 | 1.4 | 0.2 | 1 |\n",
       "| 4.7 | 3.2 | 1.3 | 0.2 | 1 |\n",
       "| 4.6 | 3.1 | 1.5 | 0.2 | 1 |\n",
       "| 5.0 | 3.6 | 1.4 | 0.2 | 1 |\n",
       "| 5.4 | 3.9 | 1.7 | 0.4 | 1 |\n",
       "| 4.6 | 3.4 | 1.4 | 0.3 | 1 |\n",
       "| 5.0 | 3.4 | 1.5 | 0.2 | 1 |\n",
       "| 4.4 | 2.9 | 1.4 | 0.2 | 1 |\n",
       "| 4.9 | 3.1 | 1.5 | 0.1 | 1 |\n",
       "| 5.4 | 3.7 | 1.5 | 0.2 | 1 |\n",
       "| 4.8 | 3.4 | 1.6 | 0.2 | 1 |\n",
       "| 4.8 | 3.0 | 1.4 | 0.1 | 1 |\n",
       "| 4.3 | 3.0 | 1.1 | 0.1 | 1 |\n",
       "| 5.8 | 4.0 | 1.2 | 0.2 | 1 |\n",
       "| 5.7 | 4.4 | 1.5 | 0.4 | 1 |\n",
       "| 5.4 | 3.9 | 1.3 | 0.4 | 1 |\n",
       "| 5.1 | 3.5 | 1.4 | 0.3 | 1 |\n",
       "| 5.7 | 3.8 | 1.7 | 0.3 | 1 |\n",
       "| 5.1 | 3.8 | 1.5 | 0.3 | 1 |\n",
       "| 5.4 | 3.4 | 1.7 | 0.2 | 1 |\n",
       "| 5.1 | 3.7 | 1.5 | 0.4 | 1 |\n",
       "| 4.6 | 3.6 | 1.0 | 0.2 | 1 |\n",
       "| 5.1 | 3.3 | 1.7 | 0.5 | 1 |\n",
       "| 4.8 | 3.4 | 1.9 | 0.2 | 1 |\n",
       "| 5.0 | 3.0 | 1.6 | 0.2 | 1 |\n",
       "| 5.0 | 3.4 | 1.6 | 0.4 | 1 |\n",
       "| 5.2 | 3.5 | 1.5 | 0.2 | 1 |\n",
       "| 5.2 | 3.4 | 1.4 | 0.2 | 1 |\n",
       "| 4.7 | 3.2 | 1.6 | 0.2 | 1 |\n",
       "| ... | ... | ... | ... | ... |\n",
       "| 6.9 | 3.2 | 5.7 | 2.3 | 3 |\n",
       "| 5.6 | 2.8 | 4.9 | 2.0 | 3 |\n",
       "| 7.7 | 2.8 | 6.7 | 2.0 | 3 |\n",
       "| 6.3 | 2.7 | 4.9 | 1.8 | 3 |\n",
       "| 6.7 | 3.3 | 5.7 | 2.1 | 3 |\n",
       "| 7.2 | 3.2 | 6.0 | 1.8 | 3 |\n",
       "| 6.2 | 2.8 | 4.8 | 1.8 | 3 |\n",
       "| 6.1 | 3.0 | 4.9 | 1.8 | 3 |\n",
       "| 6.4 | 2.8 | 5.6 | 2.1 | 3 |\n",
       "| 7.2 | 3.0 | 5.8 | 1.6 | 3 |\n",
       "| 7.4 | 2.8 | 6.1 | 1.9 | 3 |\n",
       "| 7.9 | 3.8 | 6.4 | 2.0 | 3 |\n",
       "| 6.4 | 2.8 | 5.6 | 2.2 | 3 |\n",
       "| 6.3 | 2.8 | 5.1 | 1.5 | 3 |\n",
       "| 6.1 | 2.6 | 5.6 | 1.4 | 3 |\n",
       "| 7.7 | 3.0 | 6.1 | 2.3 | 3 |\n",
       "| 6.3 | 3.4 | 5.6 | 2.4 | 3 |\n",
       "| 6.4 | 3.1 | 5.5 | 1.8 | 3 |\n",
       "| 6.0 | 3.0 | 4.8 | 1.8 | 3 |\n",
       "| 6.9 | 3.1 | 5.4 | 2.1 | 3 |\n",
       "| 6.7 | 3.1 | 5.6 | 2.4 | 3 |\n",
       "| 6.9 | 3.1 | 5.1 | 2.3 | 3 |\n",
       "| 5.8 | 2.7 | 5.1 | 1.9 | 3 |\n",
       "| 6.8 | 3.2 | 5.9 | 2.3 | 3 |\n",
       "| 6.7 | 3.3 | 5.7 | 2.5 | 3 |\n",
       "| 6.7 | 3.0 | 5.2 | 2.3 | 3 |\n",
       "| 6.3 | 2.5 | 5.0 | 1.9 | 3 |\n",
       "| 6.5 | 3.0 | 5.2 | 2.0 | 3 |\n",
       "| 6.2 | 3.4 | 5.4 | 2.3 | 3 |\n",
       "| 5.9 | 3.0 | 5.1 | 1.8 | 3 |\n",
       "\n"
      ],
      "text/plain": [
       "    Sepal.Length Sepal.Width Petal.Length Petal.Width Species\n",
       "1   5.1          3.5         1.4          0.2         1      \n",
       "2   4.9          3.0         1.4          0.2         1      \n",
       "3   4.7          3.2         1.3          0.2         1      \n",
       "4   4.6          3.1         1.5          0.2         1      \n",
       "5   5.0          3.6         1.4          0.2         1      \n",
       "6   5.4          3.9         1.7          0.4         1      \n",
       "7   4.6          3.4         1.4          0.3         1      \n",
       "8   5.0          3.4         1.5          0.2         1      \n",
       "9   4.4          2.9         1.4          0.2         1      \n",
       "10  4.9          3.1         1.5          0.1         1      \n",
       "11  5.4          3.7         1.5          0.2         1      \n",
       "12  4.8          3.4         1.6          0.2         1      \n",
       "13  4.8          3.0         1.4          0.1         1      \n",
       "14  4.3          3.0         1.1          0.1         1      \n",
       "15  5.8          4.0         1.2          0.2         1      \n",
       "16  5.7          4.4         1.5          0.4         1      \n",
       "17  5.4          3.9         1.3          0.4         1      \n",
       "18  5.1          3.5         1.4          0.3         1      \n",
       "19  5.7          3.8         1.7          0.3         1      \n",
       "20  5.1          3.8         1.5          0.3         1      \n",
       "21  5.4          3.4         1.7          0.2         1      \n",
       "22  5.1          3.7         1.5          0.4         1      \n",
       "23  4.6          3.6         1.0          0.2         1      \n",
       "24  5.1          3.3         1.7          0.5         1      \n",
       "25  4.8          3.4         1.9          0.2         1      \n",
       "26  5.0          3.0         1.6          0.2         1      \n",
       "27  5.0          3.4         1.6          0.4         1      \n",
       "28  5.2          3.5         1.5          0.2         1      \n",
       "29  5.2          3.4         1.4          0.2         1      \n",
       "30  4.7          3.2         1.6          0.2         1      \n",
       "... ...          ...         ...          ...         ...    \n",
       "121 6.9          3.2         5.7          2.3         3      \n",
       "122 5.6          2.8         4.9          2.0         3      \n",
       "123 7.7          2.8         6.7          2.0         3      \n",
       "124 6.3          2.7         4.9          1.8         3      \n",
       "125 6.7          3.3         5.7          2.1         3      \n",
       "126 7.2          3.2         6.0          1.8         3      \n",
       "127 6.2          2.8         4.8          1.8         3      \n",
       "128 6.1          3.0         4.9          1.8         3      \n",
       "129 6.4          2.8         5.6          2.1         3      \n",
       "130 7.2          3.0         5.8          1.6         3      \n",
       "131 7.4          2.8         6.1          1.9         3      \n",
       "132 7.9          3.8         6.4          2.0         3      \n",
       "133 6.4          2.8         5.6          2.2         3      \n",
       "134 6.3          2.8         5.1          1.5         3      \n",
       "135 6.1          2.6         5.6          1.4         3      \n",
       "136 7.7          3.0         6.1          2.3         3      \n",
       "137 6.3          3.4         5.6          2.4         3      \n",
       "138 6.4          3.1         5.5          1.8         3      \n",
       "139 6.0          3.0         4.8          1.8         3      \n",
       "140 6.9          3.1         5.4          2.1         3      \n",
       "141 6.7          3.1         5.6          2.4         3      \n",
       "142 6.9          3.1         5.1          2.3         3      \n",
       "143 5.8          2.7         5.1          1.9         3      \n",
       "144 6.8          3.2         5.9          2.3         3      \n",
       "145 6.7          3.3         5.7          2.5         3      \n",
       "146 6.7          3.0         5.2          2.3         3      \n",
       "147 6.3          2.5         5.0          1.9         3      \n",
       "148 6.5          3.0         5.2          2.0         3      \n",
       "149 6.2          3.4         5.4          2.3         3      \n",
       "150 5.9          3.0         5.1          1.8         3      "
      ]
     },
     "metadata": {},
     "output_type": "display_data"
    }
   ],
   "source": [
    "# 读取SPSS 数据\n",
    "path <- system.file(\"examples\", \"iris.sav\", package = \"haven\")\n",
    "path\n",
    "\n",
    "read_sav(path)"
   ]
  },
  {
   "cell_type": "code",
   "execution_count": 38,
   "metadata": {
    "ExecuteTime": {
     "end_time": "2022-01-07T13:29:51.318219Z",
     "start_time": "2022-01-07T13:29:51.241Z"
    },
    "scrolled": true
   },
   "outputs": [
    {
     "data": {
      "text/html": [
       "'D:/Program Files/R/R-4.1.1/R-4.1.1/library/haven/examples/iris.dta'"
      ],
      "text/latex": [
       "'D:/Program Files/R/R-4.1.1/R-4.1.1/library/haven/examples/iris.dta'"
      ],
      "text/markdown": [
       "'D:/Program Files/R/R-4.1.1/R-4.1.1/library/haven/examples/iris.dta'"
      ],
      "text/plain": [
       "[1] \"D:/Program Files/R/R-4.1.1/R-4.1.1/library/haven/examples/iris.dta\""
      ]
     },
     "metadata": {},
     "output_type": "display_data"
    },
    {
     "data": {
      "text/html": [
       "<table class=\"dataframe\">\n",
       "<caption>A tibble: 150 × 5</caption>\n",
       "<thead>\n",
       "\t<tr><th scope=col>sepallength</th><th scope=col>sepalwidth</th><th scope=col>petallength</th><th scope=col>petalwidth</th><th scope=col>species</th></tr>\n",
       "\t<tr><th scope=col>&lt;dbl&gt;</th><th scope=col>&lt;dbl&gt;</th><th scope=col>&lt;dbl&gt;</th><th scope=col>&lt;dbl&gt;</th><th scope=col>&lt;chr&gt;</th></tr>\n",
       "</thead>\n",
       "<tbody>\n",
       "\t<tr><td>5.1</td><td>3.5</td><td>1.4</td><td>0.2</td><td>setosa</td></tr>\n",
       "\t<tr><td>4.9</td><td>3.0</td><td>1.4</td><td>0.2</td><td>setosa</td></tr>\n",
       "\t<tr><td>4.7</td><td>3.2</td><td>1.3</td><td>0.2</td><td>setosa</td></tr>\n",
       "\t<tr><td>4.6</td><td>3.1</td><td>1.5</td><td>0.2</td><td>setosa</td></tr>\n",
       "\t<tr><td>5.0</td><td>3.6</td><td>1.4</td><td>0.2</td><td>setosa</td></tr>\n",
       "\t<tr><td>5.4</td><td>3.9</td><td>1.7</td><td>0.4</td><td>setosa</td></tr>\n",
       "\t<tr><td>4.6</td><td>3.4</td><td>1.4</td><td>0.3</td><td>setosa</td></tr>\n",
       "\t<tr><td>5.0</td><td>3.4</td><td>1.5</td><td>0.2</td><td>setosa</td></tr>\n",
       "\t<tr><td>4.4</td><td>2.9</td><td>1.4</td><td>0.2</td><td>setosa</td></tr>\n",
       "\t<tr><td>4.9</td><td>3.1</td><td>1.5</td><td>0.1</td><td>setosa</td></tr>\n",
       "\t<tr><td>5.4</td><td>3.7</td><td>1.5</td><td>0.2</td><td>setosa</td></tr>\n",
       "\t<tr><td>4.8</td><td>3.4</td><td>1.6</td><td>0.2</td><td>setosa</td></tr>\n",
       "\t<tr><td>4.8</td><td>3.0</td><td>1.4</td><td>0.1</td><td>setosa</td></tr>\n",
       "\t<tr><td>4.3</td><td>3.0</td><td>1.1</td><td>0.1</td><td>setosa</td></tr>\n",
       "\t<tr><td>5.8</td><td>4.0</td><td>1.2</td><td>0.2</td><td>setosa</td></tr>\n",
       "\t<tr><td>5.7</td><td>4.4</td><td>1.5</td><td>0.4</td><td>setosa</td></tr>\n",
       "\t<tr><td>5.4</td><td>3.9</td><td>1.3</td><td>0.4</td><td>setosa</td></tr>\n",
       "\t<tr><td>5.1</td><td>3.5</td><td>1.4</td><td>0.3</td><td>setosa</td></tr>\n",
       "\t<tr><td>5.7</td><td>3.8</td><td>1.7</td><td>0.3</td><td>setosa</td></tr>\n",
       "\t<tr><td>5.1</td><td>3.8</td><td>1.5</td><td>0.3</td><td>setosa</td></tr>\n",
       "\t<tr><td>5.4</td><td>3.4</td><td>1.7</td><td>0.2</td><td>setosa</td></tr>\n",
       "\t<tr><td>5.1</td><td>3.7</td><td>1.5</td><td>0.4</td><td>setosa</td></tr>\n",
       "\t<tr><td>4.6</td><td>3.6</td><td>1.0</td><td>0.2</td><td>setosa</td></tr>\n",
       "\t<tr><td>5.1</td><td>3.3</td><td>1.7</td><td>0.5</td><td>setosa</td></tr>\n",
       "\t<tr><td>4.8</td><td>3.4</td><td>1.9</td><td>0.2</td><td>setosa</td></tr>\n",
       "\t<tr><td>5.0</td><td>3.0</td><td>1.6</td><td>0.2</td><td>setosa</td></tr>\n",
       "\t<tr><td>5.0</td><td>3.4</td><td>1.6</td><td>0.4</td><td>setosa</td></tr>\n",
       "\t<tr><td>5.2</td><td>3.5</td><td>1.5</td><td>0.2</td><td>setosa</td></tr>\n",
       "\t<tr><td>5.2</td><td>3.4</td><td>1.4</td><td>0.2</td><td>setosa</td></tr>\n",
       "\t<tr><td>4.7</td><td>3.2</td><td>1.6</td><td>0.2</td><td>setosa</td></tr>\n",
       "\t<tr><td>...</td><td>...</td><td>...</td><td>...</td><td>...</td></tr>\n",
       "\t<tr><td>6.9</td><td>3.2</td><td>5.7</td><td>2.3</td><td>virginica</td></tr>\n",
       "\t<tr><td>5.6</td><td>2.8</td><td>4.9</td><td>2.0</td><td>virginica</td></tr>\n",
       "\t<tr><td>7.7</td><td>2.8</td><td>6.7</td><td>2.0</td><td>virginica</td></tr>\n",
       "\t<tr><td>6.3</td><td>2.7</td><td>4.9</td><td>1.8</td><td>virginica</td></tr>\n",
       "\t<tr><td>6.7</td><td>3.3</td><td>5.7</td><td>2.1</td><td>virginica</td></tr>\n",
       "\t<tr><td>7.2</td><td>3.2</td><td>6.0</td><td>1.8</td><td>virginica</td></tr>\n",
       "\t<tr><td>6.2</td><td>2.8</td><td>4.8</td><td>1.8</td><td>virginica</td></tr>\n",
       "\t<tr><td>6.1</td><td>3.0</td><td>4.9</td><td>1.8</td><td>virginica</td></tr>\n",
       "\t<tr><td>6.4</td><td>2.8</td><td>5.6</td><td>2.1</td><td>virginica</td></tr>\n",
       "\t<tr><td>7.2</td><td>3.0</td><td>5.8</td><td>1.6</td><td>virginica</td></tr>\n",
       "\t<tr><td>7.4</td><td>2.8</td><td>6.1</td><td>1.9</td><td>virginica</td></tr>\n",
       "\t<tr><td>7.9</td><td>3.8</td><td>6.4</td><td>2.0</td><td>virginica</td></tr>\n",
       "\t<tr><td>6.4</td><td>2.8</td><td>5.6</td><td>2.2</td><td>virginica</td></tr>\n",
       "\t<tr><td>6.3</td><td>2.8</td><td>5.1</td><td>1.5</td><td>virginica</td></tr>\n",
       "\t<tr><td>6.1</td><td>2.6</td><td>5.6</td><td>1.4</td><td>virginica</td></tr>\n",
       "\t<tr><td>7.7</td><td>3.0</td><td>6.1</td><td>2.3</td><td>virginica</td></tr>\n",
       "\t<tr><td>6.3</td><td>3.4</td><td>5.6</td><td>2.4</td><td>virginica</td></tr>\n",
       "\t<tr><td>6.4</td><td>3.1</td><td>5.5</td><td>1.8</td><td>virginica</td></tr>\n",
       "\t<tr><td>6.0</td><td>3.0</td><td>4.8</td><td>1.8</td><td>virginica</td></tr>\n",
       "\t<tr><td>6.9</td><td>3.1</td><td>5.4</td><td>2.1</td><td>virginica</td></tr>\n",
       "\t<tr><td>6.7</td><td>3.1</td><td>5.6</td><td>2.4</td><td>virginica</td></tr>\n",
       "\t<tr><td>6.9</td><td>3.1</td><td>5.1</td><td>2.3</td><td>virginica</td></tr>\n",
       "\t<tr><td>5.8</td><td>2.7</td><td>5.1</td><td>1.9</td><td>virginica</td></tr>\n",
       "\t<tr><td>6.8</td><td>3.2</td><td>5.9</td><td>2.3</td><td>virginica</td></tr>\n",
       "\t<tr><td>6.7</td><td>3.3</td><td>5.7</td><td>2.5</td><td>virginica</td></tr>\n",
       "\t<tr><td>6.7</td><td>3.0</td><td>5.2</td><td>2.3</td><td>virginica</td></tr>\n",
       "\t<tr><td>6.3</td><td>2.5</td><td>5.0</td><td>1.9</td><td>virginica</td></tr>\n",
       "\t<tr><td>6.5</td><td>3.0</td><td>5.2</td><td>2.0</td><td>virginica</td></tr>\n",
       "\t<tr><td>6.2</td><td>3.4</td><td>5.4</td><td>2.3</td><td>virginica</td></tr>\n",
       "\t<tr><td>5.9</td><td>3.0</td><td>5.1</td><td>1.8</td><td>virginica</td></tr>\n",
       "</tbody>\n",
       "</table>\n"
      ],
      "text/latex": [
       "A tibble: 150 × 5\n",
       "\\begin{tabular}{lllll}\n",
       " sepallength & sepalwidth & petallength & petalwidth & species\\\\\n",
       " <dbl> & <dbl> & <dbl> & <dbl> & <chr>\\\\\n",
       "\\hline\n",
       "\t 5.1 & 3.5 & 1.4 & 0.2 & setosa\\\\\n",
       "\t 4.9 & 3.0 & 1.4 & 0.2 & setosa\\\\\n",
       "\t 4.7 & 3.2 & 1.3 & 0.2 & setosa\\\\\n",
       "\t 4.6 & 3.1 & 1.5 & 0.2 & setosa\\\\\n",
       "\t 5.0 & 3.6 & 1.4 & 0.2 & setosa\\\\\n",
       "\t 5.4 & 3.9 & 1.7 & 0.4 & setosa\\\\\n",
       "\t 4.6 & 3.4 & 1.4 & 0.3 & setosa\\\\\n",
       "\t 5.0 & 3.4 & 1.5 & 0.2 & setosa\\\\\n",
       "\t 4.4 & 2.9 & 1.4 & 0.2 & setosa\\\\\n",
       "\t 4.9 & 3.1 & 1.5 & 0.1 & setosa\\\\\n",
       "\t 5.4 & 3.7 & 1.5 & 0.2 & setosa\\\\\n",
       "\t 4.8 & 3.4 & 1.6 & 0.2 & setosa\\\\\n",
       "\t 4.8 & 3.0 & 1.4 & 0.1 & setosa\\\\\n",
       "\t 4.3 & 3.0 & 1.1 & 0.1 & setosa\\\\\n",
       "\t 5.8 & 4.0 & 1.2 & 0.2 & setosa\\\\\n",
       "\t 5.7 & 4.4 & 1.5 & 0.4 & setosa\\\\\n",
       "\t 5.4 & 3.9 & 1.3 & 0.4 & setosa\\\\\n",
       "\t 5.1 & 3.5 & 1.4 & 0.3 & setosa\\\\\n",
       "\t 5.7 & 3.8 & 1.7 & 0.3 & setosa\\\\\n",
       "\t 5.1 & 3.8 & 1.5 & 0.3 & setosa\\\\\n",
       "\t 5.4 & 3.4 & 1.7 & 0.2 & setosa\\\\\n",
       "\t 5.1 & 3.7 & 1.5 & 0.4 & setosa\\\\\n",
       "\t 4.6 & 3.6 & 1.0 & 0.2 & setosa\\\\\n",
       "\t 5.1 & 3.3 & 1.7 & 0.5 & setosa\\\\\n",
       "\t 4.8 & 3.4 & 1.9 & 0.2 & setosa\\\\\n",
       "\t 5.0 & 3.0 & 1.6 & 0.2 & setosa\\\\\n",
       "\t 5.0 & 3.4 & 1.6 & 0.4 & setosa\\\\\n",
       "\t 5.2 & 3.5 & 1.5 & 0.2 & setosa\\\\\n",
       "\t 5.2 & 3.4 & 1.4 & 0.2 & setosa\\\\\n",
       "\t 4.7 & 3.2 & 1.6 & 0.2 & setosa\\\\\n",
       "\t ... & ... & ... & ... & ...\\\\\n",
       "\t 6.9 & 3.2 & 5.7 & 2.3 & virginica\\\\\n",
       "\t 5.6 & 2.8 & 4.9 & 2.0 & virginica\\\\\n",
       "\t 7.7 & 2.8 & 6.7 & 2.0 & virginica\\\\\n",
       "\t 6.3 & 2.7 & 4.9 & 1.8 & virginica\\\\\n",
       "\t 6.7 & 3.3 & 5.7 & 2.1 & virginica\\\\\n",
       "\t 7.2 & 3.2 & 6.0 & 1.8 & virginica\\\\\n",
       "\t 6.2 & 2.8 & 4.8 & 1.8 & virginica\\\\\n",
       "\t 6.1 & 3.0 & 4.9 & 1.8 & virginica\\\\\n",
       "\t 6.4 & 2.8 & 5.6 & 2.1 & virginica\\\\\n",
       "\t 7.2 & 3.0 & 5.8 & 1.6 & virginica\\\\\n",
       "\t 7.4 & 2.8 & 6.1 & 1.9 & virginica\\\\\n",
       "\t 7.9 & 3.8 & 6.4 & 2.0 & virginica\\\\\n",
       "\t 6.4 & 2.8 & 5.6 & 2.2 & virginica\\\\\n",
       "\t 6.3 & 2.8 & 5.1 & 1.5 & virginica\\\\\n",
       "\t 6.1 & 2.6 & 5.6 & 1.4 & virginica\\\\\n",
       "\t 7.7 & 3.0 & 6.1 & 2.3 & virginica\\\\\n",
       "\t 6.3 & 3.4 & 5.6 & 2.4 & virginica\\\\\n",
       "\t 6.4 & 3.1 & 5.5 & 1.8 & virginica\\\\\n",
       "\t 6.0 & 3.0 & 4.8 & 1.8 & virginica\\\\\n",
       "\t 6.9 & 3.1 & 5.4 & 2.1 & virginica\\\\\n",
       "\t 6.7 & 3.1 & 5.6 & 2.4 & virginica\\\\\n",
       "\t 6.9 & 3.1 & 5.1 & 2.3 & virginica\\\\\n",
       "\t 5.8 & 2.7 & 5.1 & 1.9 & virginica\\\\\n",
       "\t 6.8 & 3.2 & 5.9 & 2.3 & virginica\\\\\n",
       "\t 6.7 & 3.3 & 5.7 & 2.5 & virginica\\\\\n",
       "\t 6.7 & 3.0 & 5.2 & 2.3 & virginica\\\\\n",
       "\t 6.3 & 2.5 & 5.0 & 1.9 & virginica\\\\\n",
       "\t 6.5 & 3.0 & 5.2 & 2.0 & virginica\\\\\n",
       "\t 6.2 & 3.4 & 5.4 & 2.3 & virginica\\\\\n",
       "\t 5.9 & 3.0 & 5.1 & 1.8 & virginica\\\\\n",
       "\\end{tabular}\n"
      ],
      "text/markdown": [
       "\n",
       "A tibble: 150 × 5\n",
       "\n",
       "| sepallength &lt;dbl&gt; | sepalwidth &lt;dbl&gt; | petallength &lt;dbl&gt; | petalwidth &lt;dbl&gt; | species &lt;chr&gt; |\n",
       "|---|---|---|---|---|\n",
       "| 5.1 | 3.5 | 1.4 | 0.2 | setosa |\n",
       "| 4.9 | 3.0 | 1.4 | 0.2 | setosa |\n",
       "| 4.7 | 3.2 | 1.3 | 0.2 | setosa |\n",
       "| 4.6 | 3.1 | 1.5 | 0.2 | setosa |\n",
       "| 5.0 | 3.6 | 1.4 | 0.2 | setosa |\n",
       "| 5.4 | 3.9 | 1.7 | 0.4 | setosa |\n",
       "| 4.6 | 3.4 | 1.4 | 0.3 | setosa |\n",
       "| 5.0 | 3.4 | 1.5 | 0.2 | setosa |\n",
       "| 4.4 | 2.9 | 1.4 | 0.2 | setosa |\n",
       "| 4.9 | 3.1 | 1.5 | 0.1 | setosa |\n",
       "| 5.4 | 3.7 | 1.5 | 0.2 | setosa |\n",
       "| 4.8 | 3.4 | 1.6 | 0.2 | setosa |\n",
       "| 4.8 | 3.0 | 1.4 | 0.1 | setosa |\n",
       "| 4.3 | 3.0 | 1.1 | 0.1 | setosa |\n",
       "| 5.8 | 4.0 | 1.2 | 0.2 | setosa |\n",
       "| 5.7 | 4.4 | 1.5 | 0.4 | setosa |\n",
       "| 5.4 | 3.9 | 1.3 | 0.4 | setosa |\n",
       "| 5.1 | 3.5 | 1.4 | 0.3 | setosa |\n",
       "| 5.7 | 3.8 | 1.7 | 0.3 | setosa |\n",
       "| 5.1 | 3.8 | 1.5 | 0.3 | setosa |\n",
       "| 5.4 | 3.4 | 1.7 | 0.2 | setosa |\n",
       "| 5.1 | 3.7 | 1.5 | 0.4 | setosa |\n",
       "| 4.6 | 3.6 | 1.0 | 0.2 | setosa |\n",
       "| 5.1 | 3.3 | 1.7 | 0.5 | setosa |\n",
       "| 4.8 | 3.4 | 1.9 | 0.2 | setosa |\n",
       "| 5.0 | 3.0 | 1.6 | 0.2 | setosa |\n",
       "| 5.0 | 3.4 | 1.6 | 0.4 | setosa |\n",
       "| 5.2 | 3.5 | 1.5 | 0.2 | setosa |\n",
       "| 5.2 | 3.4 | 1.4 | 0.2 | setosa |\n",
       "| 4.7 | 3.2 | 1.6 | 0.2 | setosa |\n",
       "| ... | ... | ... | ... | ... |\n",
       "| 6.9 | 3.2 | 5.7 | 2.3 | virginica |\n",
       "| 5.6 | 2.8 | 4.9 | 2.0 | virginica |\n",
       "| 7.7 | 2.8 | 6.7 | 2.0 | virginica |\n",
       "| 6.3 | 2.7 | 4.9 | 1.8 | virginica |\n",
       "| 6.7 | 3.3 | 5.7 | 2.1 | virginica |\n",
       "| 7.2 | 3.2 | 6.0 | 1.8 | virginica |\n",
       "| 6.2 | 2.8 | 4.8 | 1.8 | virginica |\n",
       "| 6.1 | 3.0 | 4.9 | 1.8 | virginica |\n",
       "| 6.4 | 2.8 | 5.6 | 2.1 | virginica |\n",
       "| 7.2 | 3.0 | 5.8 | 1.6 | virginica |\n",
       "| 7.4 | 2.8 | 6.1 | 1.9 | virginica |\n",
       "| 7.9 | 3.8 | 6.4 | 2.0 | virginica |\n",
       "| 6.4 | 2.8 | 5.6 | 2.2 | virginica |\n",
       "| 6.3 | 2.8 | 5.1 | 1.5 | virginica |\n",
       "| 6.1 | 2.6 | 5.6 | 1.4 | virginica |\n",
       "| 7.7 | 3.0 | 6.1 | 2.3 | virginica |\n",
       "| 6.3 | 3.4 | 5.6 | 2.4 | virginica |\n",
       "| 6.4 | 3.1 | 5.5 | 1.8 | virginica |\n",
       "| 6.0 | 3.0 | 4.8 | 1.8 | virginica |\n",
       "| 6.9 | 3.1 | 5.4 | 2.1 | virginica |\n",
       "| 6.7 | 3.1 | 5.6 | 2.4 | virginica |\n",
       "| 6.9 | 3.1 | 5.1 | 2.3 | virginica |\n",
       "| 5.8 | 2.7 | 5.1 | 1.9 | virginica |\n",
       "| 6.8 | 3.2 | 5.9 | 2.3 | virginica |\n",
       "| 6.7 | 3.3 | 5.7 | 2.5 | virginica |\n",
       "| 6.7 | 3.0 | 5.2 | 2.3 | virginica |\n",
       "| 6.3 | 2.5 | 5.0 | 1.9 | virginica |\n",
       "| 6.5 | 3.0 | 5.2 | 2.0 | virginica |\n",
       "| 6.2 | 3.4 | 5.4 | 2.3 | virginica |\n",
       "| 5.9 | 3.0 | 5.1 | 1.8 | virginica |\n",
       "\n"
      ],
      "text/plain": [
       "    sepallength sepalwidth petallength petalwidth species  \n",
       "1   5.1         3.5        1.4         0.2        setosa   \n",
       "2   4.9         3.0        1.4         0.2        setosa   \n",
       "3   4.7         3.2        1.3         0.2        setosa   \n",
       "4   4.6         3.1        1.5         0.2        setosa   \n",
       "5   5.0         3.6        1.4         0.2        setosa   \n",
       "6   5.4         3.9        1.7         0.4        setosa   \n",
       "7   4.6         3.4        1.4         0.3        setosa   \n",
       "8   5.0         3.4        1.5         0.2        setosa   \n",
       "9   4.4         2.9        1.4         0.2        setosa   \n",
       "10  4.9         3.1        1.5         0.1        setosa   \n",
       "11  5.4         3.7        1.5         0.2        setosa   \n",
       "12  4.8         3.4        1.6         0.2        setosa   \n",
       "13  4.8         3.0        1.4         0.1        setosa   \n",
       "14  4.3         3.0        1.1         0.1        setosa   \n",
       "15  5.8         4.0        1.2         0.2        setosa   \n",
       "16  5.7         4.4        1.5         0.4        setosa   \n",
       "17  5.4         3.9        1.3         0.4        setosa   \n",
       "18  5.1         3.5        1.4         0.3        setosa   \n",
       "19  5.7         3.8        1.7         0.3        setosa   \n",
       "20  5.1         3.8        1.5         0.3        setosa   \n",
       "21  5.4         3.4        1.7         0.2        setosa   \n",
       "22  5.1         3.7        1.5         0.4        setosa   \n",
       "23  4.6         3.6        1.0         0.2        setosa   \n",
       "24  5.1         3.3        1.7         0.5        setosa   \n",
       "25  4.8         3.4        1.9         0.2        setosa   \n",
       "26  5.0         3.0        1.6         0.2        setosa   \n",
       "27  5.0         3.4        1.6         0.4        setosa   \n",
       "28  5.2         3.5        1.5         0.2        setosa   \n",
       "29  5.2         3.4        1.4         0.2        setosa   \n",
       "30  4.7         3.2        1.6         0.2        setosa   \n",
       "... ...         ...        ...         ...        ...      \n",
       "121 6.9         3.2        5.7         2.3        virginica\n",
       "122 5.6         2.8        4.9         2.0        virginica\n",
       "123 7.7         2.8        6.7         2.0        virginica\n",
       "124 6.3         2.7        4.9         1.8        virginica\n",
       "125 6.7         3.3        5.7         2.1        virginica\n",
       "126 7.2         3.2        6.0         1.8        virginica\n",
       "127 6.2         2.8        4.8         1.8        virginica\n",
       "128 6.1         3.0        4.9         1.8        virginica\n",
       "129 6.4         2.8        5.6         2.1        virginica\n",
       "130 7.2         3.0        5.8         1.6        virginica\n",
       "131 7.4         2.8        6.1         1.9        virginica\n",
       "132 7.9         3.8        6.4         2.0        virginica\n",
       "133 6.4         2.8        5.6         2.2        virginica\n",
       "134 6.3         2.8        5.1         1.5        virginica\n",
       "135 6.1         2.6        5.6         1.4        virginica\n",
       "136 7.7         3.0        6.1         2.3        virginica\n",
       "137 6.3         3.4        5.6         2.4        virginica\n",
       "138 6.4         3.1        5.5         1.8        virginica\n",
       "139 6.0         3.0        4.8         1.8        virginica\n",
       "140 6.9         3.1        5.4         2.1        virginica\n",
       "141 6.7         3.1        5.6         2.4        virginica\n",
       "142 6.9         3.1        5.1         2.3        virginica\n",
       "143 5.8         2.7        5.1         1.9        virginica\n",
       "144 6.8         3.2        5.9         2.3        virginica\n",
       "145 6.7         3.3        5.7         2.5        virginica\n",
       "146 6.7         3.0        5.2         2.3        virginica\n",
       "147 6.3         2.5        5.0         1.9        virginica\n",
       "148 6.5         3.0        5.2         2.0        virginica\n",
       "149 6.2         3.4        5.4         2.3        virginica\n",
       "150 5.9         3.0        5.1         1.8        virginica"
      ]
     },
     "metadata": {},
     "output_type": "display_data"
    }
   ],
   "source": [
    "# 读取STATA数据\n",
    "path <- system.file(\"examples\", \"iris.dta\", package = \"haven\")\n",
    "path\n",
    "\n",
    "\n",
    "read_dta(path)"
   ]
  },
  {
   "cell_type": "markdown",
   "metadata": {},
   "source": [
    "## 1.5 ggplot2介绍\n",
    "ggplot2是一个强大而灵活的R包，由Hadley Wickham实现，用于生成优雅的图形。ggplot2中的gg是指图形语法，这是一个使用“语法”来描述情节的图形概念。\n",
    "\n",
    "根据ggplot2的理念，一个统计图形可以被划分成为三个部分：Plot = 数据（data） + 图形美学（Aesthetics） + 几何变换（Geometry）\n",
    "\n",
    "数据: 使用ggplot2进行绘图，数据集的格式一般是数据框的格式。\n",
    "\n",
    "图形美学:  指定x和y变量，同时用来指点图形的颜色，大小，形状等等。\n",
    "\n",
    "几何变换: 几何变换用于指定绘制什么统计图形，条形图，点图或者任何图形。\n",
    "\n",
    "ggplot2提出关于统计图形的图形语法，而数据，图形美学，几何变换则是绘制统计图形的几个关键的要素。ggplot2包含两个关键的函数：\n",
    "\n",
    "1. qplot：用于快速的绘制统计图形\n",
    "\n",
    "2. ggplot2： 通过不同的图层绘制图形，比qplot更加的灵活\n",
    "\n",
    "在绘制好图形之后 ，last_plot()函数，可以返回最近绘制的一幅图形。而ggsave(\"plot.png\", width = 5, height = 5)函数，则可以将最近绘制的图形保存下来。\n",
    "\n"
   ]
  },
  {
   "cell_type": "markdown",
   "metadata": {},
   "source": [
    "### 1.5.1 qplot 快速绘图\n",
    "\n",
    "函数qplot()非常类似于标准的R base 的plot()函数。它可以用来快速轻松地创建不同类型的图:散点图、框图、小提琴图、直方图和密度图。\n",
    "qplot()的简化格式为:\n",
    "\n",
    "```\n",
    "qplot(x, y = NULL, data, geom=\"auto\")\n",
    "```\n",
    "qplot绘图函数的参数如下：\n",
    "\n",
    "•x, y:分别为x和y值。参数y是可选的，这取决于要创建的图形的类型。\n",
    "•数据:要使用的数据帧(可选)。\n",
    "•geom:指定要使用的geom的字符向量。如果x和y默认为“point”\n",
    "，如果只指定x，则指定“histogram”。\n",
    "其他参数，如main、xlab和ylab，也可以用于向绘图添加主标题和轴标签。\n",
    "\n",
    "首先使用qplot绘制散点图，qplot函数如果指定了两个连续变量的话，默认会绘制散点图"
   ]
  },
  {
   "cell_type": "code",
   "execution_count": 42,
   "metadata": {
    "ExecuteTime": {
     "end_time": "2022-01-07T13:34:17.703772Z",
     "start_time": "2022-01-07T13:34:17.555Z"
    }
   },
   "outputs": [
    {
     "data": {
      "image/png": "[encoded data removed]",
      "text/plain": [
       "plot without title"
      ]
     },
     "metadata": {
      "image/png": {
       "height": 420,
       "width": 420
      }
     },
     "output_type": "display_data"
    }
   ],
   "source": [
    "# 绘制散点图\n",
    "#install.packages(\"ggplot2\")\n",
    "library(ggplot2)\n",
    "qplot(x = speed,y = dist,data = cars)\n",
    "#上面的代码绘制了cars数据集中汽车速度与停车距离的一个散点图\n",
    "#上面的代码等价于\n",
    "#qplot(x = speed,y = dist,data = cars,geom=\"point\")\n",
    "#因为默认的是geom=\"point\"所以在绘制散点图的时候可以省略掉。\n",
    "#需要注意的是，可以同时指定两种图形几何。\n"
   ]
  },
  {
   "cell_type": "code",
   "execution_count": 43,
   "metadata": {
    "ExecuteTime": {
     "end_time": "2022-01-07T13:34:31.650850Z",
     "start_time": "2022-01-07T13:34:30.392Z"
    }
   },
   "outputs": [
    {
     "name": "stderr",
     "output_type": "stream",
     "text": [
      "`geom_smooth()` using method = 'loess' and formula 'y ~ x'\n",
      "\n"
     ]
    },
    {
     "data": {
      "image/png": "[encoded data removed]",
      "text/plain": [
       "plot without title"
      ]
     },
     "metadata": {
      "image/png": {
       "height": 420,
       "width": 420
      }
     },
     "output_type": "display_data"
    }
   ],
   "source": [
    "# 添加拟合曲线\n",
    "qplot(x = speed,y = dist,data = cars,geom = c(\"point\",\"smooth\"))"
   ]
  },
  {
   "cell_type": "code",
   "execution_count": null,
   "metadata": {},
   "outputs": [],
   "source": []
  }
 ],
 "metadata": {
  "hide_input": false,
  "kernelspec": {
   "display_name": "R",
   "language": "R",
   "name": "ir"
  },
  "language_info": {
   "codemirror_mode": "r",
   "file_extension": ".r",
   "mimetype": "text/x-r-source",
   "name": "R",
   "pygments_lexer": "r",
   "version": "4.1.1"
  },
  "toc": {
   "base_numbering": 1,
   "nav_menu": {},
   "number_sections": false,
   "sideBar": true,
   "skip_h1_title": false,
   "title_cell": "Table of Contents",
   "title_sidebar": "Contents",
   "toc_cell": false,
   "toc_position": {},
   "toc_section_display": true,
   "toc_window_display": false
  },
  "varInspector": {
   "cols": {
    "lenName": 16,
    "lenType": 16,
    "lenVar": 40
   },
   "kernels_config": {
    "python": {
     "delete_cmd_postfix": "",
     "delete_cmd_prefix": "del ",
     "library": "var_list.py",
     "varRefreshCmd": "print(var_dic_list())"
    },
    "r": {
     "delete_cmd_postfix": ") ",
     "delete_cmd_prefix": "rm(",
     "library": "var_list.r",
     "varRefreshCmd": "cat(var_dic_list()) "
    }
   },
   "types_to_exclude": [
    "module",
    "function",
    "builtin_function_or_method",
    "instance",
    "_Feature"
   ],
   "window_display": false
  }
 },
 "nbformat": 4,
 "nbformat_minor": 2
}
